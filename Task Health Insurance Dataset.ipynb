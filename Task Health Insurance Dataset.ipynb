{
 "cells": [
  {
   "cell_type": "markdown",
   "metadata": {},
   "source": [
    "# Task \"Health Insurance Dataset\""
   ]
  },
  {
   "cell_type": "markdown",
   "metadata": {},
   "source": [
    "Cherednik Alexandra Gennadievna"
   ]
  },
  {
   "cell_type": "code",
   "execution_count": 1,
   "metadata": {},
   "outputs": [],
   "source": [
    "import numpy as np\n",
    "import pandas as pd\n",
    "\n",
    "%matplotlib inline \n",
    "import matplotlib.pyplot as plt\n",
    "\n",
    "from sklearn.model_selection import train_test_split\n",
    "from sklearn.preprocessing import StandardScaler, QuantileTransformer\n",
    "\n",
    "from sklearn.linear_model import SGDRegressor\n",
    "from sklearn.tree import DecisionTreeRegressor\n",
    "from sklearn.metrics import mean_absolute_error, mean_squared_error, r2_score\n",
    "from sklearn.model_selection import cross_val_predict, cross_val_score, GridSearchCV, KFold\n",
    "\n",
    "from eli5.explain import explain_weights"
   ]
  },
  {
   "cell_type": "markdown",
   "metadata": {},
   "source": [
    "### Loading dataset from csv file"
   ]
  },
  {
   "cell_type": "code",
   "execution_count": 2,
   "metadata": {},
   "outputs": [
    {
     "data": {
      "text/html": [
       "<div>\n",
       "<style scoped>\n",
       "    .dataframe tbody tr th:only-of-type {\n",
       "        vertical-align: middle;\n",
       "    }\n",
       "\n",
       "    .dataframe tbody tr th {\n",
       "        vertical-align: top;\n",
       "    }\n",
       "\n",
       "    .dataframe thead th {\n",
       "        text-align: right;\n",
       "    }\n",
       "</style>\n",
       "<table border=\"1\" class=\"dataframe\">\n",
       "  <thead>\n",
       "    <tr style=\"text-align: right;\">\n",
       "      <th></th>\n",
       "      <th>age</th>\n",
       "      <th>sex</th>\n",
       "      <th>bmi</th>\n",
       "      <th>children</th>\n",
       "      <th>smoker</th>\n",
       "      <th>region</th>\n",
       "      <th>charges</th>\n",
       "    </tr>\n",
       "  </thead>\n",
       "  <tbody>\n",
       "    <tr>\n",
       "      <td>0</td>\n",
       "      <td>19</td>\n",
       "      <td>female</td>\n",
       "      <td>27.900</td>\n",
       "      <td>0</td>\n",
       "      <td>yes</td>\n",
       "      <td>southwest</td>\n",
       "      <td>16884.92400</td>\n",
       "    </tr>\n",
       "    <tr>\n",
       "      <td>1</td>\n",
       "      <td>18</td>\n",
       "      <td>male</td>\n",
       "      <td>33.770</td>\n",
       "      <td>1</td>\n",
       "      <td>no</td>\n",
       "      <td>southeast</td>\n",
       "      <td>1725.55230</td>\n",
       "    </tr>\n",
       "    <tr>\n",
       "      <td>2</td>\n",
       "      <td>28</td>\n",
       "      <td>male</td>\n",
       "      <td>33.000</td>\n",
       "      <td>3</td>\n",
       "      <td>no</td>\n",
       "      <td>southeast</td>\n",
       "      <td>4449.46200</td>\n",
       "    </tr>\n",
       "    <tr>\n",
       "      <td>3</td>\n",
       "      <td>33</td>\n",
       "      <td>male</td>\n",
       "      <td>22.705</td>\n",
       "      <td>0</td>\n",
       "      <td>no</td>\n",
       "      <td>northwest</td>\n",
       "      <td>21984.47061</td>\n",
       "    </tr>\n",
       "    <tr>\n",
       "      <td>4</td>\n",
       "      <td>32</td>\n",
       "      <td>male</td>\n",
       "      <td>28.880</td>\n",
       "      <td>0</td>\n",
       "      <td>no</td>\n",
       "      <td>northwest</td>\n",
       "      <td>3866.85520</td>\n",
       "    </tr>\n",
       "  </tbody>\n",
       "</table>\n",
       "</div>"
      ],
      "text/plain": [
       "   age     sex     bmi  children smoker     region      charges\n",
       "0   19  female  27.900         0    yes  southwest  16884.92400\n",
       "1   18    male  33.770         1     no  southeast   1725.55230\n",
       "2   28    male  33.000         3     no  southeast   4449.46200\n",
       "3   33    male  22.705         0     no  northwest  21984.47061\n",
       "4   32    male  28.880         0     no  northwest   3866.85520"
      ]
     },
     "execution_count": 2,
     "metadata": {},
     "output_type": "execute_result"
    }
   ],
   "source": [
    "df = pd.read_csv('ds_internship_task/insurance.csv')\n",
    "df.head()"
   ]
  },
  {
   "cell_type": "code",
   "execution_count": 3,
   "metadata": {},
   "outputs": [
    {
     "name": "stdout",
     "output_type": "stream",
     "text": [
      "<class 'pandas.core.frame.DataFrame'>\n",
      "RangeIndex: 1338 entries, 0 to 1337\n",
      "Data columns (total 7 columns):\n",
      "age         1338 non-null int64\n",
      "sex         1338 non-null object\n",
      "bmi         1338 non-null float64\n",
      "children    1338 non-null int64\n",
      "smoker      1338 non-null object\n",
      "region      1338 non-null object\n",
      "charges     1338 non-null float64\n",
      "dtypes: float64(2), int64(2), object(3)\n",
      "memory usage: 73.3+ KB\n"
     ]
    }
   ],
   "source": [
    "df.info()"
   ]
  },
  {
   "cell_type": "raw",
   "metadata": {},
   "source": [
    "Conclusion: 1) there are no gaps in the data\n",
    "            2) there is object data, need to convert into int type"
   ]
  },
  {
   "cell_type": "markdown",
   "metadata": {},
   "source": [
    "### Convert data to int type and create feature matrix 'x' and target vector 'y' "
   ]
  },
  {
   "cell_type": "code",
   "execution_count": 4,
   "metadata": {},
   "outputs": [],
   "source": [
    "y = df.charges.values"
   ]
  },
  {
   "cell_type": "code",
   "execution_count": 5,
   "metadata": {},
   "outputs": [
    {
     "data": {
      "text/plain": [
       "(1121.8739, 63770.42801)"
      ]
     },
     "execution_count": 5,
     "metadata": {},
     "output_type": "execute_result"
    }
   ],
   "source": [
    "min(y), max(y)"
   ]
  },
  {
   "cell_type": "code",
   "execution_count": 6,
   "metadata": {},
   "outputs": [
    {
     "data": {
      "image/png": "[encoded data removed]",
      "text/plain": [
       "<Figure size 432x288 with 1 Axes>"
      ]
     },
     "metadata": {
      "needs_background": "light"
     },
     "output_type": "display_data"
    }
   ],
   "source": [
    "bins = np.linspace(1000, 64000, 60)\n",
    "plt.hist(y, bins)\n",
    "plt.show()"
   ]
  },
  {
   "cell_type": "code",
   "execution_count": 7,
   "metadata": {},
   "outputs": [],
   "source": [
    "df['sex'] = df.sex.replace(['male','female'], [1,0]) # change feature 'sex' to int type (1 or 0)\n",
    "df['smoker'] = df.smoker.replace(['yes','no'], [1,0]) # change feature 'smoker' to int type (1 or 0)"
   ]
  },
  {
   "cell_type": "code",
   "execution_count": 8,
   "metadata": {},
   "outputs": [
    {
     "data": {
      "text/plain": [
       "southeast    364\n",
       "northwest    325\n",
       "southwest    325\n",
       "northeast    324\n",
       "Name: region, dtype: int64"
      ]
     },
     "execution_count": 8,
     "metadata": {},
     "output_type": "execute_result"
    }
   ],
   "source": [
    "# look at the feature region\n",
    "df.region.value_counts()"
   ]
  },
  {
   "cell_type": "raw",
   "metadata": {},
   "source": [
    "Conclusion: this feature is categorical. It has 4 categories, not much"
   ]
  },
  {
   "cell_type": "code",
   "execution_count": 9,
   "metadata": {},
   "outputs": [
    {
     "data": {
      "text/plain": [
       "(1338, 9)"
      ]
     },
     "execution_count": 9,
     "metadata": {},
     "output_type": "execute_result"
    }
   ],
   "source": [
    "df_x = pd.get_dummies(df.iloc[:,:6]) # get_dummies converts categorical features into n bool (for each category)\n",
    "x = df_x.values\n",
    "x.shape"
   ]
  },
  {
   "cell_type": "markdown",
   "metadata": {},
   "source": [
    "### Dividing the data into train and test sets"
   ]
  },
  {
   "cell_type": "code",
   "execution_count": 10,
   "metadata": {},
   "outputs": [],
   "source": [
    "x_train, x_test, y_train, y_test = train_test_split(x, y, test_size=0.2, \n",
    "                                                    random_state=42) # random state to get same results every run"
   ]
  },
  {
   "cell_type": "markdown",
   "metadata": {},
   "source": [
    "### Transformation of values"
   ]
  },
  {
   "cell_type": "code",
   "execution_count": 11,
   "metadata": {},
   "outputs": [],
   "source": [
    "scaler = StandardScaler().fit(x_train) # standardize features by removing the mean and scaling to unit variance\n",
    "x_train = scaler.transform(x_train)\n",
    "x_test = scaler.transform(x_test)"
   ]
  },
  {
   "cell_type": "code",
   "execution_count": 12,
   "metadata": {},
   "outputs": [
    {
     "data": {
      "text/plain": [
       "array([-0.04828395, -0.13741404,  1.10459501, ...,  0.32190594,\n",
       "        1.95919177,  0.08114773])"
      ]
     },
     "execution_count": 12,
     "metadata": {},
     "output_type": "execute_result"
    }
   ],
   "source": [
    "qt = QuantileTransformer(output_distribution='normal') # transforms the features to follow a normal distribution\n",
    "y_nd = qt.fit_transform(y_train.reshape(-1, 1)).flatten()\n",
    "y_nd"
   ]
  },
  {
   "cell_type": "code",
   "execution_count": 13,
   "metadata": {},
   "outputs": [
    {
     "data": {
      "image/png": "[encoded data removed]",
      "text/plain": [
       "<Figure size 432x288 with 1 Axes>"
      ]
     },
     "metadata": {
      "needs_background": "light"
     },
     "output_type": "display_data"
    }
   ],
   "source": [
    "plt.hist(y_nd, bins=30)\n",
    "plt.show()"
   ]
  },
  {
   "cell_type": "markdown",
   "metadata": {},
   "source": [
    "### Regression"
   ]
  },
  {
   "cell_type": "code",
   "execution_count": 14,
   "metadata": {},
   "outputs": [],
   "source": [
    "# grid with different parameters values for SGDRegressor\n",
    "grid_regression = {'loss': ['squared_loss', 'huber','epsilon_insensitive'],\n",
    "                   'penalty': ['l2', 'l1', 'elasticnet'],\n",
    "                   'alpha': [5e-4, 1e-4, 5e-5, 1e-5, 5e-6, 1e-6],\n",
    "                   'max_iter': [50, 100, 500, 800, 1000, 1200]\n",
    "                  }"
   ]
  },
  {
   "cell_type": "code",
   "execution_count": 15,
   "metadata": {},
   "outputs": [],
   "source": [
    "# joint enumeration of hyperparameters for training SGDRegressor\n",
    "search_regr = GridSearchCV(SGDRegressor(random_state=33), param_grid=grid_regression, \n",
    "                           cv=KFold(5, random_state=33), # K-Folds cross-validator (to split data in train/validation sets)\n",
    "                           verbose=1, scoring='neg_mean_absolute_error', n_jobs=-1)"
   ]
  },
  {
   "cell_type": "code",
   "execution_count": 16,
   "metadata": {},
   "outputs": [
    {
     "name": "stdout",
     "output_type": "stream",
     "text": [
      "Fitting 5 folds for each of 324 candidates, totalling 1620 fits\n"
     ]
    },
    {
     "name": "stderr",
     "output_type": "stream",
     "text": [
      "[Parallel(n_jobs=-1)]: Using backend LokyBackend with 4 concurrent workers.\n",
      "[Parallel(n_jobs=-1)]: Done 286 tasks      | elapsed:    3.3s\n",
      "[Parallel(n_jobs=-1)]: Done 1620 out of 1620 | elapsed:    4.7s finished\n"
     ]
    },
    {
     "data": {
      "text/plain": [
       "GridSearchCV(cv=KFold(n_splits=5, random_state=33, shuffle=False),\n",
       "             error_score='raise-deprecating',\n",
       "             estimator=SGDRegressor(alpha=0.0001, average=False,\n",
       "                                    early_stopping=False, epsilon=0.1,\n",
       "                                    eta0=0.01, fit_intercept=True,\n",
       "                                    l1_ratio=0.15, learning_rate='invscaling',\n",
       "                                    loss='squared_loss', max_iter=1000,\n",
       "                                    n_iter_no_change=5, penalty='l2',\n",
       "                                    power_t=0.25, random_state=33, shuffl...\n",
       "                                    tol=0.001, validation_fraction=0.1,\n",
       "                                    verbose=0, warm_start=False),\n",
       "             iid='warn', n_jobs=-1,\n",
       "             param_grid={'alpha': [0.0005, 0.0001, 5e-05, 1e-05, 5e-06, 1e-06],\n",
       "                         'loss': ['squared_loss', 'huber',\n",
       "                                  'epsilon_insensitive'],\n",
       "                         'max_iter': [50, 100, 500, 800, 1000, 1200],\n",
       "                         'penalty': ['l2', 'l1', 'elasticnet']},\n",
       "             pre_dispatch='2*n_jobs', refit=True, return_train_score=False,\n",
       "             scoring='neg_mean_absolute_error', verbose=1)"
      ]
     },
     "execution_count": 16,
     "metadata": {},
     "output_type": "execute_result"
    }
   ],
   "source": [
    "search_regr.fit(x_train, y_nd)"
   ]
  },
  {
   "cell_type": "code",
   "execution_count": 17,
   "metadata": {},
   "outputs": [],
   "source": [
    "model_regr = search_regr.best_estimator_ # best parameters"
   ]
  },
  {
   "cell_type": "markdown",
   "metadata": {},
   "source": [
    "##### Predict of the model on a test set"
   ]
  },
  {
   "cell_type": "code",
   "execution_count": 18,
   "metadata": {},
   "outputs": [],
   "source": [
    "predict_regr_nd = model_regr.predict(x_test) \n",
    "# predictions are in transformed format. need to be returned into original format"
   ]
  },
  {
   "cell_type": "code",
   "execution_count": 19,
   "metadata": {},
   "outputs": [],
   "source": [
    "predict_regr = qt.inverse_transform(predict_regr_nd.reshape(-1,1)).flatten()\n",
    "# inverse_transform returns prediction into original"
   ]
  },
  {
   "cell_type": "markdown",
   "metadata": {},
   "source": [
    "##### The quality of the model"
   ]
  },
  {
   "cell_type": "code",
   "execution_count": 20,
   "metadata": {
    "scrolled": true
   },
   "outputs": [
    {
     "data": {
      "text/plain": [
       "3330.66793389549"
      ]
     },
     "execution_count": 20,
     "metadata": {},
     "output_type": "execute_result"
    }
   ],
   "source": [
    "mean_absolute_error(y_test, predict_regr)"
   ]
  },
  {
   "cell_type": "code",
   "execution_count": 21,
   "metadata": {},
   "outputs": [
    {
     "data": {
      "text/plain": [
       "0.6688614494815224"
      ]
     },
     "execution_count": 21,
     "metadata": {},
     "output_type": "execute_result"
    }
   ],
   "source": [
    "r2_score(y_test, predict_regr) # 1.0 is ideal"
   ]
  },
  {
   "cell_type": "raw",
   "metadata": {},
   "source": [
    "Conclusion: on average, the model gives an error of 3000\n",
    "            coefficient of determination (r2 score) is ~0.66, which is not very good"
   ]
  },
  {
   "cell_type": "markdown",
   "metadata": {},
   "source": [
    "##### The factors with the highest impact"
   ]
  },
  {
   "cell_type": "code",
   "execution_count": 22,
   "metadata": {},
   "outputs": [],
   "source": [
    "feature_names = list(df_x.keys())"
   ]
  },
  {
   "cell_type": "code",
   "execution_count": 23,
   "metadata": {},
   "outputs": [
    {
     "data": {
      "text/html": [
       "\n",
       "    <style>\n",
       "    table.eli5-weights tr:hover {\n",
       "        filter: brightness(85%);\n",
       "    }\n",
       "</style>\n",
       "\n",
       "\n",
       "\n",
       "    \n",
       "\n",
       "    \n",
       "\n",
       "    \n",
       "\n",
       "    \n",
       "\n",
       "    \n",
       "\n",
       "    \n",
       "\n",
       "\n",
       "    \n",
       "\n",
       "    \n",
       "\n",
       "    \n",
       "\n",
       "    \n",
       "        \n",
       "\n",
       "    \n",
       "\n",
       "        \n",
       "            \n",
       "                \n",
       "                \n",
       "    \n",
       "        <p style=\"margin-bottom: 0.5em; margin-top: 0em\">\n",
       "            <b>\n",
       "    \n",
       "        y\n",
       "    \n",
       "</b>\n",
       "\n",
       "top features\n",
       "        </p>\n",
       "    \n",
       "    <table class=\"eli5-weights\"\n",
       "           style=\"border-collapse: collapse; border: none; margin-top: 0em; table-layout: auto; margin-bottom: 2em;\">\n",
       "        <thead>\n",
       "        <tr style=\"border: none;\">\n",
       "            \n",
       "                <th style=\"padding: 0 1em 0 0.5em; text-align: right; border: none;\" title=\"Feature weights. Note that weights do not account for feature value scales, so if feature values have different scales, features with highest weights might not be the most important.\">\n",
       "                    Weight<sup>?</sup>\n",
       "                </th>\n",
       "            \n",
       "            <th style=\"padding: 0 0.5em 0 0.5em; text-align: left; border: none;\">Feature</th>\n",
       "            \n",
       "        </tr>\n",
       "        </thead>\n",
       "        <tbody>\n",
       "        \n",
       "            <tr style=\"background-color: hsl(120, 100.00%, 80.00%); border: none;\">\n",
       "    <td style=\"padding: 0 1em 0 0.5em; text-align: right; border: none;\">\n",
       "        +0.676\n",
       "    </td>\n",
       "    <td style=\"padding: 0 0.5em 0 0.5em; text-align: left; border: none;\">\n",
       "        smoker\n",
       "    </td>\n",
       "    \n",
       "</tr>\n",
       "        \n",
       "            <tr style=\"background-color: hsl(120, 100.00%, 81.81%); border: none;\">\n",
       "    <td style=\"padding: 0 1em 0 0.5em; text-align: right; border: none;\">\n",
       "        +0.590\n",
       "    </td>\n",
       "    <td style=\"padding: 0 0.5em 0 0.5em; text-align: left; border: none;\">\n",
       "        age\n",
       "    </td>\n",
       "    \n",
       "</tr>\n",
       "        \n",
       "            <tr style=\"background-color: hsl(120, 100.00%, 94.42%); border: none;\">\n",
       "    <td style=\"padding: 0 1em 0 0.5em; text-align: right; border: none;\">\n",
       "        +0.109\n",
       "    </td>\n",
       "    <td style=\"padding: 0 0.5em 0 0.5em; text-align: left; border: none;\">\n",
       "        children\n",
       "    </td>\n",
       "    \n",
       "</tr>\n",
       "        \n",
       "            <tr style=\"background-color: hsl(120, 100.00%, 97.78%); border: none;\">\n",
       "    <td style=\"padding: 0 1em 0 0.5em; text-align: right; border: none;\">\n",
       "        +0.029\n",
       "    </td>\n",
       "    <td style=\"padding: 0 0.5em 0 0.5em; text-align: left; border: none;\">\n",
       "        bmi\n",
       "    </td>\n",
       "    \n",
       "</tr>\n",
       "        \n",
       "            <tr style=\"background-color: hsl(120, 100.00%, 97.92%); border: none;\">\n",
       "    <td style=\"padding: 0 1em 0 0.5em; text-align: right; border: none;\">\n",
       "        +0.027\n",
       "    </td>\n",
       "    <td style=\"padding: 0 0.5em 0 0.5em; text-align: left; border: none;\">\n",
       "        region_northeast\n",
       "    </td>\n",
       "    \n",
       "</tr>\n",
       "        \n",
       "            <tr style=\"background-color: hsl(120, 100.00%, 99.02%); border: none;\">\n",
       "    <td style=\"padding: 0 1em 0 0.5em; text-align: right; border: none;\">\n",
       "        +0.009\n",
       "    </td>\n",
       "    <td style=\"padding: 0 0.5em 0 0.5em; text-align: left; border: none;\">\n",
       "        region_northwest\n",
       "    </td>\n",
       "    \n",
       "</tr>\n",
       "        \n",
       "        \n",
       "\n",
       "        \n",
       "        \n",
       "            <tr style=\"background-color: hsl(0, 100.00%, 98.57%); border: none;\">\n",
       "    <td style=\"padding: 0 1em 0 0.5em; text-align: right; border: none;\">\n",
       "        -0.016\n",
       "    </td>\n",
       "    <td style=\"padding: 0 0.5em 0 0.5em; text-align: left; border: none;\">\n",
       "        region_southwest\n",
       "    </td>\n",
       "    \n",
       "</tr>\n",
       "        \n",
       "            <tr style=\"background-color: hsl(0, 100.00%, 98.33%); border: none;\">\n",
       "    <td style=\"padding: 0 1em 0 0.5em; text-align: right; border: none;\">\n",
       "        -0.019\n",
       "    </td>\n",
       "    <td style=\"padding: 0 0.5em 0 0.5em; text-align: left; border: none;\">\n",
       "        region_southeast\n",
       "    </td>\n",
       "    \n",
       "</tr>\n",
       "        \n",
       "            <tr style=\"background-color: hsl(0, 100.00%, 97.46%); border: none;\">\n",
       "    <td style=\"padding: 0 1em 0 0.5em; text-align: right; border: none;\">\n",
       "        -0.036\n",
       "    </td>\n",
       "    <td style=\"padding: 0 0.5em 0 0.5em; text-align: left; border: none;\">\n",
       "        sex\n",
       "    </td>\n",
       "    \n",
       "</tr>\n",
       "        \n",
       "            <tr style=\"background-color: hsl(0, 100.00%, 95.28%); border: none;\">\n",
       "    <td style=\"padding: 0 1em 0 0.5em; text-align: right; border: none;\">\n",
       "        -0.086\n",
       "    </td>\n",
       "    <td style=\"padding: 0 0.5em 0 0.5em; text-align: left; border: none;\">\n",
       "        &lt;BIAS&gt;\n",
       "    </td>\n",
       "    \n",
       "</tr>\n",
       "        \n",
       "\n",
       "        </tbody>\n",
       "    </table>\n",
       "\n",
       "            \n",
       "        \n",
       "\n",
       "        \n",
       "\n",
       "\n",
       "\n",
       "    \n",
       "\n",
       "    \n",
       "\n",
       "    \n",
       "\n",
       "    \n",
       "\n",
       "\n",
       "    \n",
       "\n",
       "    \n",
       "\n",
       "    \n",
       "\n",
       "    \n",
       "\n",
       "    \n",
       "\n",
       "    \n",
       "\n",
       "\n",
       "    \n",
       "\n",
       "    \n",
       "\n",
       "    \n",
       "\n",
       "    \n",
       "\n",
       "    \n",
       "\n",
       "    \n",
       "\n",
       "\n",
       "\n"
      ],
      "text/plain": [
       "Explanation(estimator=\"SGDRegressor(alpha=1e-06, average=False, early_stopping=False, epsilon=0.1,\\n             eta0=0.01, fit_intercept=True, l1_ratio=0.15,\\n             learning_rate='invscaling', loss='huber', max_iter=50,\\n             n_iter_no_change=5, penalty='l2', power_t=0.25, random_state=33,\\n             shuffle=True, tol=0.001, validation_fraction=0.1, verbose=0,\\n             warm_start=False)\", description=\"\\nFeatures with largest coefficients.\\nCaveats:\\n1. Be careful with features which are not\\n   independent - weights don't show their importance.\\n2. If scale of input features is different then scale of coefficients\\n   will also be different, making direct comparison between coefficient values\\n   incorrect.\\n3. Depending on regularization, rare features sometimes may have high\\n   coefficients; this doesn't mean they contribute much to the\\n   classification result for most examples.\\n\", error=None, method='linear model', is_regression=True, targets=[TargetExplanation(target='y', feature_weights=FeatureWeights(pos=[FeatureWeight(feature='smoker', weight=0.675837458189002, std=None, value=None), FeatureWeight(feature='age', weight=0.59004753598487, std=None, value=None), FeatureWeight(feature='children', weight=0.10900912490207115, std=None, value=None), FeatureWeight(feature='bmi', weight=0.029287135340183533, std=None, value=None), FeatureWeight(feature='region_northeast', weight=0.02655544465517969, std=None, value=None), FeatureWeight(feature='region_northwest', weight=0.009038256368479505, std=None, value=None)], neg=[FeatureWeight(feature='<BIAS>', weight=-0.08588053864749738, std=None, value=None), FeatureWeight(feature='sex', weight=-0.03550205076282068, std=None, value=None), FeatureWeight(feature='region_southeast', weight=-0.019491206826868182, std=None, value=None), FeatureWeight(feature='region_southwest', weight=-0.015659342096530218, std=None, value=None)], pos_remaining=0, neg_remaining=0), proba=None, score=None, weighted_spans=None, heatmap=None)], feature_importances=None, decision_tree=None, highlight_spaces=None, transition_features=None, image=None)"
      ]
     },
     "execution_count": 23,
     "metadata": {},
     "output_type": "execute_result"
    }
   ],
   "source": [
    "explain_weights(model_regr, feature_names = feature_names) # weights of model"
   ]
  },
  {
   "cell_type": "raw",
   "metadata": {},
   "source": [
    "Conclusion: The most impact factors are 'smoker' and 'age'"
   ]
  },
  {
   "cell_type": "markdown",
   "metadata": {},
   "source": [
    "### Decision Tree Regression"
   ]
  },
  {
   "cell_type": "markdown",
   "metadata": {},
   "source": [
    "#### One more model to predict results. The same principle of operation"
   ]
  },
  {
   "cell_type": "code",
   "execution_count": 24,
   "metadata": {},
   "outputs": [],
   "source": [
    "grid_tree = {'criterion': ['mse', 'friedman_mse', 'mae'],\n",
    "             'max_depth': [1, 3, 5, 7, 10, 15, 18],\n",
    "             'min_samples_split': [2, 5, 10, 15, 20],\n",
    "             'min_samples_leaf': [1, 2, 5, 10, 15]\n",
    "            }"
   ]
  },
  {
   "cell_type": "code",
   "execution_count": 36,
   "metadata": {},
   "outputs": [],
   "source": [
    "search_tree = GridSearchCV(DecisionTreeRegressor(random_state=33), param_grid=grid_tree,cv=KFold(5, random_state=33), \n",
    "                           verbose=1, scoring='neg_mean_absolute_error', n_jobs=-1)"
   ]
  },
  {
   "cell_type": "code",
   "execution_count": 37,
   "metadata": {},
   "outputs": [
    {
     "name": "stdout",
     "output_type": "stream",
     "text": [
      "Fitting 5 folds for each of 525 candidates, totalling 2625 fits\n"
     ]
    },
    {
     "name": "stderr",
     "output_type": "stream",
     "text": [
      "[Parallel(n_jobs=-1)]: Using backend LokyBackend with 4 concurrent workers.\n",
      "[Parallel(n_jobs=-1)]: Done 2625 out of 2625 | elapsed:    9.6s finished\n"
     ]
    },
    {
     "data": {
      "text/plain": [
       "GridSearchCV(cv=KFold(n_splits=5, random_state=33, shuffle=False),\n",
       "             error_score='raise-deprecating',\n",
       "             estimator=DecisionTreeRegressor(criterion='mse', max_depth=None,\n",
       "                                             max_features=None,\n",
       "                                             max_leaf_nodes=None,\n",
       "                                             min_impurity_decrease=0.0,\n",
       "                                             min_impurity_split=None,\n",
       "                                             min_samples_leaf=1,\n",
       "                                             min_samples_split=2,\n",
       "                                             min_weight_fraction_leaf=0.0,\n",
       "                                             presort=False, random_state=33,\n",
       "                                             splitter='best'),\n",
       "             iid='warn', n_jobs=-1,\n",
       "             param_grid={'criterion': ['mse', 'friedman_mse', 'mae'],\n",
       "                         'max_depth': [1, 3, 5, 7, 10, 15, 18],\n",
       "                         'min_samples_leaf': [1, 2, 5, 10, 15],\n",
       "                         'min_samples_split': [2, 5, 10, 15, 20]},\n",
       "             pre_dispatch='2*n_jobs', refit=True, return_train_score=False,\n",
       "             scoring='neg_mean_absolute_error', verbose=1)"
      ]
     },
     "execution_count": 37,
     "metadata": {},
     "output_type": "execute_result"
    }
   ],
   "source": [
    "search_tree.fit(x_train,y_nd)"
   ]
  },
  {
   "cell_type": "code",
   "execution_count": 27,
   "metadata": {},
   "outputs": [],
   "source": [
    "model_tree = search_tree.best_estimator_"
   ]
  },
  {
   "cell_type": "markdown",
   "metadata": {},
   "source": [
    "##### Predict of the model on a test set"
   ]
  },
  {
   "cell_type": "code",
   "execution_count": 28,
   "metadata": {},
   "outputs": [],
   "source": [
    "predict_tree_nd = model_tree.predict(x_test)"
   ]
  },
  {
   "cell_type": "code",
   "execution_count": 29,
   "metadata": {},
   "outputs": [],
   "source": [
    "predict_tree = qt.inverse_transform(predict_tree_nd.reshape(-1,1)).flatten()"
   ]
  },
  {
   "cell_type": "markdown",
   "metadata": {},
   "source": [
    "##### The quality of the model"
   ]
  },
  {
   "cell_type": "code",
   "execution_count": 30,
   "metadata": {},
   "outputs": [
    {
     "data": {
      "text/plain": [
       "1592.2559473913975"
      ]
     },
     "execution_count": 30,
     "metadata": {},
     "output_type": "execute_result"
    }
   ],
   "source": [
    "mean_absolute_error(y_test, predict_tree)"
   ]
  },
  {
   "cell_type": "code",
   "execution_count": 31,
   "metadata": {},
   "outputs": [
    {
     "data": {
      "text/plain": [
       "0.8786905993948687"
      ]
     },
     "execution_count": 31,
     "metadata": {},
     "output_type": "execute_result"
    }
   ],
   "source": [
    "r2_score(y_test, predict_tree)"
   ]
  },
  {
   "cell_type": "raw",
   "metadata": {},
   "source": [
    "Conclusion: on average, the model gives an error of 1600\n",
    "            coefficient of determination (r2 score) is ~0.87, which is almost close to 1"
   ]
  },
  {
   "cell_type": "markdown",
   "metadata": {},
   "source": [
    "##### The factors with the highest impact"
   ]
  },
  {
   "cell_type": "code",
   "execution_count": 33,
   "metadata": {},
   "outputs": [
    {
     "data": {
      "text/html": [
       "\n",
       "    <style>\n",
       "    table.eli5-weights tr:hover {\n",
       "        filter: brightness(85%);\n",
       "    }\n",
       "</style>\n",
       "\n",
       "\n",
       "\n",
       "    \n",
       "\n",
       "    \n",
       "\n",
       "    \n",
       "\n",
       "    \n",
       "\n",
       "    \n",
       "\n",
       "    \n",
       "\n",
       "\n",
       "    \n",
       "\n",
       "    \n",
       "\n",
       "    \n",
       "\n",
       "    \n",
       "\n",
       "    \n",
       "\n",
       "    \n",
       "\n",
       "\n",
       "    \n",
       "\n",
       "    \n",
       "\n",
       "    \n",
       "\n",
       "    \n",
       "\n",
       "    \n",
       "        <table class=\"eli5-weights eli5-feature-importances\" style=\"border-collapse: collapse; border: none; margin-top: 0em; table-layout: auto;\">\n",
       "    <thead>\n",
       "    <tr style=\"border: none;\">\n",
       "        <th style=\"padding: 0 1em 0 0.5em; text-align: right; border: none;\">Weight</th>\n",
       "        <th style=\"padding: 0 0.5em 0 0.5em; text-align: left; border: none;\">Feature</th>\n",
       "    </tr>\n",
       "    </thead>\n",
       "    <tbody>\n",
       "    \n",
       "        <tr style=\"background-color: hsl(120, 100.00%, 80.00%); border: none;\">\n",
       "            <td style=\"padding: 0 1em 0 0.5em; text-align: right; border: none;\">\n",
       "                0.5138\n",
       "                \n",
       "            </td>\n",
       "            <td style=\"padding: 0 0.5em 0 0.5em; text-align: left; border: none;\">\n",
       "                age\n",
       "            </td>\n",
       "        </tr>\n",
       "    \n",
       "        <tr style=\"background-color: hsl(120, 100.00%, 85.89%); border: none;\">\n",
       "            <td style=\"padding: 0 1em 0 0.5em; text-align: right; border: none;\">\n",
       "                0.3123\n",
       "                \n",
       "            </td>\n",
       "            <td style=\"padding: 0 0.5em 0 0.5em; text-align: left; border: none;\">\n",
       "                smoker\n",
       "            </td>\n",
       "        </tr>\n",
       "    \n",
       "        <tr style=\"background-color: hsl(120, 100.00%, 94.77%); border: none;\">\n",
       "            <td style=\"padding: 0 1em 0 0.5em; text-align: right; border: none;\">\n",
       "                0.0756\n",
       "                \n",
       "            </td>\n",
       "            <td style=\"padding: 0 0.5em 0 0.5em; text-align: left; border: none;\">\n",
       "                bmi\n",
       "            </td>\n",
       "        </tr>\n",
       "    \n",
       "        <tr style=\"background-color: hsl(120, 100.00%, 95.78%); border: none;\">\n",
       "            <td style=\"padding: 0 1em 0 0.5em; text-align: right; border: none;\">\n",
       "                0.0556\n",
       "                \n",
       "            </td>\n",
       "            <td style=\"padding: 0 0.5em 0 0.5em; text-align: left; border: none;\">\n",
       "                children\n",
       "            </td>\n",
       "        </tr>\n",
       "    \n",
       "        <tr style=\"background-color: hsl(120, 100.00%, 98.30%); border: none;\">\n",
       "            <td style=\"padding: 0 1em 0 0.5em; text-align: right; border: none;\">\n",
       "                0.0152\n",
       "                \n",
       "            </td>\n",
       "            <td style=\"padding: 0 0.5em 0 0.5em; text-align: left; border: none;\">\n",
       "                sex\n",
       "            </td>\n",
       "        </tr>\n",
       "    \n",
       "        <tr style=\"background-color: hsl(120, 100.00%, 98.72%); border: none;\">\n",
       "            <td style=\"padding: 0 1em 0 0.5em; text-align: right; border: none;\">\n",
       "                0.0102\n",
       "                \n",
       "            </td>\n",
       "            <td style=\"padding: 0 0.5em 0 0.5em; text-align: left; border: none;\">\n",
       "                region_northeast\n",
       "            </td>\n",
       "        </tr>\n",
       "    \n",
       "        <tr style=\"background-color: hsl(120, 100.00%, 98.95%); border: none;\">\n",
       "            <td style=\"padding: 0 1em 0 0.5em; text-align: right; border: none;\">\n",
       "                0.0077\n",
       "                \n",
       "            </td>\n",
       "            <td style=\"padding: 0 0.5em 0 0.5em; text-align: left; border: none;\">\n",
       "                region_southwest\n",
       "            </td>\n",
       "        </tr>\n",
       "    \n",
       "        <tr style=\"background-color: hsl(120, 100.00%, 99.18%); border: none;\">\n",
       "            <td style=\"padding: 0 1em 0 0.5em; text-align: right; border: none;\">\n",
       "                0.0054\n",
       "                \n",
       "            </td>\n",
       "            <td style=\"padding: 0 0.5em 0 0.5em; text-align: left; border: none;\">\n",
       "                region_southeast\n",
       "            </td>\n",
       "        </tr>\n",
       "    \n",
       "        <tr style=\"background-color: hsl(120, 100.00%, 99.29%); border: none;\">\n",
       "            <td style=\"padding: 0 1em 0 0.5em; text-align: right; border: none;\">\n",
       "                0.0043\n",
       "                \n",
       "            </td>\n",
       "            <td style=\"padding: 0 0.5em 0 0.5em; text-align: left; border: none;\">\n",
       "                region_northwest\n",
       "            </td>\n",
       "        </tr>\n",
       "    \n",
       "    \n",
       "    </tbody>\n",
       "</table>\n",
       "    \n",
       "\n",
       "    \n",
       "\n",
       "\n",
       "    \n",
       "\n",
       "    \n",
       "\n",
       "    \n",
       "\n",
       "    \n",
       "\n",
       "    \n",
       "\n",
       "    \n",
       "        \n",
       "        <br>\n",
       "        <pre>smoker <= 0.728  (79.4%)\n",
       "    age <= 0.223  (43.6%)\n",
       "        age <= -0.843  (20.6%)\n",
       "            children <= -0.500  (13.0%)\n",
       "                age <= -1.412  (5.9%)\n",
       "                    region_northeast <= 0.579  (4.3%)\n",
       "                        sex <= -0.024  (2.1%)\n",
       "                            age <= -1.483  (1.1%)\n",
       "                                bmi <= 0.795  (0.5%)  ---> -2.053937915213412\n",
       "                                bmi > 0.795  (0.7%)  ---> -1.9103021771088098\n",
       "                            age > -1.483  (1.0%)\n",
       "                                region_southwest <= 0.587  (0.5%)  ---> -1.439906656004077\n",
       "                                region_southwest > 0.587  (0.6%)  ---> -1.6910571013059186\n",
       "                        sex > -0.024  (2.1%)\n",
       "                            region_southeast <= 0.534  (1.4%)\n",
       "                                region_southwest <= 0.587  (0.7%)  ---> -1.9240299803669945\n",
       "                                region_southwest > 0.587  (0.7%)  ---> -2.294165821385147\n",
       "                            region_southeast > 0.534  (0.7%)  ---> -2.7431849847457013\n",
       "                    region_northeast > 0.579  (1.6%)\n",
       "                        sex <= -0.024  (0.9%)\n",
       "                            bmi <= 0.091  (0.5%)  ---> -1.374764094111856\n",
       "                            bmi > 0.091  (0.5%)  ---> -1.3542115493853681\n",
       "                        sex > -0.024  (0.7%)  ---> -1.783774141572418\n",
       "                age > -1.412  (7.1%)\n",
       "                    age <= -1.198  (3.0%)\n",
       "                        sex <= -0.024  (1.5%)\n",
       "                            region_southwest <= 0.587  (1.0%)\n",
       "                                bmi <= -0.275  (0.5%)  ---> -1.2585383854047603\n",
       "                                bmi > -0.275  (0.6%)  ---> -1.3119840672405672\n",
       "                            region_southwest > 0.587  (0.5%)  ---> -1.4947828890236068\n",
       "                        sex > -0.024  (1.5%)\n",
       "                            region_northeast <= 0.579  (0.9%)\n",
       "                                region_northwest <= 0.611  (0.5%)  ---> -2.137216701392065\n",
       "                                region_northwest > 0.611  (0.5%)  ---> -1.5724130552211648\n",
       "                            region_northeast > 0.579  (0.6%)  ---> -1.4665332368041963\n",
       "                    age > -1.198  (4.1%)\n",
       "                        sex <= -0.024  (2.1%)\n",
       "                            region_southwest <= 0.587  (1.6%)\n",
       "                                age <= -1.056  (0.8%)  ---> -1.1266318341101325\n",
       "                                age > -1.056  (0.7%)  ---> -1.0243878826274622\n",
       "                            region_southwest > 0.587  (0.5%)  ---> 0.14477474294662654\n",
       "                        sex > -0.024  (2.1%)\n",
       "                            age <= -1.056  (0.9%)\n",
       "                                bmi <= -0.729  (0.5%)  ---> -1.2859860696269405\n",
       "                                bmi > -0.729  (0.5%)  ---> -1.632422447070868\n",
       "                            age > -1.056  (1.1%)\n",
       "                                age <= -0.914  (0.7%)  ---> -1.1749457778079262\n",
       "                                age > -0.914  (0.5%)  ---> -1.2187141313144145\n",
       "            children > -0.500  (7.6%)\n",
       "                children <= 0.323  (3.4%)\n",
       "                    age <= -1.127  (2.1%)\n",
       "                        bmi <= -0.986  (0.7%)  ---> -1.5110763101072502\n",
       "                        bmi > -0.986  (1.3%)\n",
       "                            region_northwest <= 0.611  (0.8%)  ---> -1.2915735484698023\n",
       "                            region_northwest > 0.611  (0.5%)  ---> -1.180745898565458\n",
       "                    age > -1.127  (1.3%)\n",
       "                        age <= -0.914  (0.8%)  ---> -0.998227451285985\n",
       "                        age > -0.914  (0.5%)  ---> -0.8822914934393731\n",
       "                children > 0.323  (4.2%)\n",
       "                    children <= 1.968  (3.6%)\n",
       "                        age <= -1.269  (1.5%)\n",
       "                            region_northwest <= 0.611  (1.0%)\n",
       "                                region_southeast <= 0.534  (0.5%)  ---> -0.9892598763080934\n",
       "                                region_southeast > 0.534  (0.6%)  ---> -1.1100777721884523\n",
       "                            region_northwest > 0.611  (0.5%)  ---> 0.7565283385432885\n",
       "                        age > -1.269  (2.1%)\n",
       "                            region_northeast <= 0.579  (1.4%)\n",
       "                                sex <= -0.024  (0.7%)  ---> -0.8298298235283723\n",
       "                                sex > -0.024  (0.7%)  ---> -0.9342758505942478\n",
       "                            region_northeast > 0.579  (0.7%)  ---> -0.7256385661236295\n",
       "                    children > 1.968  (0.7%)  ---> -0.6802131003767037\n",
       "        age > -0.843  (23.1%)\n",
       "            age <= -0.487  (7.6%)\n",
       "                children <= -0.500  (2.2%)\n",
       "                    age <= -0.665  (1.2%)\n",
       "                        sex <= -0.024  (0.7%)  ---> -1.002313068629525\n",
       "                        sex > -0.024  (0.6%)  ---> -1.0998291373631397\n",
       "                    age > -0.665  (1.0%)\n",
       "                        age <= -0.559  (0.6%)  ---> -0.9153308046423645\n",
       "                        age > -0.559  (0.5%)  ---> -0.868795358574382\n",
       "                children > -0.500  (5.3%)\n",
       "                    children <= 1.146  (4.2%)\n",
       "                        sex <= -0.024  (1.8%)\n",
       "                            region_southeast <= 0.534  (1.1%)\n",
       "                                children <= 0.323  (0.7%)  ---> -0.7086829100115917\n",
       "                                children > 0.323  (0.5%)  ---> -0.662743985139599\n",
       "                            region_southeast > 0.534  (0.7%)  ---> -0.801815073781587\n",
       "                        sex > -0.024  (2.4%)\n",
       "                            age <= -0.559  (1.8%)\n",
       "                                children <= 0.323  (0.9%)\n",
       "                                    bmi <= -0.062  (0.5%)  ---> -0.8252956979580754\n",
       "                                    bmi > -0.062  (0.5%)  ---> -0.9381250609047831\n",
       "                                children > 0.323  (0.8%)  ---> -0.779706192533503\n",
       "                            age > -0.559  (0.7%)  ---> -0.7225945455257052\n",
       "                    children > 1.146  (1.1%)\n",
       "                        age <= -0.630  (0.7%)  ---> -0.6088436019646066\n",
       "                        age > -0.630  (0.5%)  ---> -0.4920738027293361\n",
       "            age > -0.487  (15.5%)\n",
       "                age <= -0.203  (6.0%)\n",
       "                    children <= 0.323  (3.5%)\n",
       "                        children <= -0.500  (1.5%)\n",
       "                            region_southeast <= 0.534  (1.0%)\n",
       "                                bmi <= -0.728  (0.6%)  ---> -0.6212992791100433\n",
       "                                bmi > -0.728  (0.5%)  ---> -0.7366942090648199\n",
       "                            region_southeast > 0.534  (0.5%)  ---> -0.8338500883664981\n",
       "                        children > -0.500  (2.0%)\n",
       "                            bmi <= -0.297  (1.0%)\n",
       "                                sex <= -0.024  (0.6%)  ---> -0.6269629668388157\n",
       "                                sex > -0.024  (0.5%)  ---> -0.675279629233373\n",
       "                            bmi > -0.297  (0.9%)\n",
       "                                sex <= -0.024  (0.5%)  ---> -0.6233376036218262\n",
       "                                sex > -0.024  (0.5%)  ---> -0.5955518715872192\n",
       "                    children > 0.323  (2.5%)\n",
       "                        region_northeast <= 0.579  (1.8%)\n",
       "                            children <= 1.146  (0.7%)  ---> -0.5453337539118526\n",
       "                            children > 1.146  (1.0%)\n",
       "                                region_southwest <= 0.587  (0.5%)  ---> -0.42538033498235034\n",
       "                                region_southwest > 0.587  (0.6%)  ---> -0.4925240268621719\n",
       "                        region_northeast > 0.579  (0.7%)  ---> -0.34525115525372174\n",
       "                age > -0.203  (9.5%)\n",
       "                    children <= 1.146  (7.8%)\n",
       "                        children <= -0.500  (2.0%)\n",
       "                            age <= 0.081  (1.1%)\n",
       "                                age <= -0.061  (0.7%)  ---> -0.585651960400509\n",
       "                                age > -0.061  (0.5%)  ---> -0.5453546515613824\n",
       "                            age > 0.081  (0.8%)  ---> -0.4837229824420328\n",
       "                        children > -0.500  (5.8%)\n",
       "                            age <= 0.081  (3.6%)\n",
       "                                region_northeast <= 0.579  (2.6%)\n",
       "                                    children <= 0.323  (1.1%)\n",
       "                                        age <= -0.061  (0.6%)  ---> -0.5225387601498924\n",
       "                                        age > -0.061  (0.6%)  ---> -0.4479091006462439\n",
       "                                    children > 0.323  (1.5%)\n",
       "                                        age <= -0.061  (0.8%)  ---> -0.43901817404314153\n",
       "                                        age > -0.061  (0.7%)  ---> -0.3520749086239797\n",
       "                                region_northeast > 0.579  (0.9%)\n",
       "                                    bmi <= -0.695  (0.5%)  ---> -0.3384492386297542\n",
       "                                    bmi > -0.695  (0.5%)  ---> -0.4115830020911871\n",
       "                            age > 0.081  (2.2%)\n",
       "                                region_northeast <= 0.579  (1.7%)\n",
       "                                    children <= 0.323  (1.2%)\n",
       "                                        sex <= -0.024  (0.7%)  ---> -0.3465196284938846\n",
       "                                        sex > -0.024  (0.5%)  ---> -0.4660078445738079\n",
       "                                    children > 0.323  (0.5%)  ---> -0.3009253855308746\n",
       "                                region_northeast > 0.579  (0.6%)  ---> -0.24775716561255545\n",
       "                    children > 1.146  (1.8%)\n",
       "                        age <= -0.061  (0.6%)  ---> -0.3389390683718462\n",
       "                        age > -0.061  (1.2%)\n",
       "                            children <= 1.968  (0.7%)  ---> -0.21911032666846966\n",
       "                            children > 1.968  (0.6%)  ---> -0.12407530136141687\n",
       "    age > 0.223  (35.8%)\n",
       "        age <= 1.005  (18.5%)\n",
       "            age <= 0.579  (7.9%)\n",
       "                children <= 0.323  (4.2%)\n",
       "                    age <= 0.437  (2.1%)\n",
       "                        sex <= -0.024  (1.4%)\n",
       "                            bmi <= 0.543  (0.9%)\n",
       "                                children <= -0.500  (0.5%)  ---> -0.28185689039229456\n",
       "                                children > -0.500  (0.5%)  ---> -0.254865134224\n",
       "                            bmi > 0.543  (0.5%)  ---> -0.23376564361533228\n",
       "                        sex > -0.024  (0.7%)  ---> -0.3180703418181829\n",
       "                    age > 0.437  (2.1%)\n",
       "                        sex <= -0.024  (1.0%)\n",
       "                            bmi <= -0.318  (0.5%)  ---> -0.1374140440016006\n",
       "                            bmi > -0.318  (0.6%)  ---> -0.10866363158050829\n",
       "                        sex > -0.024  (1.0%)\n",
       "                            bmi <= 0.374  (0.6%)  ---> -0.21881199073774427\n",
       "                            bmi > 0.374  (0.5%)  ---> -0.17018827775517534\n",
       "                children > 0.323  (3.6%)\n",
       "                    age <= 0.437  (2.4%)\n",
       "                        region_northeast <= 0.579  (1.7%)\n",
       "                            children <= 1.146  (1.1%)\n",
       "                                age <= 0.366  (0.6%)  ---> -0.19603045765236174\n",
       "                                age > 0.366  (0.6%)  ---> -0.1473873347810944\n",
       "                            children > 1.146  (0.6%)  ---> -0.1116228628559778\n",
       "                        region_northeast > 0.579  (0.7%)  ---> -0.09535492539082309\n",
       "                    age > 0.437  (1.2%)\n",
       "                        children <= 1.146  (0.6%)  ---> -0.08788393800317026\n",
       "                        children > 1.146  (0.7%)  ---> 0.005543207898650228\n",
       "            age > 0.579  (10.7%)\n",
       "                children <= 0.323  (6.8%)\n",
       "                    age <= 0.792  (3.4%)\n",
       "                        children <= -0.500  (1.5%)\n",
       "                            region_southeast <= 0.534  (1.0%)\n",
       "                                region_southwest <= 0.587  (0.5%)  ---> -0.06323140167054885\n",
       "                                region_southwest > 0.587  (0.6%)  ---> -0.1663388569762631\n",
       "                            region_southeast > 0.534  (0.5%)  ---> -0.17653885707554232\n",
       "                        children > -0.500  (1.9%)\n",
       "                            sex <= -0.024  (1.0%)\n",
       "                                age <= 0.650  (0.5%)  ---> -0.018827780618218676\n",
       "                                age > 0.650  (0.6%)  ---> 0.02329337594853909\n",
       "                            sex > -0.024  (0.8%)  ---> -0.058582122969960466\n",
       "                    age > 0.792  (3.5%)\n",
       "                        age <= 0.934  (2.2%)\n",
       "                            sex <= -0.024  (1.0%)\n",
       "                                region_southwest <= 0.587  (0.6%)  ---> 0.05992845736769228\n",
       "                                region_southwest > 0.587  (0.5%)  ---> 0.01152960350847844\n",
       "                            sex > -0.024  (1.2%)\n",
       "                                children <= -0.500  (0.7%)  ---> -0.05372395480708101\n",
       "                                children > -0.500  (0.6%)  ---> 0.020482094817767173\n",
       "                        age > 0.934  (1.2%)\n",
       "                            children <= -0.500  (0.7%)  ---> 0.03635456384479598\n",
       "                            children > -0.500  (0.6%)  ---> 0.11790892951704846\n",
       "                children > 0.323  (3.8%)\n",
       "                    age <= 0.792  (2.1%)\n",
       "                        children <= 1.968  (1.7%)\n",
       "                            age <= 0.650  (0.5%)  ---> -0.0030858581190347572\n",
       "                            age > 0.650  (1.2%)\n",
       "                                bmi <= 0.120  (0.7%)  ---> 0.12695048746109688\n",
       "                                bmi > 0.120  (0.6%)  ---> 0.07968812634793032\n",
       "                        children > 1.968  (0.5%)  ---> 0.18257311241688626\n",
       "                    age > 0.792  (1.7%)\n",
       "                        children <= 1.146  (0.9%)\n",
       "                            bmi <= 0.371  (0.5%)  ---> 0.20773334441764787\n",
       "                            bmi > 0.371  (0.5%)  ---> 0.15818417120281486\n",
       "                        children > 1.146  (0.7%)  ---> 0.24857168744805955\n",
       "        age > 1.005  (17.3%)\n",
       "            age <= 1.361  (9.3%)\n",
       "                children <= 0.323  (7.0%)\n",
       "                    age <= 1.219  (3.8%)\n",
       "                        region_northeast <= 0.579  (2.6%)\n",
       "                            sex <= -0.024  (1.1%)\n",
       "                                bmi <= -0.246  (0.6%)  ---> 0.20526115376760068\n",
       "                                bmi > -0.246  (0.6%)  ---> 0.1497881842176031\n",
       "                            sex > -0.024  (1.5%)\n",
       "                                region_southwest <= 0.587  (0.7%)  ---> 0.15641705140262682\n",
       "                                region_southwest > 0.587  (0.8%)  ---> 0.12177834588422222\n",
       "                        region_northeast > 0.579  (1.2%)\n",
       "                            children <= -0.500  (0.7%)  ---> 0.20768755439492803\n",
       "                            children > -0.500  (0.5%)  ---> 0.29555696365811873\n",
       "                    age > 1.219  (3.2%)\n",
       "                        sex <= -0.024  (1.1%)\n",
       "                            bmi <= 0.194  (0.7%)  ---> 0.3039611852651585\n",
       "                            bmi > 0.194  (0.5%)  ---> 0.35754321231576397\n",
       "                        sex > -0.024  (2.1%)\n",
       "                            region_northeast <= 0.579  (1.5%)\n",
       "                                region_northwest <= 0.611  (1.0%)\n",
       "                                    age <= 1.290  (0.5%)  ---> 0.17534722291951083\n",
       "                                    age > 1.290  (0.6%)  ---> 0.2358549410297617\n",
       "                                region_northwest > 0.611  (0.5%)  ---> 0.28456748044951874\n",
       "                            region_northeast > 0.579  (0.6%)  ---> 0.3226051886465955\n",
       "                children > 0.323  (2.2%)\n",
       "                    age <= 1.148  (1.5%)\n",
       "                        children <= 1.146  (0.6%)  ---> 0.31478067360932127\n",
       "                        children > 1.146  (0.9%)\n",
       "                            bmi <= 0.131  (0.5%)  ---> 0.3735332410358207\n",
       "                            bmi > 0.131  (0.5%)  ---> 0.37993357391352495\n",
       "                    age > 1.148  (0.7%)  ---> 0.41831773947542256\n",
       "            age > 1.361  (8.0%)\n",
       "                children <= -0.500  (5.2%)\n",
       "                    age <= 1.574  (2.6%)\n",
       "                        age <= 1.503  (1.6%)\n",
       "                            age <= 1.432  (0.7%)  ---> 0.3679523059252617\n",
       "                            age > 1.432  (0.9%)\n",
       "                                bmi <= -0.325  (0.5%)  ---> 0.4419031232080575\n",
       "                                bmi > -0.325  (0.5%)  ---> 0.40876851999659214\n",
       "                        age > 1.503  (1.0%)\n",
       "                            sex <= -0.024  (0.6%)  ---> 0.4934598216020748\n",
       "                            sex > -0.024  (0.5%)  ---> 0.43350980622664076\n",
       "                    age > 1.574  (2.6%)\n",
       "                        region_northeast <= 0.579  (1.9%)\n",
       "                            sex <= -0.024  (1.1%)\n",
       "                                age <= 1.645  (0.6%)  ---> 0.4958329229742371\n",
       "                                age > 1.645  (0.6%)  ---> 0.5590107461967245\n",
       "                            sex > -0.024  (0.7%)  ---> 0.47772782071434666\n",
       "                        region_northeast > 0.579  (0.7%)  ---> 0.5787817423773838\n",
       "                children > -0.500  (2.8%)\n",
       "                    age <= 1.574  (1.4%)\n",
       "                        bmi <= 0.363  (0.9%)\n",
       "                            sex <= -0.024  (0.5%)  ---> 0.5386183395028509\n",
       "                            sex > -0.024  (0.5%)  ---> 0.4281944124002317\n",
       "                        bmi > 0.363  (0.5%)  ---> 1.1400228225593403\n",
       "                    age > 1.574  (1.4%)\n",
       "                        age <= 1.716  (0.9%)\n",
       "                            children <= 0.323  (0.5%)  ---> 0.5988448397687314\n",
       "                            children > 0.323  (0.5%)  ---> 0.6243357401708511\n",
       "                        age > 1.716  (0.5%)  ---> 0.648848800466475\n",
       "smoker > 0.728  (20.6%)\n",
       "    bmi <= -0.075  (9.9%)\n",
       "        age <= 0.117  (6.0%)\n",
       "            age <= -0.701  (3.4%)\n",
       "                bmi <= -1.179  (1.3%)\n",
       "                    age <= -0.914  (0.8%)  ---> 0.5941940914902957\n",
       "                    age > -0.914  (0.5%)  ---> 0.6543159586855972\n",
       "                bmi > -1.179  (2.1%)\n",
       "                    age <= -1.269  (1.2%)\n",
       "                        sex <= -0.024  (0.7%)  ---> 0.7167138916795308\n",
       "                        sex > -0.024  (0.6%)  ---> 0.6782888865025656\n",
       "                    age > -1.269  (0.8%)  ---> 0.7413970462654711\n",
       "            age > -0.701  (2.6%)\n",
       "                bmi <= -0.947  (0.9%)\n",
       "                    sex <= -0.024  (0.5%)  ---> 0.7446831119697188\n",
       "                    sex > -0.024  (0.5%)  ---> 0.6983039312748568\n",
       "                bmi > -0.947  (1.7%)\n",
       "                    age <= -0.096  (1.2%)\n",
       "                        bmi <= -0.520  (0.5%)  ---> 0.7862370415650348\n",
       "                        bmi > -0.520  (0.7%)  ---> 0.857961785512727\n",
       "                    age > -0.096  (0.5%)  ---> 0.9178582636118182\n",
       "        age > 0.117  (3.9%)\n",
       "            age <= 1.219  (3.0%)\n",
       "                age <= 0.508  (1.3%)\n",
       "                    bmi <= -1.167  (0.6%)  ---> 0.8306377823729716\n",
       "                    bmi > -1.167  (0.7%)  ---> 0.9221482179861249\n",
       "                age > 0.508  (1.7%)\n",
       "                    children <= 1.146  (1.0%)\n",
       "                        bmi <= -0.711  (0.6%)  ---> 0.9626706071429534\n",
       "                        bmi > -0.711  (0.5%)  ---> 1.0062120040912195\n",
       "                    children > 1.146  (0.7%)  ---> 1.0277431359838103\n",
       "            age > 1.219  (0.9%)\n",
       "                bmi <= -0.318  (0.5%)  ---> 1.134618621201025\n",
       "                bmi > -0.318  (0.5%)  ---> 1.168488944405015\n",
       "    bmi > -0.075  (10.7%)\n",
       "        age <= 0.188  (5.9%)\n",
       "            age <= -0.843  (3.4%)\n",
       "                bmi <= 0.836  (2.1%)\n",
       "                    children <= 0.323  (1.4%)\n",
       "                        bmi <= 0.089  (0.5%)  ---> 1.2365062587211066\n",
       "                        bmi > 0.089  (0.9%)\n",
       "                            age <= -1.340  (0.5%)  ---> 1.272421613037499\n",
       "                            age > -1.340  (0.5%)  ---> 1.2757885598890215\n",
       "                    children > 0.323  (0.7%)  ---> 1.3312534775876652\n",
       "                bmi > 0.836  (1.3%)\n",
       "                    bmi <= 1.751  (0.8%)  ---> 1.4186278578482188\n",
       "                    bmi > 1.751  (0.5%)  ---> 1.5213439272751197\n",
       "            age > -0.843  (2.5%)\n",
       "                children <= -0.500  (0.7%)  ---> 1.4048857048244412\n",
       "                children > -0.500  (1.8%)\n",
       "                    bmi <= 1.223  (1.3%)\n",
       "                        bmi <= 0.595  (0.6%)  ---> 1.5689597043203831\n",
       "                        bmi > 0.595  (0.7%)  ---> 1.5519623944939331\n",
       "                    bmi > 1.223  (0.5%)  ---> 1.7975373952616884\n",
       "        age > 0.188  (4.8%)\n",
       "            age <= 1.219  (3.1%)\n",
       "                bmi <= 1.027  (2.2%)\n",
       "                    age <= 0.792  (1.4%)\n",
       "                        bmi <= 0.172  (0.5%)  ---> 1.5297813586832485\n",
       "                        bmi > 0.172  (0.9%)\n",
       "                            bmi <= 0.699  (0.5%)  ---> 1.673748206762901\n",
       "                            bmi > 0.699  (0.5%)  ---> 1.71850063621535\n",
       "                    age > 0.792  (0.8%)  ---> 1.821594787656926\n",
       "                bmi > 1.027  (0.8%)  ---> 1.9981655974217682\n",
       "            age > 1.219  (1.7%)\n",
       "                bmi <= 0.957  (1.0%)\n",
       "                    region_southwest <= 0.587  (0.6%)  ---> 1.9969570086575525\n",
       "                    region_southwest > 0.587  (0.5%)  ---> 2.1484224367752986\n",
       "                bmi > 0.957  (0.7%)  ---> 2.3246820883649204</pre>\n",
       "    \n",
       "\n",
       "\n",
       "\n"
      ],
      "text/plain": [
       "Explanation(estimator=\"DecisionTreeRegressor(criterion='mae', max_depth=15, max_features=None,\\n                      max_leaf_nodes=None, min_impurity_decrease=0.0,\\n                      min_impurity_split=None, min_samples_leaf=5,\\n                      min_samples_split=2, min_weight_fraction_leaf=0.0,\\n                      presort=False, random_state=33, splitter='best')\", description='\\nDecision tree feature importances; values are numbers 0 <= x <= 1;\\nall values sum to 1.\\n', error=None, method='decision tree', is_regression=False, targets=None, feature_importances=FeatureImportances(importances=[FeatureWeight(feature='age', weight=0.5137626779405059, std=None, value=None), FeatureWeight(feature='smoker', weight=0.31226483762648394, std=None, value=None), FeatureWeight(feature='bmi', weight=0.07562361694717935, std=None, value=None), FeatureWeight(feature='children', weight=0.055583763710604105, std=None, value=None), FeatureWeight(feature='sex', weight=0.015244554755344766, std=None, value=None), FeatureWeight(feature='region_northeast', weight=0.010162645947450035, std=None, value=None), FeatureWeight(feature='region_southwest', weight=0.0076535137464347645, std=None, value=None), FeatureWeight(feature='region_southeast', weight=0.005384503898181918, std=None, value=None), FeatureWeight(feature='region_northwest', weight=0.00431988542781526, std=None, value=None)], remaining=0), decision_tree=TreeInfo(criterion='mae', tree=NodeInfo(id=0, is_leaf=False, value=[-7.188994454625046e-05], value_ratio=[1.0], impurity=0.8034762420165615, samples=1070, sample_ratio=1.0, feature_name='smoker', feature_id=4, threshold=0.728433221578598, left=NodeInfo(id=1, is_leaf=False, value=[-0.2601201262596181], value_ratio=[1.0], impurity=0.6371672692584152, samples=850, sample_ratio=0.794392523364486, feature_name='age', feature_id=0, threshold=0.22342399507761002, left=NodeInfo(id=2, is_leaf=False, value=[-0.779706192533503], value_ratio=[1.0], impurity=0.5418445319429817, samples=467, sample_ratio=0.43644859813084114, feature_name='age', feature_id=0, threshold=-0.8428725004196167, left=NodeInfo(id=3, is_leaf=False, value=[-1.2677654747536977], value_ratio=[1.0], impurity=0.5659713364702745, samples=220, sample_ratio=0.205607476635514, feature_name='children', feature_id=3, threshold=-0.49981002137064934, left=NodeInfo(id=4, is_leaf=False, value=[-1.4642568808890168], value_ratio=[1.0], impurity=0.5114867755564774, samples=139, sample_ratio=0.12990654205607477, feature_name='age', feature_id=0, threshold=-1.4115639925003052, left=NodeInfo(id=5, is_leaf=False, value=[-1.8565506945436063], value_ratio=[1.0], impurity=0.512534028662587, samples=63, sample_ratio=0.058878504672897194, feature_name='region_northeast', feature_id=5, threshold=0.5787904858589172, left=NodeInfo(id=6, is_leaf=False, value=[-1.9808193435766033], value_ratio=[1.0], impurity=0.4658351530232149, samples=46, sample_ratio=0.04299065420560748, feature_name='sex', feature_id=1, threshold=-0.02430623769760132, left=NodeInfo(id=7, is_leaf=False, value=[-1.7097860945416232], value_ratio=[1.0], impurity=0.3657194961496073, samples=23, sample_ratio=0.02149532710280374, feature_name='age', feature_id=0, threshold=-1.4826503992080688, left=NodeInfo(id=8, is_leaf=False, value=[-1.9441729494853461], value_ratio=[1.0], impurity=0.44733709055897525, samples=12, sample_ratio=0.011214953271028037, feature_name='bmi', feature_id=2, threshold=0.7953901886940002, left=NodeInfo(id=9, is_leaf=True, value=[-2.053937915213412], value_ratio=[1.0], impurity=0.4753173671587265, samples=5, sample_ratio=0.004672897196261682, feature_name=None, feature_id=None, threshold=None, left=None, right=None), right=NodeInfo(id=10, is_leaf=True, value=[-1.9103021771088098], value_ratio=[1.0], impurity=0.3756650370644716, samples=7, sample_ratio=0.0065420560747663555, feature_name=None, feature_id=None, threshold=None, left=None, right=None)), right=NodeInfo(id=11, is_leaf=False, value=[-1.6674135241165087], value_ratio=[1.0], impurity=0.1165162716561629, samples=11, sample_ratio=0.010280373831775701, feature_name='region_southwest', feature_id=8, threshold=0.5874890983104706, left=NodeInfo(id=12, is_leaf=True, value=[-1.439906656004077], value_ratio=[1.0], impurity=0.007413925570743362, samples=5, sample_ratio=0.004672897196261682, feature_name=None, feature_id=None, threshold=None, left=None, right=None), right=NodeInfo(id=13, is_leaf=True, value=[-1.6910571013059186], value_ratio=[1.0], impurity=0.015010959601176266, samples=6, sample_ratio=0.005607476635514018, feature_name=None, feature_id=None, threshold=None, left=None, right=None))), right=NodeInfo(id=14, is_leaf=False, value=[-2.3001569684096568], value_ratio=[1.0], impurity=0.39331423075130206, samples=23, sample_ratio=0.02149532710280374, feature_name='region_southeast', feature_id=7, threshold=0.5339738428592682, left=NodeInfo(id=15, is_leaf=False, value=[-2.1968909200962337], value_ratio=[1.0], impurity=0.1797961030286355, samples=15, sample_ratio=0.014018691588785047, feature_name='region_southwest', feature_id=8, threshold=0.5874890983104706, left=NodeInfo(id=16, is_leaf=True, value=[-1.9240299803669945], value_ratio=[1.0], impurity=0.06285953863437402, samples=7, sample_ratio=0.0065420560747663555, feature_name=None, feature_id=None, threshold=None, left=None, right=None), right=NodeInfo(id=17, is_leaf=True, value=[-2.294165821385147], value_ratio=[1.0], impurity=0.06472826017883665, samples=8, sample_ratio=0.007476635514018692, feature_name=None, feature_id=None, threshold=None, left=None, right=None)), right=NodeInfo(id=18, is_leaf=True, value=[-2.7431849847457013], value_ratio=[1.0], impurity=0.4476458456996036, samples=8, sample_ratio=0.007476635514018692, feature_name=None, feature_id=None, threshold=None, left=None, right=None))), right=NodeInfo(id=19, is_leaf=False, value=[-1.374764094111856], value_ratio=[1.0], impurity=0.39265574678350434, samples=17, sample_ratio=0.01588785046728972, feature_name='sex', feature_id=1, threshold=-0.02430623769760132, left=NodeInfo(id=20, is_leaf=False, value=[-1.3626679429799597], value_ratio=[1.0], impurity=0.23875732824586718, samples=10, sample_ratio=0.009345794392523364, feature_name='bmi', feature_id=2, threshold=0.09139925986528397, left=NodeInfo(id=21, is_leaf=True, value=[-1.374764094111856], value_ratio=[1.0], impurity=0.4620424512504505, samples=5, sample_ratio=0.004672897196261682, feature_name=None, feature_id=None, threshold=None, left=None, right=None), right=NodeInfo(id=22, is_leaf=True, value=[-1.3542115493853681], value_ratio=[1.0], impurity=0.006693719451459667, samples=5, sample_ratio=0.004672897196261682, feature_name=None, feature_id=None, threshold=None, left=None, right=None)), right=NodeInfo(id=23, is_leaf=True, value=[-1.783774141572418], value_ratio=[1.0], impurity=0.33020700062746855, samples=7, sample_ratio=0.0065420560747663555, feature_name=None, feature_id=None, threshold=None, left=None, right=None))), right=NodeInfo(id=24, is_leaf=False, value=[-1.2540614131715313], value_ratio=[1.0], impurity=0.3626541876475417, samples=76, sample_ratio=0.07102803738317758, feature_name='age', feature_id=0, threshold=-1.1983046531677246, left=NodeInfo(id=25, is_leaf=False, value=[-1.4755705622623974], value_ratio=[1.0], impurity=0.23893895117978461, samples=32, sample_ratio=0.029906542056074768, feature_name='sex', feature_id=1, threshold=-0.02430623769760132, left=NodeInfo(id=26, is_leaf=False, value=[-1.4071046011624375], value_ratio=[1.0], impurity=0.1143274405550903, samples=16, sample_ratio=0.014953271028037384, feature_name='region_southwest', feature_id=8, threshold=0.5874890983104706, left=NodeInfo(id=27, is_leaf=False, value=[-1.3097484701407804], value_ratio=[1.0], impurity=0.10598047095975854, samples=11, sample_ratio=0.010280373831775701, feature_name='bmi', feature_id=2, threshold=-0.27528853714466095, left=NodeInfo(id=28, is_leaf=True, value=[-1.2585383854047603], value_ratio=[1.0], impurity=0.08579358492510888, samples=5, sample_ratio=0.004672897196261682, feature_name=None, feature_id=None, threshold=None, left=None, right=None), right=NodeInfo(id=29, is_leaf=True, value=[-1.3119840672405672], value_ratio=[1.0], impurity=0.11426786186596323, samples=6, sample_ratio=0.005607476635514018, feature_name=None, feature_id=None, threshold=None, left=None, right=None)), right=NodeInfo(id=30, is_leaf=True, value=[-1.4947828890236068], value_ratio=[1.0], impurity=0.05345272315854168, samples=5, sample_ratio=0.004672897196261682, feature_name=None, feature_id=None, threshold=None, left=None, right=None)), right=NodeInfo(id=31, is_leaf=False, value=[-1.5574958880421614], value_ratio=[1.0], impurity=0.32598138489254913, samples=16, sample_ratio=0.014953271028037384, feature_name='region_northeast', feature_id=5, threshold=0.5787904858589172, left=NodeInfo(id=32, is_leaf=False, value=[-1.6206266704150027], value_ratio=[1.0], impurity=0.44138368804146577, samples=10, sample_ratio=0.009345794392523364, feature_name='region_northwest', feature_id=6, threshold=0.6111840605735779, left=NodeInfo(id=33, is_leaf=True, value=[-2.137216701392065], value_ratio=[1.0], impurity=0.6308705617547615, samples=5, sample_ratio=0.004672897196261682, feature_name=None, feature_id=None, threshold=None, left=None, right=None), right=NodeInfo(id=34, is_leaf=True, value=[-1.5724130552211648], value_ratio=[1.0], impurity=0.03844446819585334, samples=5, sample_ratio=0.004672897196261682, feature_name=None, feature_id=None, threshold=None, left=None, right=None)), right=NodeInfo(id=35, is_leaf=True, value=[-1.4665332368041963], value_ratio=[1.0], impurity=0.07075517751096679, samples=6, sample_ratio=0.005607476635514018, feature_name=None, feature_id=None, threshold=None, left=None, right=None))), right=NodeInfo(id=36, is_leaf=False, value=[-1.1591608221605585], value_ratio=[1.0], impurity=0.37299594173802747, samples=44, sample_ratio=0.041121495327102804, feature_name='sex', feature_id=1, threshold=-0.02430623769760132, left=NodeInfo(id=37, is_leaf=False, value=[-1.0535736725673428], value_ratio=[1.0], impurity=0.4414224238212645, samples=22, sample_ratio=0.020560747663551402, feature_name='region_southwest', feature_id=8, threshold=0.5874890983104706, left=NodeInfo(id=38, is_leaf=False, value=[-1.0580089801582588], value_ratio=[1.0], impurity=0.29035332762762384, samples=17, sample_ratio=0.01588785046728972, feature_name='age', feature_id=0, threshold=-1.0561317801475525, left=NodeInfo(id=39, is_leaf=True, value=[-1.1266318341101325], value_ratio=[1.0], impurity=0.2892651907110088, samples=9, sample_ratio=0.008411214953271028, feature_name=None, feature_id=None, threshold=None, left=None, right=None), right=NodeInfo(id=40, is_leaf=True, value=[-1.0243878826274622], value_ratio=[1.0], impurity=0.24583677535141912, samples=8, sample_ratio=0.007476635514018692, feature_name=None, feature_id=None, threshold=None, left=None, right=None)), right=NodeInfo(id=41, is_leaf=True, value=[0.14477474294662654], value_ratio=[1.0], impurity=0.7145006062586657, samples=5, sample_ratio=0.004672897196261682, feature_name=None, feature_id=None, threshold=None, left=None, right=None)), right=NodeInfo(id=42, is_leaf=False, value=[-1.2267970448178596], value_ratio=[1.0], impurity=0.24046471531675492, samples=22, sample_ratio=0.020560747663551402, feature_name='age', feature_id=0, threshold=-1.0561317801475525, left=NodeInfo(id=43, is_leaf=False, value=[-1.5290482676008632], value_ratio=[1.0], impurity=0.33000578847000706, samples=10, sample_ratio=0.009345794392523364, feature_name='bmi', feature_id=2, threshold=-0.7293026745319366, left=NodeInfo(id=44, is_leaf=True, value=[-1.2859860696269405], value_ratio=[1.0], impurity=0.5424947057536113, samples=5, sample_ratio=0.004672897196261682, feature_name=None, feature_id=None, threshold=None, left=None, right=None), right=NodeInfo(id=45, is_leaf=True, value=[-1.632422447070868], value_ratio=[1.0], impurity=0.0482295956976174, samples=5, sample_ratio=0.004672897196261682, feature_name=None, feature_id=None, threshold=None, left=None, right=None)), right=NodeInfo(id=46, is_leaf=False, value=[-1.2047175803918049], value_ratio=[1.0], impurity=0.0428753517632088, samples=12, sample_ratio=0.011214953271028037, feature_name='age', feature_id=0, threshold=-0.9139589369297028, left=NodeInfo(id=47, is_leaf=True, value=[-1.1749457778079262], value_ratio=[1.0], impurity=0.03973972201703235, samples=7, sample_ratio=0.0065420560747663555, feature_name=None, feature_id=None, threshold=None, left=None, right=None), right=NodeInfo(id=48, is_leaf=True, value=[-1.2187141313144145], value_ratio=[1.0], impurity=0.03274062716985524, samples=5, sample_ratio=0.004672897196261682, feature_name=None, feature_id=None, threshold=None, left=None, right=None)))))), right=NodeInfo(id=49, is_leaf=False, value=[-0.9646497142497115], value_ratio=[1.0], impurity=0.47291907987495685, samples=81, sample_ratio=0.07570093457943926, feature_name='children', feature_id=3, threshold=0.3229541666805744, left=NodeInfo(id=50, is_leaf=False, value=[-1.160287772295535], value_ratio=[1.0], impurity=0.43766133858403006, samples=36, sample_ratio=0.03364485981308411, feature_name='age', feature_id=0, threshold=-1.127218246459961, left=NodeInfo(id=51, is_leaf=False, value=[-1.3125393802462748], value_ratio=[1.0], impurity=0.34261039660086173, samples=22, sample_ratio=0.020560747663551402, feature_name='bmi', feature_id=2, threshold=-0.9863152205944061, left=NodeInfo(id=52, is_leaf=True, value=[-1.5110763101072502], value_ratio=[1.0], impurity=0.17009747111254608, samples=8, sample_ratio=0.007476635514018692, feature_name=None, feature_id=None, threshold=None, left=None, right=None), right=NodeInfo(id=53, is_leaf=False, value=[-1.2757595072471], value_ratio=[1.0], impurity=0.40124729720643926, samples=14, sample_ratio=0.013084112149532711, feature_name='region_northwest', feature_id=6, threshold=0.6111840605735779, left=NodeInfo(id=54, is_leaf=True, value=[-1.2915735484698023], value_ratio=[1.0], impurity=0.5791780127213874, samples=9, sample_ratio=0.008411214953271028, feature_name=None, feature_id=None, threshold=None, left=None, right=None), right=NodeInfo(id=55, is_leaf=True, value=[-1.180745898565458], value_ratio=[1.0], impurity=0.05880647929866387, samples=5, sample_ratio=0.004672897196261682, feature_name=None, feature_id=None, threshold=None, left=None, right=None))), right=NodeInfo(id=56, is_leaf=False, value=[-0.9742260604197526], value_ratio=[1.0], impurity=0.3754590264440851, samples=14, sample_ratio=0.013084112149532711, feature_name='age', feature_id=0, threshold=-0.9139589369297028, left=NodeInfo(id=57, is_leaf=True, value=[-0.998227451285985], value_ratio=[1.0], impurity=0.18278970791399438, samples=9, sample_ratio=0.008411214953271028, feature_name=None, feature_id=None, threshold=None, left=None, right=None), right=NodeInfo(id=58, is_leaf=True, value=[-0.8822914934393731], value_ratio=[1.0], impurity=0.6654591766922179, samples=5, sample_ratio=0.004672897196261682, feature_name=None, feature_id=None, threshold=None, left=None, right=None))), right=NodeInfo(id=59, is_leaf=False, value=[-0.8516447775859074], value_ratio=[1.0], impurity=0.44087433005535215, samples=45, sample_ratio=0.04205607476635514, feature_name='children', feature_id=3, threshold=1.9684825539588928, left=NodeInfo(id=60, is_leaf=False, value=[-0.884804655072497], value_ratio=[1.0], impurity=0.4099659319922855, samples=38, sample_ratio=0.03551401869158879, feature_name='age', feature_id=0, threshold=-1.2693910598754883, left=NodeInfo(id=61, is_leaf=False, value=[-1.0372226087208931], value_ratio=[1.0], impurity=0.5197882362838979, samples=16, sample_ratio=0.014953271028037384, feature_name='region_northwest', feature_id=6, threshold=0.6111840605735779, left=NodeInfo(id=62, is_leaf=False, value=[-1.055757789489798], value_ratio=[1.0], impurity=0.20435398964087081, samples=11, sample_ratio=0.010280373831775701, feature_name='region_southeast', feature_id=7, threshold=0.5339738428592682, left=NodeInfo(id=63, is_leaf=True, value=[-0.9892598763080934], value_ratio=[1.0], impurity=0.04869781231540586, samples=5, sample_ratio=0.004672897196261682, feature_name=None, feature_id=None, threshold=None, left=None, right=None), right=NodeInfo(id=64, is_leaf=True, value=[-1.1100777721884523], value_ratio=[1.0], impurity=0.3016774178222509, samples=6, sample_ratio=0.005607476635514018, feature_name=None, feature_id=None, threshold=None, left=None, right=None)), right=NodeInfo(id=65, is_leaf=True, value=[0.7565283385432885], value_ratio=[1.0], impurity=0.85128635329194, samples=5, sample_ratio=0.004672897196261682, feature_name=None, feature_id=None, threshold=None, left=None, right=None)), right=NodeInfo(id=66, is_leaf=False, value=[-0.8422717643502795], value_ratio=[1.0], impurity=0.29224256061047255, samples=22, sample_ratio=0.020560747663551402, feature_name='region_northeast', feature_id=5, threshold=0.5787904858589172, left=NodeInfo(id=67, is_leaf=False, value=[-0.874075017108067], value_ratio=[1.0], impurity=0.1559110363085185, samples=15, sample_ratio=0.014018691588785047, feature_name='sex', feature_id=1, threshold=-0.02430623769760132, left=NodeInfo(id=68, is_leaf=True, value=[-0.8298298235283723], value_ratio=[1.0], impurity=0.2268412739492076, samples=8, sample_ratio=0.007476635514018692, feature_name=None, feature_id=None, threshold=None, left=None, right=None), right=NodeInfo(id=69, is_leaf=True, value=[-0.9342758505942478], value_ratio=[1.0], impurity=0.04833897549903204, samples=7, sample_ratio=0.0065420560747663555, feature_name=None, feature_id=None, threshold=None, left=None, right=None)), right=NodeInfo(id=70, is_leaf=True, value=[-0.7256385661236295], value_ratio=[1.0], impurity=0.5311032943165818, samples=7, sample_ratio=0.0065420560747663555, feature_name=None, feature_id=None, threshold=None, left=None, right=None))), right=NodeInfo(id=71, is_leaf=True, value=[-0.6802131003767037], value_ratio=[1.0], impurity=0.45972099405552347, samples=7, sample_ratio=0.0065420560747663555, feature_name=None, feature_id=None, threshold=None, left=None, right=None)))), right=NodeInfo(id=72, is_leaf=False, value=[-0.532091815343728], value_ratio=[1.0], impurity=0.26340584533870176, samples=247, sample_ratio=0.2308411214953271, feature_name='age', feature_id=0, threshold=-0.4874403327703476, left=NodeInfo(id=73, is_leaf=False, value=[-0.7817182267410651], value_ratio=[1.0], impurity=0.23735598359127963, samples=81, sample_ratio=0.07570093457943926, feature_name='children', feature_id=3, threshold=-0.49981002137064934, left=NodeInfo(id=74, is_leaf=False, value=[-0.9248702184997635], value_ratio=[1.0], impurity=0.16294258010301158, samples=24, sample_ratio=0.022429906542056073, feature_name='age', feature_id=0, threshold=-0.6651563942432404, left=NodeInfo(id=75, is_leaf=False, value=[-1.0258223614100694], value_ratio=[1.0], impurity=0.20554547089224753, samples=13, sample_ratio=0.012149532710280374, feature_name='sex', feature_id=1, threshold=-0.02430623769760132, left=NodeInfo(id=76, is_leaf=True, value=[-1.002313068629525], value_ratio=[1.0], impurity=0.053258363306999366, samples=7, sample_ratio=0.0065420560747663555, feature_name=None, feature_id=None, threshold=None, left=None, right=None), right=NodeInfo(id=77, is_leaf=True, value=[-1.0998291373631397], value_ratio=[1.0], impurity=0.3550947116238002, samples=6, sample_ratio=0.005607476635514018, feature_name=None, feature_id=None, threshold=None, left=None, right=None)), right=NodeInfo(id=78, is_leaf=False, value=[-0.8721372803974669], value_ratio=[1.0], impurity=0.056535981749555944, samples=11, sample_ratio=0.010280373831775701, feature_name='age', feature_id=0, threshold=-0.5585267543792725, left=NodeInfo(id=79, is_leaf=True, value=[-0.9153308046423645], value_ratio=[1.0], impurity=0.052724265895503296, samples=6, sample_ratio=0.005607476635514018, feature_name=None, feature_id=None, threshold=None, left=None, right=None), right=NodeInfo(id=80, is_leaf=True, value=[-0.868795358574382], value_ratio=[1.0], impurity=0.045785476952539005, samples=5, sample_ratio=0.004672897196261682, feature_name=None, feature_id=None, threshold=None, left=None, right=None))), right=NodeInfo(id=81, is_leaf=False, value=[-0.7200127462080758], value_ratio=[1.0], impurity=0.2292005560309378, samples=57, sample_ratio=0.05327102803738318, feature_name='children', feature_id=3, threshold=1.1457183361053467, left=NodeInfo(id=82, is_leaf=False, value=[-0.7704331130176598], value_ratio=[1.0], impurity=0.24165567478762454, samples=45, sample_ratio=0.04205607476635514, feature_name='sex', feature_id=1, threshold=-0.02430623769760132, left=NodeInfo(id=83, is_leaf=False, value=[-0.7044875039763849], value_ratio=[1.0], impurity=0.22589049867346364, samples=19, sample_ratio=0.017757009345794394, feature_name='region_southeast', feature_id=7, threshold=0.5339738428592682, left=NodeInfo(id=84, is_leaf=False, value=[-0.669268295036131], value_ratio=[1.0], impurity=0.18143043809900203, samples=12, sample_ratio=0.011214953271028037, feature_name='children', feature_id=3, threshold=0.3229541666805744, left=NodeInfo(id=85, is_leaf=True, value=[-0.7086829100115917], value_ratio=[1.0], impurity=0.2835760932951454, samples=7, sample_ratio=0.0065420560747663555, feature_name=None, feature_id=None, threshold=None, left=None, right=None), right=NodeInfo(id=86, is_leaf=True, value=[-0.662743985139599], value_ratio=[1.0], impurity=0.01403851924584929, samples=5, sample_ratio=0.004672897196261682, feature_name=None, feature_id=None, threshold=None, left=None, right=None)), right=NodeInfo(id=87, is_leaf=True, value=[-0.801815073781587], value_ratio=[1.0], impurity=0.26836533866061496, samples=7, sample_ratio=0.0065420560747663555, feature_name=None, feature_id=None, threshold=None, left=None, right=None)), right=NodeInfo(id=88, is_leaf=False, value=[-0.780712209637284], value_ratio=[1.0], impurity=0.23756716648348192, samples=26, sample_ratio=0.024299065420560748, feature_name='age', feature_id=0, threshold=-0.5585267543792725, left=NodeInfo(id=89, is_leaf=False, value=[-0.8219209649097065], value_ratio=[1.0], impurity=0.30376545001704836, samples=19, sample_ratio=0.017757009345794394, feature_name='children', feature_id=3, threshold=0.3229541666805744, left=NodeInfo(id=90, is_leaf=False, value=[-0.8591962754617493], value_ratio=[1.0], impurity=0.21834994556877713, samples=10, sample_ratio=0.009345794392523364, feature_name='bmi', feature_id=2, threshold=-0.0617322102189064, left=NodeInfo(id=91, is_leaf=True, value=[-0.8252956979580754], value_ratio=[1.0], impurity=0.02520769459922645, samples=5, sample_ratio=0.004672897196261682, feature_name=None, feature_id=None, threshold=None, left=None, right=None), right=NodeInfo(id=92, is_leaf=True, value=[-0.9381250609047831], value_ratio=[1.0], impurity=0.3724650901600463, samples=5, sample_ratio=0.004672897196261682, feature_name=None, feature_id=None, threshold=None, left=None, right=None)), right=NodeInfo(id=93, is_leaf=True, value=[-0.779706192533503], value_ratio=[1.0], impurity=0.3680589466757911, samples=9, sample_ratio=0.008411214953271028, feature_name=None, feature_id=None, threshold=None, left=None, right=None)), right=NodeInfo(id=94, is_leaf=True, value=[-0.7225945455257052], value_ratio=[1.0], impurity=0.031229765026207605, samples=7, sample_ratio=0.0065420560747663555, feature_name=None, feature_id=None, threshold=None, left=None, right=None))), right=NodeInfo(id=95, is_leaf=False, value=[-0.5766607923374973], value_ratio=[1.0], impurity=0.0690533931795475, samples=12, sample_ratio=0.011214953271028037, feature_name='age', feature_id=0, threshold=-0.6296131908893585, left=NodeInfo(id=96, is_leaf=True, value=[-0.6088436019646066], value_ratio=[1.0], impurity=0.04934729789938998, samples=7, sample_ratio=0.0065420560747663555, feature_name=None, feature_id=None, threshold=None, left=None, right=None), right=NodeInfo(id=97, is_leaf=True, value=[-0.4920738027293361], value_ratio=[1.0], impurity=0.07328796672471394, samples=5, sample_ratio=0.004672897196261682, feature_name=None, feature_id=None, threshold=None, left=None, right=None)))), right=NodeInfo(id=98, is_leaf=False, value=[-0.44069203144683533], value_ratio=[1.0], impurity=0.2012884696214608, samples=166, sample_ratio=0.15514018691588785, feature_name='age', feature_id=0, threshold=-0.20309460163116455, left=NodeInfo(id=99, is_leaf=False, value=[-0.5800993937718107], value_ratio=[1.0], impurity=0.2398333952307616, samples=64, sample_ratio=0.059813084112149535, feature_name='children', feature_id=3, threshold=0.3229541666805744, left=NodeInfo(id=100, is_leaf=False, value=[-0.6507111337355479], value_ratio=[1.0], impurity=0.1682426589387878, samples=37, sample_ratio=0.03457943925233645, feature_name='children', feature_id=3, threshold=-0.49981002137064934, left=NodeInfo(id=101, is_leaf=False, value=[-0.7445359015756531], value_ratio=[1.0], impurity=0.19250324287010107, samples=16, sample_ratio=0.014953271028037384, feature_name='region_southeast', feature_id=7, threshold=0.5339738428592682, left=NodeInfo(id=102, is_leaf=False, value=[-0.6543008963359004], value_ratio=[1.0], impurity=0.21166058904064594, samples=11, sample_ratio=0.010280373831775701, feature_name='bmi', feature_id=2, threshold=-0.7280610501766205, left=NodeInfo(id=103, is_leaf=True, value=[-0.6212992791100433], value_ratio=[1.0], impurity=0.29735108524946735, samples=6, sample_ratio=0.005607476635514018, feature_name=None, feature_id=None, threshold=None, left=None, right=None), right=NodeInfo(id=104, is_leaf=True, value=[-0.7366942090648199], value_ratio=[1.0], impurity=0.07195796665418216, samples=5, sample_ratio=0.004672897196261682, feature_name=None, feature_id=None, threshold=None, left=None, right=None)), right=NodeInfo(id=105, is_leaf=True, value=[-0.8338500883664981], value_ratio=[1.0], impurity=0.04776245388508431, samples=5, sample_ratio=0.004672897196261682, feature_name=None, feature_id=None, threshold=None, left=None, right=None)), right=NodeInfo(id=106, is_leaf=False, value=[-0.6253025885275572], value_ratio=[1.0], impurity=0.1354738234957026, samples=21, sample_ratio=0.019626168224299065, feature_name='bmi', feature_id=2, threshold=-0.2972235791385174, left=NodeInfo(id=107, is_leaf=False, value=[-0.6507111337355479], value_ratio=[1.0], impurity=0.03463832242809708, samples=11, sample_ratio=0.010280373831775701, feature_name='sex', feature_id=1, threshold=-0.02430623769760132, left=NodeInfo(id=108, is_leaf=True, value=[-0.6269629668388157], value_ratio=[1.0], impurity=0.03975555606939133, samples=6, sample_ratio=0.005607476635514018, feature_name=None, feature_id=None, threshold=None, left=None, right=None), right=NodeInfo(id=109, is_leaf=True, value=[-0.675279629233373], value_ratio=[1.0], impurity=0.02358394295897894, samples=5, sample_ratio=0.004672897196261682, feature_name=None, feature_id=None, threshold=None, left=None, right=None)), right=NodeInfo(id=110, is_leaf=False, value=[-0.5977734209716246], value_ratio=[1.0], impurity=0.23218732227992805, samples=10, sample_ratio=0.009345794392523364, feature_name='sex', feature_id=1, threshold=-0.02430623769760132, left=NodeInfo(id=111, is_leaf=True, value=[-0.6233376036218262], value_ratio=[1.0], impurity=0.041041120135933015, samples=5, sample_ratio=0.004672897196261682, feature_name=None, feature_id=None, threshold=None, left=None, right=None), right=NodeInfo(id=112, is_leaf=True, value=[-0.5955518715872192], value_ratio=[1.0], impurity=0.4177763780170016, samples=5, sample_ratio=0.004672897196261682, feature_name=None, feature_id=None, threshold=None, left=None, right=None)))), right=NodeInfo(id=113, is_leaf=False, value=[-0.44236588885052913], value_ratio=[1.0], impurity=0.2512432082170032, samples=27, sample_ratio=0.025233644859813085, feature_name='region_northeast', feature_id=5, threshold=0.5787904858589172, left=NodeInfo(id=114, is_leaf=False, value=[-0.5041639492281521], value_ratio=[1.0], impurity=0.10113430299213609, samples=19, sample_ratio=0.017757009345794394, feature_name='children', feature_id=3, threshold=1.1457183361053467, left=NodeInfo(id=115, is_leaf=True, value=[-0.5453337539118526], value_ratio=[1.0], impurity=0.1394134897967685, samples=8, sample_ratio=0.007476635514018692, feature_name=None, feature_id=None, threshold=None, left=None, right=None), right=NodeInfo(id=116, is_leaf=False, value=[-0.4528011427511012], value_ratio=[1.0], impurity=0.049117344767988354, samples=11, sample_ratio=0.010280373831775701, feature_name='region_southwest', feature_id=8, threshold=0.5874890983104706, left=NodeInfo(id=117, is_leaf=True, value=[-0.42538033498235034], value_ratio=[1.0], impurity=0.04677808687662967, samples=5, sample_ratio=0.004672897196261682, feature_name=None, feature_id=None, threshold=None, left=None, right=None), right=NodeInfo(id=118, is_leaf=True, value=[-0.4925240268621719], value_ratio=[1.0], impurity=0.03713560446763197, samples=6, sample_ratio=0.005607476635514018, feature_name=None, feature_id=None, threshold=None, left=None, right=None))), right=NodeInfo(id=119, is_leaf=True, value=[-0.34525115525372174], value_ratio=[1.0], impurity=0.5296105489430221, samples=8, sample_ratio=0.007476635514018692, feature_name=None, feature_id=None, threshold=None, left=None, right=None))), right=NodeInfo(id=120, is_leaf=False, value=[-0.3854864318161588], value_ratio=[1.0], impurity=0.14382625342361668, samples=102, sample_ratio=0.09532710280373832, feature_name='children', feature_id=3, threshold=1.1457183361053467, left=NodeInfo(id=121, is_leaf=False, value=[-0.4171515214843263], value_ratio=[1.0], impurity=0.13634346789968782, samples=83, sample_ratio=0.07757009345794393, feature_name='children', feature_id=3, threshold=-0.49981002137064934, left=NodeInfo(id=122, is_leaf=False, value=[-0.5262556772806736], value_ratio=[1.0], impurity=0.18532582731428193, samples=21, sample_ratio=0.019626168224299065, feature_name='age', feature_id=0, threshold=0.0812511295080185, left=NodeInfo(id=123, is_leaf=False, value=[-0.5767411196178183], value_ratio=[1.0], impurity=0.265727964872918, samples=12, sample_ratio=0.011214953271028037, feature_name='age', feature_id=0, threshold=-0.06092173792421818, left=NodeInfo(id=124, is_leaf=True, value=[-0.585651960400509], value_ratio=[1.0], impurity=0.4322654351513486, samples=7, sample_ratio=0.0065420560747663555, feature_name=None, feature_id=None, threshold=None, left=None, right=None), right=NodeInfo(id=125, is_leaf=True, value=[-0.5453546515613824], value_ratio=[1.0], impurity=0.019832925589356076, samples=5, sample_ratio=0.004672897196261682, feature_name=None, feature_id=None, threshold=None, left=None, right=None)), right=NodeInfo(id=126, is_leaf=True, value=[-0.4837229824420328], value_ratio=[1.0], impurity=0.04647997979852316, samples=9, sample_ratio=0.008411214953271028, feature_name=None, feature_id=None, threshold=None, left=None, right=None)), right=NodeInfo(id=127, is_leaf=False, value=[-0.39221002728653853], value_ratio=[1.0], impurity=0.10285949160469071, samples=62, sample_ratio=0.05794392523364486, feature_name='age', feature_id=0, threshold=0.0812511295080185, left=NodeInfo(id=128, is_leaf=False, value=[-0.43067040406364177], value_ratio=[1.0], impurity=0.09076661211673079, samples=38, sample_ratio=0.03551401869158879, feature_name='region_northeast', feature_id=5, threshold=0.5787904858589172, left=NodeInfo(id=129, is_leaf=False, value=[-0.4479091006462439], value_ratio=[1.0], impurity=0.10091101865307461, samples=28, sample_ratio=0.026168224299065422, feature_name='children', feature_id=3, threshold=0.3229541666805744, left=NodeInfo(id=130, is_leaf=False, value=[-0.4976969109333247], value_ratio=[1.0], impurity=0.0352711172237544, samples=12, sample_ratio=0.011214953271028037, feature_name='age', feature_id=0, threshold=-0.06092173792421818, left=NodeInfo(id=131, is_leaf=True, value=[-0.5225387601498924], value_ratio=[1.0], impurity=0.02102662430022903, samples=6, sample_ratio=0.005607476635514018, feature_name=None, feature_id=None, threshold=None, left=None, right=None), right=NodeInfo(id=132, is_leaf=True, value=[-0.4479091006462439], value_ratio=[1.0], impurity=0.0218597817826251, samples=6, sample_ratio=0.005607476635514018, feature_name=None, feature_id=None, threshold=None, left=None, right=None)), right=NodeInfo(id=133, is_leaf=False, value=[-0.4142538112585769], value_ratio=[1.0], impurity=0.1319269439025989, samples=16, sample_ratio=0.014953271028037384, feature_name='age', feature_id=0, threshold=-0.06092173792421818, left=NodeInfo(id=134, is_leaf=True, value=[-0.43901817404314153], value_ratio=[1.0], impurity=0.03499892512377916, samples=9, sample_ratio=0.008411214953271028, feature_name=None, feature_id=None, threshold=None, left=None, right=None), right=NodeInfo(id=135, is_leaf=True, value=[-0.3520749086239797], value_ratio=[1.0], impurity=0.22914745884211055, samples=7, sample_ratio=0.0065420560747663555, feature_name=None, feature_id=None, threshold=None, left=None, right=None))), right=NodeInfo(id=136, is_leaf=False, value=[-0.38344599848582167], value_ratio=[1.0], impurity=0.04098310138704233, samples=10, sample_ratio=0.009345794392523364, feature_name='bmi', feature_id=2, threshold=-0.6949515342712402, left=NodeInfo(id=137, is_leaf=True, value=[-0.3384492386297542], value_ratio=[1.0], impurity=0.023171024830303165, samples=5, sample_ratio=0.004672897196261682, feature_name=None, feature_id=None, threshold=None, left=None, right=None), right=NodeInfo(id=138, is_leaf=True, value=[-0.4115830020911871], value_ratio=[1.0], impurity=0.025099888032031135, samples=5, sample_ratio=0.004672897196261682, feature_name=None, feature_id=None, threshold=None, left=None, right=None))), right=NodeInfo(id=139, is_leaf=False, value=[-0.3325660947779323], value_ratio=[1.0], impurity=0.08766170109513037, samples=24, sample_ratio=0.022429906542056073, feature_name='region_northeast', feature_id=5, threshold=0.5787904858589172, left=NodeInfo(id=140, is_leaf=False, value=[-0.3465196284938846], value_ratio=[1.0], impurity=0.04870771140105146, samples=18, sample_ratio=0.016822429906542057, feature_name='children', feature_id=3, threshold=0.3229541666805744, left=NodeInfo(id=141, is_leaf=False, value=[-0.37600581207015665], value_ratio=[1.0], impurity=0.04391462593400694, samples=13, sample_ratio=0.012149532710280374, feature_name='sex', feature_id=1, threshold=-0.02430623769760132, left=NodeInfo(id=142, is_leaf=True, value=[-0.3465196284938846], value_ratio=[1.0], impurity=0.024431262355667678, samples=8, sample_ratio=0.007476635514018692, feature_name=None, feature_id=None, threshold=None, left=None, right=None), right=NodeInfo(id=143, is_leaf=True, value=[-0.4660078445738079], value_ratio=[1.0], impurity=0.03663740205784569, samples=5, sample_ratio=0.004672897196261682, feature_name=None, feature_id=None, threshold=None, left=None, right=None)), right=NodeInfo(id=144, is_leaf=True, value=[-0.3009253855308746], value_ratio=[1.0], impurity=0.020930019486716495, samples=5, sample_ratio=0.004672897196261682, feature_name=None, feature_id=None, threshold=None, left=None, right=None)), right=NodeInfo(id=145, is_leaf=True, value=[-0.24775716561255545], value_ratio=[1.0], impurity=0.15486756077758393, samples=6, sample_ratio=0.005607476635514018, feature_name=None, feature_id=None, threshold=None, left=None, right=None)))), right=NodeInfo(id=146, is_leaf=False, value=[-0.22250216061595818], value_ratio=[1.0], impurity=0.07879814121812516, samples=19, sample_ratio=0.017757009345794394, feature_name='age', feature_id=0, threshold=-0.06092173792421818, left=NodeInfo(id=147, is_leaf=True, value=[-0.3389390683718462], value_ratio=[1.0], impurity=0.04005580251304485, samples=6, sample_ratio=0.005607476635514018, feature_name=None, feature_id=None, threshold=None, left=None, right=None), right=NodeInfo(id=148, is_leaf=False, value=[-0.19481123257156693], value_ratio=[1.0], impurity=0.05964322425204831, samples=13, sample_ratio=0.012149532710280374, feature_name='children', feature_id=3, threshold=1.9684825539588928, left=NodeInfo(id=149, is_leaf=True, value=[-0.21911032666846966], value_ratio=[1.0], impurity=0.030350680164086697, samples=7, sample_ratio=0.0065420560747663555, feature_name=None, feature_id=None, threshold=None, left=None, right=None), right=NodeInfo(id=150, is_leaf=True, value=[-0.12407530136141687], value_ratio=[1.0], impurity=0.05865654125982433, samples=6, sample_ratio=0.005607476635514018, feature_name=None, feature_id=None, threshold=None, left=None, right=None))))))), right=NodeInfo(id=151, is_leaf=False, value=[0.19332269514949854], value_ratio=[1.0], impurity=0.2884913382764819, samples=383, sample_ratio=0.3579439252336449, feature_name='age', feature_id=0, threshold=1.0053747594356537, left=NodeInfo(id=152, is_leaf=False, value=[-0.026020110214572845], value_ratio=[1.0], impurity=0.22279467148243878, samples=198, sample_ratio=0.18504672897196262, feature_name='age', feature_id=0, threshold=0.5788561701774597, left=NodeInfo(id=153, is_leaf=False, value=[-0.1536773791346424], value_ratio=[1.0], impurity=0.19644286111628775, samples=84, sample_ratio=0.07850467289719626, feature_name='children', feature_id=3, threshold=0.3229541666805744, left=NodeInfo(id=154, is_leaf=False, value=[-0.21620610499950604], value_ratio=[1.0], impurity=0.20361295521339484, samples=45, sample_ratio=0.04205607476635514, feature_name='age', feature_id=0, threshold=0.4366832822561264, left=NodeInfo(id=155, is_leaf=False, value=[-0.2730034605873618], value_ratio=[1.0], impurity=0.16805322253637286, samples=23, sample_ratio=0.02149532710280374, feature_name='sex', feature_id=1, threshold=-0.02430623769760132, left=NodeInfo(id=156, is_leaf=False, value=[-0.254865134224], value_ratio=[1.0], impurity=0.21993736426536403, samples=15, sample_ratio=0.014018691588785047, feature_name='bmi', feature_id=2, threshold=0.5429301857948303, left=NodeInfo(id=157, is_leaf=False, value=[-0.25750373231094664], value_ratio=[1.0], impurity=0.25129691199454923, samples=10, sample_ratio=0.009345794392523364, feature_name='children', feature_id=3, threshold=-0.49981002137064934, left=NodeInfo(id=158, is_leaf=True, value=[-0.28185689039229456], value_ratio=[1.0], impurity=0.20674762605274227, samples=5, sample_ratio=0.004672897196261682, feature_name=None, feature_id=None, threshold=None, left=None, right=None), right=NodeInfo(id=159, is_leaf=True, value=[-0.254865134224], value_ratio=[1.0], impurity=0.28119848697683925, samples=5, sample_ratio=0.004672897196261682, feature_name=None, feature_id=None, threshold=None, left=None, right=None)), right=NodeInfo(id=160, is_leaf=True, value=[-0.23376564361533228], value_ratio=[1.0], impurity=0.1456126603328567, samples=5, sample_ratio=0.004672897196261682, feature_name=None, feature_id=None, threshold=None, left=None, right=None)), right=NodeInfo(id=161, is_leaf=True, value=[-0.3180703418181829], value_ratio=[1.0], impurity=0.051305238160499235, samples=8, sample_ratio=0.007476635514018692, feature_name=None, feature_id=None, threshold=None, left=None, right=None)), right=NodeInfo(id=162, is_leaf=False, value=[-0.1679052348575611], value_ratio=[1.0], impurity=0.19900414366885394, samples=22, sample_ratio=0.020560747663551402, feature_name='sex', feature_id=1, threshold=-0.02430623769760132, left=NodeInfo(id=163, is_leaf=False, value=[-0.13012748629538493], value_ratio=[1.0], impurity=0.22958279269590687, samples=11, sample_ratio=0.010280373831775701, feature_name='bmi', feature_id=2, threshold=-0.3175031691789627, left=NodeInfo(id=164, is_leaf=True, value=[-0.1374140440016006], value_ratio=[1.0], impurity=0.2699038193283788, samples=5, sample_ratio=0.004672897196261682, feature_name=None, feature_id=None, threshold=None, left=None, right=None), right=NodeInfo(id=165, is_leaf=True, value=[-0.10866363158050829], value_ratio=[1.0], impurity=0.1930736295182365, samples=6, sample_ratio=0.005607476635514018, feature_name=None, feature_id=None, threshold=None, left=None, right=None)), right=NodeInfo(id=166, is_leaf=False, value=[-0.20468474827532662], value_ratio=[1.0], impurity=0.14914244974733568, samples=11, sample_ratio=0.010280373831775701, feature_name='bmi', feature_id=2, threshold=0.3744855523109436, left=NodeInfo(id=167, is_leaf=True, value=[-0.21881199073774427], value_ratio=[1.0], impurity=0.25368145885928656, samples=6, sample_ratio=0.005607476635514018, feature_name=None, feature_id=None, threshold=None, left=None, right=None), right=NodeInfo(id=168, is_leaf=True, value=[-0.17018827775517534], value_ratio=[1.0], impurity=0.01522874049003321, samples=5, sample_ratio=0.004672897196261682, feature_name=None, feature_id=None, threshold=None, left=None, right=None)))), right=NodeInfo(id=169, is_leaf=False, value=[-0.10928433477890441], value_ratio=[1.0], impurity=0.15821794360261962, samples=39, sample_ratio=0.03644859813084112, feature_name='age', feature_id=0, threshold=0.4366832822561264, left=NodeInfo(id=170, is_leaf=False, value=[-0.1412674972952768], value_ratio=[1.0], impurity=0.18971767665318234, samples=26, sample_ratio=0.024299065420560748, feature_name='region_northeast', feature_id=5, threshold=0.5787904858589172, left=NodeInfo(id=171, is_leaf=False, value=[-0.1473873347810944], value_ratio=[1.0], impurity=0.1284805227473966, samples=18, sample_ratio=0.016822429906542057, feature_name='children', feature_id=3, threshold=1.1457183361053467, left=NodeInfo(id=172, is_leaf=False, value=[-0.17496541509393182], value_ratio=[1.0], impurity=0.10659649873018713, samples=12, sample_ratio=0.011214953271028037, feature_name='age', feature_id=0, threshold=0.36559684574604034, left=NodeInfo(id=173, is_leaf=True, value=[-0.19603045765236174], value_ratio=[1.0], impurity=0.17377116755949273, samples=6, sample_ratio=0.005607476635514018, feature_name=None, feature_id=None, threshold=None, left=None, right=None), right=NodeInfo(id=174, is_leaf=True, value=[-0.1473873347810944], value_ratio=[1.0], impurity=0.014760040288135004, samples=6, sample_ratio=0.005607476635514018, feature_name=None, feature_id=None, threshold=None, left=None, right=None)), right=NodeInfo(id=175, is_leaf=True, value=[-0.1116228628559778], value_ratio=[1.0], impurity=0.1552824226936562, samples=6, sample_ratio=0.005607476635514018, feature_name=None, feature_id=None, threshold=None, left=None, right=None)), right=NodeInfo(id=176, is_leaf=True, value=[-0.09535492539082309], value_ratio=[1.0], impurity=0.30545028491771187, samples=8, sample_ratio=0.007476635514018692, feature_name=None, feature_id=None, threshold=None, left=None, right=None)), right=NodeInfo(id=177, is_leaf=False, value=[-0.043847175273688636], value_ratio=[1.0], impurity=0.0590592708825542, samples=13, sample_ratio=0.012149532710280374, feature_name='children', feature_id=3, threshold=1.1457183361053467, left=NodeInfo(id=178, is_leaf=True, value=[-0.08788393800317026], value_ratio=[1.0], impurity=0.029228066210535864, samples=6, sample_ratio=0.005607476635514018, feature_name=None, feature_id=None, threshold=None, left=None, right=None), right=NodeInfo(id=179, is_leaf=True, value=[0.005543207898650228], value_ratio=[1.0], impurity=0.048949677343266704, samples=7, sample_ratio=0.0065420560747663555, feature_name=None, feature_id=None, threshold=None, left=None, right=None)))), right=NodeInfo(id=180, is_leaf=False, value=[0.043745797488944256], value_ratio=[1.0], impurity=0.19211763077601632, samples=114, sample_ratio=0.10654205607476636, feature_name='children', feature_id=3, threshold=0.3229541666805744, left=NodeInfo(id=181, is_leaf=False, value=[-0.00601527296038474], value_ratio=[1.0], impurity=0.1672408638997449, samples=73, sample_ratio=0.06822429906542056, feature_name='age', feature_id=0, threshold=0.7921154499053955, left=NodeInfo(id=182, is_leaf=False, value=[-0.05889232860893268], value_ratio=[1.0], impurity=0.2101806837487046, samples=36, sample_ratio=0.03364485981308411, feature_name='children', feature_id=3, threshold=-0.49981002137064934, left=NodeInfo(id=183, is_leaf=False, value=[-0.15351486396673694], value_ratio=[1.0], impurity=0.1808144128416154, samples=16, sample_ratio=0.014953271028037384, feature_name='region_southeast', feature_id=7, threshold=0.5339738428592682, left=NodeInfo(id=184, is_leaf=False, value=[-0.10448227085286933], value_ratio=[1.0], impurity=0.24243709230009394, samples=11, sample_ratio=0.010280373831775701, feature_name='region_southwest', feature_id=8, threshold=0.5874890983104706, left=NodeInfo(id=185, is_leaf=True, value=[-0.06323140167054885], value_ratio=[1.0], impurity=0.24816297675736448, samples=5, sample_ratio=0.004672897196261682, feature_name=None, feature_id=None, threshold=None, left=None, right=None), right=NodeInfo(id=186, is_leaf=True, value=[-0.1663388569762631], value_ratio=[1.0], impurity=0.19122564279125512, samples=6, sample_ratio=0.005607476635514018, feature_name=None, feature_id=None, threshold=None, left=None, right=None)), right=NodeInfo(id=187, is_leaf=True, value=[-0.17653885707554232], value_ratio=[1.0], impurity=0.02965163597927901, samples=5, sample_ratio=0.004672897196261682, feature_name=None, feature_id=None, threshold=None, left=None, right=None)), right=NodeInfo(id=188, is_leaf=False, value=[-0.018819751861781128], value_ratio=[1.0], impurity=0.20009520353899193, samples=20, sample_ratio=0.018691588785046728, feature_name='sex', feature_id=1, threshold=-0.02430623769760132, left=NodeInfo(id=189, is_leaf=False, value=[-0.0012354581947090053], value_ratio=[1.0], impurity=0.22204506666185217, samples=11, sample_ratio=0.010280373831775701, feature_name='age', feature_id=0, threshold=0.6499425768852234, left=NodeInfo(id=190, is_leaf=True, value=[-0.018827780618218676], value_ratio=[1.0], impurity=0.23813065243937698, samples=5, sample_ratio=0.004672897196261682, feature_name=None, feature_id=None, threshold=None, left=None, right=None), right=NodeInfo(id=191, is_leaf=True, value=[0.02329337594853909], value_ratio=[1.0], impurity=0.19907389097300995, samples=6, sample_ratio=0.005607476635514018, feature_name=None, feature_id=None, threshold=None, left=None, right=None)), right=NodeInfo(id=192, is_leaf=True, value=[-0.058582122969960466], value_ratio=[1.0], impurity=0.15676501030619583, samples=9, sample_ratio=0.008411214953271028, feature_name=None, feature_id=None, threshold=None, left=None, right=None))), right=NodeInfo(id=193, is_leaf=False, value=[0.03393041641052358], value_ratio=[1.0], impurity=0.10516934233030847, samples=37, sample_ratio=0.03457943925233645, feature_name='age', feature_id=0, threshold=0.9342883229255676, left=NodeInfo(id=194, is_leaf=False, value=[0.018780227227460814], value_ratio=[1.0], impurity=0.08671415286803426, samples=24, sample_ratio=0.022429906542056073, feature_name='sex', feature_id=1, threshold=-0.02430623769760132, left=NodeInfo(id=195, is_leaf=False, value=[0.03883132695850014], value_ratio=[1.0], impurity=0.12475946400913457, samples=11, sample_ratio=0.010280373831775701, feature_name='region_southwest', feature_id=8, threshold=0.5874890983104706, left=NodeInfo(id=196, is_leaf=True, value=[0.05992845736769228], value_ratio=[1.0], impurity=0.20377949544191612, samples=6, sample_ratio=0.005607476635514018, feature_name=None, feature_id=None, threshold=None, left=None, right=None), right=NodeInfo(id=197, is_leaf=True, value=[0.01152960350847844], value_ratio=[1.0], impurity=0.020878810478575704, samples=5, sample_ratio=0.004672897196261682, feature_name=None, feature_id=None, threshold=None, left=None, right=None)), right=NodeInfo(id=198, is_leaf=False, value=[-0.026509830477018784], value_ratio=[1.0], impurity=0.03901348809416464, samples=13, sample_ratio=0.012149532710280374, feature_name='children', feature_id=3, threshold=-0.49981002137064934, left=NodeInfo(id=199, is_leaf=True, value=[-0.05372395480708101], value_ratio=[1.0], impurity=0.02592788468550054, samples=7, sample_ratio=0.0065420560747663555, feature_name=None, feature_id=None, threshold=None, left=None, right=None), right=NodeInfo(id=200, is_leaf=True, value=[0.020482094817767173], value_ratio=[1.0], impurity=0.025514241486037564, samples=6, sample_ratio=0.005607476635514018, feature_name=None, feature_id=None, threshold=None, left=None, right=None))), right=NodeInfo(id=201, is_leaf=False, value=[0.05995246773459509], value_ratio=[1.0], impurity=0.12477193374921206, samples=13, sample_ratio=0.012149532710280374, feature_name='children', feature_id=3, threshold=-0.49981002137064934, left=NodeInfo(id=202, is_leaf=True, value=[0.03635456384479598], value_ratio=[1.0], impurity=0.18019068860180085, samples=7, sample_ratio=0.0065420560747663555, feature_name=None, feature_id=None, threshold=None, left=None, right=None), right=NodeInfo(id=203, is_leaf=True, value=[0.11790892951704846], value_ratio=[1.0], impurity=0.03738950229820987, samples=6, sample_ratio=0.005607476635514018, feature_name=None, feature_id=None, threshold=None, left=None, right=None)))), right=NodeInfo(id=204, is_leaf=False, value=[0.15818417120281486], value_ratio=[1.0], impurity=0.17532116858433122, samples=41, sample_ratio=0.038317757009345796, feature_name='age', feature_id=0, threshold=0.7921154499053955, left=NodeInfo(id=205, is_leaf=False, value=[0.09766686932481387], value_ratio=[1.0], impurity=0.1393613813432539, samples=23, sample_ratio=0.02149532710280374, feature_name='children', feature_id=3, threshold=1.9684825539588928, left=NodeInfo(id=206, is_leaf=False, value=[0.07494007029773199], value_ratio=[1.0], impurity=0.1468826715990492, samples=18, sample_ratio=0.016822429906542057, feature_name='age', feature_id=0, threshold=0.6499425768852234, left=NodeInfo(id=207, is_leaf=True, value=[-0.0030858581190347572], value_ratio=[1.0], impurity=0.051892221692379815, samples=5, sample_ratio=0.004672897196261682, feature_name=None, feature_id=None, threshold=None, left=None, right=None), right=NodeInfo(id=208, is_leaf=False, value=[0.09766686932481387], value_ratio=[1.0], impurity=0.17008820113457948, samples=13, sample_ratio=0.012149532710280374, feature_name='bmi', feature_id=2, threshold=0.11995621025562286, left=NodeInfo(id=209, is_leaf=True, value=[0.12695048746109688], value_ratio=[1.0], impurity=0.27007792656406765, samples=7, sample_ratio=0.0065420560747663555, feature_name=None, feature_id=None, threshold=None, left=None, right=None), right=NodeInfo(id=210, is_leaf=True, value=[0.07968812634793032], value_ratio=[1.0], impurity=0.039176011790305054, samples=6, sample_ratio=0.005607476635514018, feature_name=None, feature_id=None, threshold=None, left=None, right=None))), right=NodeInfo(id=211, is_leaf=True, value=[0.18257311241688626], value_ratio=[1.0], impurity=0.032758133892283964, samples=5, sample_ratio=0.004672897196261682, feature_name=None, feature_id=None, threshold=None, left=None, right=None)), right=NodeInfo(id=212, is_leaf=False, value=[0.21249779092539534], value_ratio=[1.0], impurity=0.17326013620056313, samples=18, sample_ratio=0.016822429906542057, feature_name='children', feature_id=3, threshold=1.1457183361053467, left=NodeInfo(id=213, is_leaf=False, value=[0.20212892287867007], value_ratio=[1.0], impurity=0.2153790579367926, samples=10, sample_ratio=0.009345794392523364, feature_name='bmi', feature_id=2, threshold=0.3707607239484787, left=NodeInfo(id=214, is_leaf=True, value=[0.20773334441764787], value_ratio=[1.0], impurity=0.2101834928305561, samples=5, sample_ratio=0.004672897196261682, feature_name=None, feature_id=None, threshold=None, left=None, right=None), right=NodeInfo(id=215, is_leaf=True, value=[0.15818417120281486], value_ratio=[1.0], impurity=0.20932568958857023, samples=5, sample_ratio=0.004672897196261682, feature_name=None, feature_id=None, threshold=None, left=None, right=None)), right=NodeInfo(id=216, is_leaf=True, value=[0.24857168744805955], value_ratio=[1.0], impurity=0.10823922062344572, samples=8, sample_ratio=0.007476635514018692, feature_name=None, feature_id=None, threshold=None, left=None, right=None))))), right=NodeInfo(id=217, is_leaf=False, value=[0.3986051502642706], value_ratio=[1.0], impurity=0.18564841776055185, samples=185, sample_ratio=0.17289719626168223, feature_name='age', feature_id=0, threshold=1.360806941986084, left=NodeInfo(id=218, is_leaf=False, value=[0.278305938216184], value_ratio=[1.0], impurity=0.14756424648482055, samples=99, sample_ratio=0.09252336448598131, feature_name='children', feature_id=3, threshold=0.3229541666805744, left=NodeInfo(id=219, is_leaf=False, value=[0.2404069870711952], value_ratio=[1.0], impurity=0.13533631361170786, samples=75, sample_ratio=0.07009345794392523, feature_name='age', feature_id=0, threshold=1.218634009361267, left=NodeInfo(id=220, is_leaf=False, value=[0.1854501369421099], value_ratio=[1.0], impurity=0.1554053551332187, samples=41, sample_ratio=0.038317757009345796, feature_name='region_northeast', feature_id=5, threshold=0.5787904858589172, left=NodeInfo(id=221, is_leaf=False, value=[0.15450819906838512], value_ratio=[1.0], impurity=0.16051640923649285, samples=28, sample_ratio=0.026168224299065422, feature_name='sex', feature_id=1, threshold=-0.02430623769760132, left=NodeInfo(id=222, is_leaf=False, value=[0.18838611138430128], value_ratio=[1.0], impurity=0.12778537748455954, samples=12, sample_ratio=0.011214953271028037, feature_name='bmi', feature_id=2, threshold=-0.246317723300308, left=NodeInfo(id=223, is_leaf=True, value=[0.20526115376760068], value_ratio=[1.0], impurity=0.2157374038151305, samples=6, sample_ratio=0.005607476635514018, feature_name=None, feature_id=None, threshold=None, left=None, right=None), right=NodeInfo(id=224, is_leaf=True, value=[0.1497881842176031], value_ratio=[1.0], impurity=0.03058203860813388, samples=6, sample_ratio=0.005607476635514018, feature_name=None, feature_id=None, threshold=None, left=None, right=None)), right=NodeInfo(id=225, is_leaf=False, value=[0.12883323749664044], value_ratio=[1.0], impurity=0.17142577611552476, samples=16, sample_ratio=0.014953271028037384, feature_name='region_southwest', feature_id=8, threshold=0.5874890983104706, left=NodeInfo(id=226, is_leaf=True, value=[0.15641705140262682], value_ratio=[1.0], impurity=0.24660571484241092, samples=7, sample_ratio=0.0065420560747663555, feature_name=None, feature_id=None, threshold=None, left=None, right=None), right=NodeInfo(id=227, is_leaf=True, value=[0.12177834588422222], value_ratio=[1.0], impurity=0.10365279687787667, samples=9, sample_ratio=0.008411214953271028, feature_name=None, feature_id=None, threshold=None, left=None, right=None))), right=NodeInfo(id=228, is_leaf=False, value=[0.25486786371775283], value_ratio=[1.0], impurity=0.11354323650363661, samples=13, sample_ratio=0.012149532710280374, feature_name='children', feature_id=3, threshold=-0.49981002137064934, left=NodeInfo(id=229, is_leaf=True, value=[0.20768755439492803], value_ratio=[1.0], impurity=0.060722419382066684, samples=8, sample_ratio=0.007476635514018692, feature_name=None, feature_id=None, threshold=None, left=None, right=None), right=NodeInfo(id=230, is_leaf=True, value=[0.29555696365811873], value_ratio=[1.0], impurity=0.17374031798308234, samples=5, sample_ratio=0.004672897196261682, feature_name=None, feature_id=None, threshold=None, left=None, right=None))), right=NodeInfo(id=231, is_leaf=False, value=[0.29562015186029444], value_ratio=[1.0], impurity=0.08060834074848881, samples=34, sample_ratio=0.03177570093457944, feature_name='sex', feature_id=1, threshold=-0.02430623769760132, left=NodeInfo(id=232, is_leaf=False, value=[0.3220880280029246], value_ratio=[1.0], impurity=0.08324947708505429, samples=12, sample_ratio=0.011214953271028037, feature_name='bmi', feature_id=2, threshold=0.19362487131729722, left=NodeInfo(id=233, is_leaf=True, value=[0.3039611852651585], value_ratio=[1.0], impurity=0.020674761016061426, samples=7, sample_ratio=0.0065420560747663555, feature_name=None, feature_id=None, threshold=None, left=None, right=None), right=NodeInfo(id=234, is_leaf=True, value=[0.35754321231576397], value_ratio=[1.0], impurity=0.1405489631681772, samples=5, sample_ratio=0.004672897196261682, feature_name=None, feature_id=None, threshold=None, left=None, right=None)), right=NodeInfo(id=235, is_leaf=False, value=[0.262832000214842], value_ratio=[1.0], impurity=0.06692329548288935, samples=22, sample_ratio=0.020560747663551402, feature_name='region_northeast', feature_id=5, threshold=0.5787904858589172, left=NodeInfo(id=236, is_leaf=False, value=[0.2358549410297617], value_ratio=[1.0], impurity=0.03629052283305386, samples=16, sample_ratio=0.014953271028037384, feature_name='region_northwest', feature_id=6, threshold=0.6111840605735779, left=NodeInfo(id=237, is_leaf=False, value=[0.23462377923951708], value_ratio=[1.0], impurity=0.0335780626383557, samples=11, sample_ratio=0.010280373831775701, feature_name='age', feature_id=0, threshold=1.2897204756736755, left=NodeInfo(id=238, is_leaf=True, value=[0.17534722291951083], value_ratio=[1.0], impurity=0.03966710037416206, samples=5, sample_ratio=0.004672897196261682, feature_name=None, feature_id=None, threshold=None, left=None, right=None), right=NodeInfo(id=239, is_leaf=True, value=[0.2358549410297617], value_ratio=[1.0], impurity=0.018624438471849362, samples=6, sample_ratio=0.005607476635514018, feature_name=None, feature_id=None, threshold=None, left=None, right=None)), right=NodeInfo(id=240, is_leaf=True, value=[0.28456748044951874], value_ratio=[1.0], impurity=0.03226919501938945, samples=5, sample_ratio=0.004672897196261682, feature_name=None, feature_id=None, threshold=None, left=None, right=None)), right=NodeInfo(id=241, is_leaf=True, value=[0.3226051886465955], value_ratio=[1.0], impurity=0.11064304936438979, samples=6, sample_ratio=0.005607476635514018, feature_name=None, feature_id=None, threshold=None, left=None, right=None)))), right=NodeInfo(id=242, is_leaf=False, value=[0.37664531757486686], value_ratio=[1.0], impurity=0.11384338945398403, samples=24, sample_ratio=0.022429906542056073, feature_name='age', feature_id=0, threshold=1.1475476026535034, left=NodeInfo(id=243, is_leaf=False, value=[0.3644640026825377], value_ratio=[1.0], impurity=0.13512781079989142, samples=16, sample_ratio=0.014953271028037384, feature_name='children', feature_id=3, threshold=1.1457183361053467, left=NodeInfo(id=244, is_leaf=True, value=[0.31478067360932127], value_ratio=[1.0], impurity=0.04826977786641975, samples=6, sample_ratio=0.005607476635514018, feature_name=None, feature_id=None, threshold=None, left=None, right=None), right=NodeInfo(id=245, is_leaf=False, value=[0.37664531757486686], value_ratio=[1.0], impurity=0.17319590572570387, samples=10, sample_ratio=0.009345794392523364, feature_name='bmi', feature_id=2, threshold=0.13071680068969727, left=NodeInfo(id=246, is_leaf=True, value=[0.3735332410358207], value_ratio=[1.0], impurity=0.02766873128632198, samples=5, sample_ratio=0.004672897196261682, feature_name=None, feature_id=None, threshold=None, left=None, right=None), right=NodeInfo(id=247, is_leaf=True, value=[0.37993357391352495], value_ratio=[1.0], impurity=0.3164734386740342, samples=5, sample_ratio=0.004672897196261682, feature_name=None, feature_id=None, threshold=None, left=None, right=None))), right=NodeInfo(id=248, is_leaf=True, value=[0.41831773947542256], value_ratio=[1.0], impurity=0.049850485070939185, samples=8, sample_ratio=0.007476635514018692, feature_name=None, feature_id=None, threshold=None, left=None, right=None))), right=NodeInfo(id=249, is_leaf=False, value=[0.5183678637847003], value_ratio=[1.0], impurity=0.1313872519654127, samples=86, sample_ratio=0.08037383177570094, feature_name='children', feature_id=3, threshold=-0.49981002137064934, left=NodeInfo(id=250, is_leaf=False, value=[0.48232177588450975], value_ratio=[1.0], impurity=0.08620397578454884, samples=56, sample_ratio=0.052336448598130844, feature_name='age', feature_id=0, threshold=1.5740662217140198, left=NodeInfo(id=251, is_leaf=False, value=[0.4249224710581819], value_ratio=[1.0], impurity=0.10362557537319292, samples=28, sample_ratio=0.026168224299065422, feature_name='age', feature_id=0, threshold=1.5029797554016113, left=NodeInfo(id=252, is_leaf=False, value=[0.40462544960733954], value_ratio=[1.0], impurity=0.10661450270832197, samples=17, sample_ratio=0.01588785046728972, feature_name='age', feature_id=0, threshold=1.4318933486938477, left=NodeInfo(id=253, is_leaf=True, value=[0.3679523059252617], value_ratio=[1.0], impurity=0.10625887328513015, samples=7, sample_ratio=0.0065420560747663555, feature_name=None, feature_id=None, threshold=None, left=None, right=None), right=NodeInfo(id=254, is_leaf=False, value=[0.4094407407749119], value_ratio=[1.0], impurity=0.1001699164950975, samples=10, sample_ratio=0.009345794392523364, feature_name='bmi', feature_id=2, threshold=-0.32536666840314865, left=NodeInfo(id=255, is_leaf=True, value=[0.4419031232080575], value_ratio=[1.0], impurity=0.17840670792432078, samples=5, sample_ratio=0.004672897196261682, feature_name=None, feature_id=None, threshold=None, left=None, right=None), right=NodeInfo(id=256, is_leaf=True, value=[0.40876851999659214], value_ratio=[1.0], impurity=0.015306204423581138, samples=5, sample_ratio=0.004672897196261682, feature_name=None, feature_id=None, threshold=None, left=None, right=None))), right=NodeInfo(id=257, is_leaf=False, value=[0.4583802334111573], value_ratio=[1.0], impurity=0.07739854330764553, samples=11, sample_ratio=0.010280373831775701, feature_name='sex', feature_id=1, threshold=-0.02430623769760132, left=NodeInfo(id=258, is_leaf=True, value=[0.4934598216020748], value_ratio=[1.0], impurity=0.10549319470837008, samples=6, sample_ratio=0.005607476635514018, feature_name=None, feature_id=None, threshold=None, left=None, right=None), right=NodeInfo(id=259, is_leaf=True, value=[0.43350980622664076], value_ratio=[1.0], impurity=0.028579978082453848, samples=5, sample_ratio=0.004672897196261682, feature_name=None, feature_id=None, threshold=None, left=None, right=None))), right=NodeInfo(id=260, is_leaf=False, value=[0.5221389747313766], value_ratio=[1.0], impurity=0.040193563730694506, samples=28, sample_ratio=0.026168224299065422, feature_name='region_northeast', feature_id=5, threshold=0.5787904858589172, left=NodeInfo(id=261, is_leaf=False, value=[0.4978053349162237], value_ratio=[1.0], impurity=0.032847143820968275, samples=20, sample_ratio=0.018691588785046728, feature_name='sex', feature_id=1, threshold=-0.02430623769760132, left=NodeInfo(id=262, is_leaf=False, value=[0.5221389747313766], value_ratio=[1.0], impurity=0.03156872085682732, samples=12, sample_ratio=0.011214953271028037, feature_name='age', feature_id=0, threshold=1.6451526880264282, left=NodeInfo(id=263, is_leaf=True, value=[0.4958329229742371], value_ratio=[1.0], impurity=0.006914745017475216, samples=6, sample_ratio=0.005607476635514018, feature_name=None, feature_id=None, threshold=None, left=None, right=None), right=NodeInfo(id=264, is_leaf=True, value=[0.5590107461967245], value_ratio=[1.0], impurity=0.016939701974203174, samples=6, sample_ratio=0.005607476635514018, feature_name=None, feature_id=None, threshold=None, left=None, right=None)), right=NodeInfo(id=265, is_leaf=True, value=[0.47772782071434666], value_ratio=[1.0], impurity=0.01991485883642785, samples=8, sample_ratio=0.007476635514018692, feature_name=None, feature_id=None, threshold=None, left=None, right=None)), right=NodeInfo(id=266, is_leaf=True, value=[0.5787817423773838], value_ratio=[1.0], impurity=0.024322041386430612, samples=8, sample_ratio=0.007476635514018692, feature_name=None, feature_id=None, threshold=None, left=None, right=None))), right=NodeInfo(id=267, is_leaf=False, value=[0.6024161315386024], value_ratio=[1.0], impurity=0.17825429586290661, samples=30, sample_ratio=0.028037383177570093, feature_name='age', feature_id=0, threshold=1.5740662217140198, left=NodeInfo(id=268, is_leaf=False, value=[0.5386183395028509], value_ratio=[1.0], impurity=0.19496574354272647, samples=15, sample_ratio=0.014018691588785047, feature_name='bmi', feature_id=2, threshold=0.36289721727371216, left=NodeInfo(id=269, is_leaf=False, value=[0.5023403914212642], value_ratio=[1.0], impurity=0.060178254594382606, samples=10, sample_ratio=0.009345794392523364, feature_name='sex', feature_id=1, threshold=-0.02430623769760132, left=NodeInfo(id=270, is_leaf=True, value=[0.5386183395028509], value_ratio=[1.0], impurity=0.0348351830426941, samples=5, sample_ratio=0.004672897196261682, feature_name=None, feature_id=None, threshold=None, left=None, right=None), right=NodeInfo(id=271, is_leaf=True, value=[0.4281944124002317], value_ratio=[1.0], impurity=0.029450207146767427, samples=5, sample_ratio=0.004672897196261682, feature_name=None, feature_id=None, threshold=None, left=None, right=None)), right=NodeInfo(id=272, is_leaf=True, value=[1.1400228225593403], value_ratio=[1.0], impurity=0.3385867130351651, samples=5, sample_ratio=0.004672897196261682, feature_name=None, feature_id=None, threshold=None, left=None, right=None)), right=NodeInfo(id=273, is_leaf=False, value=[0.6342447316776203], value_ratio=[1.0], impurity=0.129018407309448, samples=15, sample_ratio=0.014018691588785047, feature_name='age', feature_id=0, threshold=1.716239094734192, left=NodeInfo(id=274, is_leaf=False, value=[0.6241948467309437], value_ratio=[1.0], impurity=0.12576379311889382, samples=10, sample_ratio=0.009345794392523364, feature_name='children', feature_id=3, threshold=0.3229541666805744, left=NodeInfo(id=275, is_leaf=True, value=[0.5988448397687314], value_ratio=[1.0], impurity=0.24077144730877326, samples=5, sample_ratio=0.004672897196261682, feature_name=None, feature_id=None, threshold=None, left=None, right=None), right=NodeInfo(id=276, is_leaf=True, value=[0.6243357401708511], value_ratio=[1.0], impurity=0.005657958848590461, samples=5, sample_ratio=0.004672897196261682, feature_name=None, feature_id=None, threshold=None, left=None, right=None)), right=NodeInfo(id=277, is_leaf=True, value=[0.648848800466475], value_ratio=[1.0], impurity=0.12320638218569693, samples=5, sample_ratio=0.004672897196261682, feature_name=None, feature_id=None, threshold=None, left=None, right=None))))))), right=NodeInfo(id=278, is_leaf=False, value=[1.2520816960125938], value_ratio=[1.0], impurity=0.44707534130176574, samples=220, sample_ratio=0.205607476635514, feature_name='bmi', feature_id=2, threshold=-0.07456214539706707, left=NodeInfo(id=279, is_leaf=False, value=[0.8357937043825827], value_ratio=[1.0], impurity=0.15627455080633051, samples=106, sample_ratio=0.09906542056074766, feature_name='age', feature_id=0, threshold=0.11679434031248093, left=NodeInfo(id=280, is_leaf=False, value=[0.7321861813626511], value_ratio=[1.0], impurity=0.1049369922481313, samples=64, sample_ratio=0.059813084112149535, feature_name='age', feature_id=0, threshold=-0.7006996273994446, left=NodeInfo(id=281, is_leaf=False, value=[0.6828986401445354], value_ratio=[1.0], impurity=0.10211257148521617, samples=36, sample_ratio=0.03364485981308411, feature_name='bmi', feature_id=2, threshold=-1.1791781187057495, left=NodeInfo(id=282, is_leaf=False, value=[0.6142998615686086], value_ratio=[1.0], impurity=0.0652592952898678, samples=14, sample_ratio=0.013084112149532711, feature_name='age', feature_id=0, threshold=-0.9139589369297028, left=NodeInfo(id=283, is_leaf=True, value=[0.5941940914902957], value_ratio=[1.0], impurity=0.07559671345557334, samples=9, sample_ratio=0.008411214953271028, feature_name=None, feature_id=None, threshold=None, left=None, right=None), right=NodeInfo(id=284, is_leaf=True, value=[0.6543159586855972], value_ratio=[1.0], impurity=0.012624219472272324, samples=5, sample_ratio=0.004672897196261682, feature_name=None, feature_id=None, threshold=None, left=None, right=None)), right=NodeInfo(id=285, is_leaf=False, value=[0.7150372524562265], value_ratio=[1.0], impurity=0.09721229814885103, samples=22, sample_ratio=0.020560747663551402, feature_name='age', feature_id=0, threshold=-1.269391119480133, left=NodeInfo(id=286, is_leaf=False, value=[0.6967220561108575], value_ratio=[1.0], impurity=0.08805587843167248, samples=13, sample_ratio=0.012149532710280374, feature_name='sex', feature_id=1, threshold=-0.02430623769760132, left=NodeInfo(id=287, is_leaf=True, value=[0.7167138916795308], value_ratio=[1.0], impurity=0.1374580090438462, samples=7, sample_ratio=0.0065420560747663555, feature_name=None, feature_id=None, threshold=None, left=None, right=None), right=NodeInfo(id=288, is_leaf=True, value=[0.6782888865025656], value_ratio=[1.0], impurity=0.02383122321111873, samples=6, sample_ratio=0.005607476635514018, feature_name=None, feature_id=None, threshold=None, left=None, right=None)), right=NodeInfo(id=289, is_leaf=True, value=[0.7413970462654711], value_ratio=[1.0], impurity=0.09252649584962973, samples=9, sample_ratio=0.008411214953271028, feature_name=None, feature_id=None, threshold=None, left=None, right=None))), right=NodeInfo(id=290, is_leaf=False, value=[0.8048146725161187], value_ratio=[1.0], impurity=0.0664404637299261, samples=28, sample_ratio=0.026168224299065422, feature_name='bmi', feature_id=2, threshold=-0.9465838074684143, left=NodeInfo(id=291, is_leaf=False, value=[0.7138204951698807], value_ratio=[1.0], impurity=0.04204048011475624, samples=10, sample_ratio=0.009345794392523364, feature_name='sex', feature_id=1, threshold=-0.02430623769760132, left=NodeInfo(id=292, is_leaf=True, value=[0.7446831119697188], value_ratio=[1.0], impurity=0.03839812464489654, samples=5, sample_ratio=0.004672897196261682, feature_name=None, feature_id=None, threshold=None, left=None, right=None), right=NodeInfo(id=293, is_leaf=True, value=[0.6983039312748568], value_ratio=[1.0], impurity=0.03640699944564354, samples=5, sample_ratio=0.004672897196261682, feature_name=None, feature_id=None, threshold=None, left=None, right=None)), right=NodeInfo(id=294, is_leaf=False, value=[0.849120885730732], value_ratio=[1.0], impurity=0.04494141880585541, samples=18, sample_ratio=0.016822429906542057, feature_name='age', feature_id=0, threshold=-0.09646495245397091, left=NodeInfo(id=295, is_leaf=False, value=[0.8374333894712984], value_ratio=[1.0], impurity=0.0372806629301898, samples=13, sample_ratio=0.012149532710280374, feature_name='bmi', feature_id=2, threshold=-0.5198850333690643, left=NodeInfo(id=296, is_leaf=True, value=[0.7862370415650348], value_ratio=[1.0], impurity=0.02408149822235759, samples=5, sample_ratio=0.004672897196261682, feature_name=None, feature_id=None, threshold=None, left=None, right=None), right=NodeInfo(id=297, is_leaf=True, value=[0.857961785512727], value_ratio=[1.0], impurity=0.03060500590445918, samples=8, sample_ratio=0.007476635514018692, feature_name=None, feature_id=None, threshold=None, left=None, right=None)), right=NodeInfo(id=298, is_leaf=True, value=[0.9178582636118182], value_ratio=[1.0], impurity=0.03321387713525483, samples=5, sample_ratio=0.004672897196261682, feature_name=None, feature_id=None, threshold=None, left=None, right=None)))), right=NodeInfo(id=299, is_leaf=False, value=[1.0078133538738543], value_ratio=[1.0], impurity=0.10680258600676182, samples=42, sample_ratio=0.03925233644859813, feature_name='age', feature_id=0, threshold=1.218634009361267, left=NodeInfo(id=300, is_leaf=False, value=[0.9727548879122976], value_ratio=[1.0], impurity=0.09292186808337496, samples=32, sample_ratio=0.029906542056074768, feature_name='age', feature_id=0, threshold=0.5077697336673737, left=NodeInfo(id=301, is_leaf=False, value=[0.9011078459531584], value_ratio=[1.0], impurity=0.12956308057928037, samples=14, sample_ratio=0.013084112149532711, feature_name='bmi', feature_id=2, threshold=-1.1667620539665222, left=NodeInfo(id=302, is_leaf=True, value=[0.8306377823729716], value_ratio=[1.0], impurity=0.10315625771950511, samples=6, sample_ratio=0.005607476635514018, feature_name=None, feature_id=None, threshold=None, left=None, right=None), right=NodeInfo(id=303, is_leaf=True, value=[0.9221482179861249], value_ratio=[1.0], impurity=0.12430600522184942, samples=8, sample_ratio=0.007476635514018692, feature_name=None, feature_id=None, threshold=None, left=None, right=None)), right=NodeInfo(id=304, is_leaf=False, value=[0.9986972946227906], value_ratio=[1.0], impurity=0.03613406702343607, samples=18, sample_ratio=0.016822429906542057, feature_name='children', feature_id=3, threshold=1.1457183361053467, left=NodeInfo(id=305, is_leaf=False, value=[0.9759597776881], value_ratio=[1.0], impurity=0.03423387724990092, samples=11, sample_ratio=0.010280373831775701, feature_name='bmi', feature_id=2, threshold=-0.7106785774230957, left=NodeInfo(id=306, is_leaf=True, value=[0.9626706071429534], value_ratio=[1.0], impurity=0.03216846531098503, samples=6, sample_ratio=0.005607476635514018, feature_name=None, feature_id=None, threshold=None, left=None, right=None), right=NodeInfo(id=307, is_leaf=True, value=[1.0062120040912195], value_ratio=[1.0], impurity=0.030661926295976104, samples=5, sample_ratio=0.004672897196261682, feature_name=None, feature_id=None, threshold=None, left=None, right=None)), right=NodeInfo(id=308, is_leaf=True, value=[1.0277431359838103], value_ratio=[1.0], impurity=0.018205225736859534, samples=7, sample_ratio=0.0065420560747663555, feature_name=None, feature_id=None, threshold=None, left=None, right=None))), right=NodeInfo(id=309, is_leaf=False, value=[1.1444873019399675], value_ratio=[1.0], impurity=0.03343861208584995, samples=10, sample_ratio=0.009345794392523364, feature_name='bmi', feature_id=2, threshold=-0.3175031542778015, left=NodeInfo(id=310, is_leaf=True, value=[1.134618621201025], value_ratio=[1.0], impurity=0.031087900002495016, samples=5, sample_ratio=0.004672897196261682, feature_name=None, feature_id=None, threshold=None, left=None, right=None), right=NodeInfo(id=311, is_leaf=True, value=[1.168488944405015], value_ratio=[1.0], impurity=0.02901525952840687, samples=5, sample_ratio=0.004672897196261682, feature_name=None, feature_id=None, threshold=None, left=None, right=None)))), right=NodeInfo(id=312, is_leaf=False, value=[1.6194337822923148], value_ratio=[1.0], impurity=0.3384102011753253, samples=114, sample_ratio=0.10654205607476636, feature_name='age', feature_id=0, threshold=0.18788078427314758, left=NodeInfo(id=313, is_leaf=False, value=[1.4186278578482188], value_ratio=[1.0], impurity=0.18667054107375158, samples=63, sample_ratio=0.058878504672897194, feature_name='age', feature_id=0, threshold=-0.8428725004196167, left=NodeInfo(id=314, is_leaf=False, value=[1.334072345336636], value_ratio=[1.0], impurity=0.08761496109905546, samples=36, sample_ratio=0.03364485981308411, feature_name='bmi', feature_id=2, threshold=0.8363631963729858, left=NodeInfo(id=315, is_leaf=False, value=[1.2741050864632602], value_ratio=[1.0], impurity=0.04063749707845994, samples=22, sample_ratio=0.020560747663551402, feature_name='children', feature_id=3, threshold=0.3229541666805744, left=NodeInfo(id=316, is_leaf=False, value=[1.2601736221654907], value_ratio=[1.0], impurity=0.030031742876643643, samples=15, sample_ratio=0.014018691588785047, feature_name='bmi', feature_id=2, threshold=0.08891604840755463, left=NodeInfo(id=317, is_leaf=True, value=[1.2365062587211066], value_ratio=[1.0], impurity=0.010674108189617958, samples=5, sample_ratio=0.004672897196261682, feature_name=None, feature_id=None, threshold=None, left=None, right=None), right=NodeInfo(id=318, is_leaf=False, value=[1.2741050864632602], value_ratio=[1.0], impurity=0.027296345553986922, samples=10, sample_ratio=0.009345794392523364, feature_name='age', feature_id=0, threshold=-1.3404775261878967, left=NodeInfo(id=319, is_leaf=True, value=[1.272421613037499], value_ratio=[1.0], impurity=0.035360255213136106, samples=5, sample_ratio=0.004672897196261682, feature_name=None, feature_id=None, threshold=None, left=None, right=None), right=NodeInfo(id=320, is_leaf=True, value=[1.2757885598890215], value_ratio=[1.0], impurity=0.01855904652453324, samples=5, sample_ratio=0.004672897196261682, feature_name=None, feature_id=None, threshold=None, left=None, right=None))), right=NodeInfo(id=321, is_leaf=True, value=[1.3312534775876652], value_ratio=[1.0], impurity=0.02299944466247455, samples=7, sample_ratio=0.0065420560747663555, feature_name=None, feature_id=None, threshold=None, left=None, right=None)), right=NodeInfo(id=322, is_leaf=False, value=[1.4405853709081902], value_ratio=[1.0], impurity=0.0709543980424143, samples=14, sample_ratio=0.013084112149532711, feature_name='bmi', feature_id=2, threshold=1.751427173614502, left=NodeInfo(id=323, is_leaf=True, value=[1.4186278578482188], value_ratio=[1.0], impurity=0.03242629342362776, samples=9, sample_ratio=0.008411214953271028, feature_name=None, feature_id=None, threshold=None, left=None, right=None), right=NodeInfo(id=324, is_leaf=True, value=[1.5213439272751197], value_ratio=[1.0], impurity=0.07241714372626742, samples=5, sample_ratio=0.004672897196261682, feature_name=None, feature_id=None, threshold=None, left=None, right=None))), right=NodeInfo(id=325, is_leaf=False, value=[1.5665254134382312], value_ratio=[1.0], impurity=0.23123852743768672, samples=27, sample_ratio=0.025233644859813085, feature_name='children', feature_id=3, threshold=-0.49981002137064934, left=NodeInfo(id=326, is_leaf=True, value=[1.4048857048244412], value_ratio=[1.0], impurity=0.22140919685019, samples=8, sample_ratio=0.007476635514018692, feature_name=None, feature_id=None, threshold=None, left=None, right=None), right=NodeInfo(id=327, is_leaf=False, value=[1.5799281422829936], value_ratio=[1.0], impurity=0.20435036120264488, samples=19, sample_ratio=0.017757009345794394, feature_name='bmi', feature_id=2, threshold=1.2229166626930237, left=NodeInfo(id=328, is_leaf=False, value=[1.560687904054748], value_ratio=[1.0], impurity=0.1236179386148712, samples=14, sample_ratio=0.013084112149532711, feature_name='bmi', feature_id=2, threshold=0.5946637690067291, left=NodeInfo(id=329, is_leaf=True, value=[1.5689597043203831], value_ratio=[1.0], impurity=0.07422595425316199, samples=6, sample_ratio=0.005607476635514018, feature_name=None, feature_id=None, threshold=None, left=None, right=None), right=NodeInfo(id=330, is_leaf=True, value=[1.5519623944939331], value_ratio=[1.0], impurity=0.15774317219441158, samples=8, sample_ratio=0.007476635514018692, feature_name=None, feature_id=None, threshold=None, left=None, right=None)), right=NodeInfo(id=331, is_leaf=True, value=[1.7975373952616884], value_ratio=[1.0], impurity=0.3104508005704233, samples=5, sample_ratio=0.004672897196261682, feature_name=None, feature_id=None, threshold=None, left=None, right=None)))), right=NodeInfo(id=332, is_leaf=False, value=[1.9156444389225697], value_ratio=[1.0], impurity=0.30995638023190103, samples=51, sample_ratio=0.04766355140186916, feature_name='age', feature_id=0, threshold=1.218634009361267, left=NodeInfo(id=333, is_leaf=False, value=[1.780794879892068], value_ratio=[1.0], impurity=0.2938615466314412, samples=33, sample_ratio=0.0308411214953271, feature_name='bmi', feature_id=2, threshold=1.0271566808223724, left=NodeInfo(id=334, is_leaf=False, value=[1.7279792984771034], value_ratio=[1.0], impurity=0.281304960715183, samples=24, sample_ratio=0.022429906542056073, feature_name='age', feature_id=0, threshold=0.7921154499053955, left=NodeInfo(id=335, is_leaf=False, value=[1.673748206762901], value_ratio=[1.0], impurity=0.29713088651382763, samples=15, sample_ratio=0.014018691588785047, feature_name='bmi', feature_id=2, threshold=0.17210368625819683, left=NodeInfo(id=336, is_leaf=True, value=[1.5297813586832485], value_ratio=[1.0], impurity=0.7610884505046963, samples=5, sample_ratio=0.004672897196261682, feature_name=None, feature_id=None, threshold=None, left=None, right=None), right=NodeInfo(id=337, is_leaf=False, value=[1.6829827310078866], value_ratio=[1.0], impurity=0.03872598356319081, samples=10, sample_ratio=0.009345794392523364, feature_name='bmi', feature_id=2, threshold=0.6985448598861694, left=NodeInfo(id=338, is_leaf=True, value=[1.673748206762901], value_ratio=[1.0], impurity=0.03460724995891455, samples=5, sample_ratio=0.004672897196261682, feature_name=None, feature_id=None, threshold=None, left=None, right=None), right=NodeInfo(id=339, is_leaf=True, value=[1.71850063621535], value_ratio=[1.0], impurity=0.03389423127697726, samples=5, sample_ratio=0.004672897196261682, feature_name=None, feature_id=None, threshold=None, left=None, right=None))), right=NodeInfo(id=340, is_leaf=True, value=[1.821594787656926], value_ratio=[1.0], impurity=0.1843743546826865, samples=9, sample_ratio=0.008411214953271028, feature_name=None, feature_id=None, threshold=None, left=None, right=None)), right=NodeInfo(id=341, is_leaf=True, value=[1.9981655974217682], value_ratio=[1.0], impurity=0.1497484193747235, samples=9, sample_ratio=0.008411214953271028, feature_name=None, feature_id=None, threshold=None, left=None, right=None)), right=NodeInfo(id=342, is_leaf=False, value=[2.1702586476738857], value_ratio=[1.0], impurity=0.16789904968312333, samples=18, sample_ratio=0.016822429906542057, feature_name='bmi', feature_id=2, threshold=0.957212895154953, left=NodeInfo(id=343, is_leaf=False, value=[2.057745388970214], value_ratio=[1.0], impurity=0.13016647754396365, samples=11, sample_ratio=0.010280373831775701, feature_name='region_southwest', feature_id=8, threshold=0.5874890983104706, left=NodeInfo(id=344, is_leaf=True, value=[1.9969570086575525], value_ratio=[1.0], impurity=0.05818257240263983, samples=6, sample_ratio=0.005607476635514018, feature_name=None, feature_id=None, threshold=None, left=None, right=None), right=NodeInfo(id=345, is_leaf=True, value=[2.1484224367752986], value_ratio=[1.0], impurity=0.13600881267195897, samples=5, sample_ratio=0.004672897196261682, feature_name=None, feature_id=None, threshold=None, left=None, right=None)), right=NodeInfo(id=346, is_leaf=True, value=[2.3246820883649204], value_ratio=[1.0], impurity=0.09605401121996879, samples=7, sample_ratio=0.0065420560747663555, feature_name=None, feature_id=None, threshold=None, left=None, right=None)))))), graphviz='digraph Tree {\\nnode [shape=box] ;\\n0 [label=\"smoker <= 0.728\\\\nmae = 0.803\\\\nsamples = 100.0%\\\\nvalue = -0.0\"] ;\\n1 [label=\"age <= 0.223\\\\nmae = 0.637\\\\nsamples = 79.4%\\\\nvalue = -0.26\"] ;\\n0 -> 1 [labeldistance=2.5, labelangle=45, headlabel=\"True\"] ;\\n2 [label=\"age <= -0.843\\\\nmae = 0.542\\\\nsamples = 43.6%\\\\nvalue = -0.78\"] ;\\n1 -> 2 ;\\n3 [label=\"children <= -0.5\\\\nmae = 0.566\\\\nsamples = 20.6%\\\\nvalue = -1.268\"] ;\\n2 -> 3 ;\\n4 [label=\"age <= -1.412\\\\nmae = 0.511\\\\nsamples = 13.0%\\\\nvalue = -1.464\"] ;\\n3 -> 4 ;\\n5 [label=\"region_northeast <= 0.579\\\\nmae = 0.513\\\\nsamples = 5.9%\\\\nvalue = -1.857\"] ;\\n4 -> 5 ;\\n6 [label=\"sex <= -0.024\\\\nmae = 0.466\\\\nsamples = 4.3%\\\\nvalue = -1.981\"] ;\\n5 -> 6 ;\\n7 [label=\"age <= -1.483\\\\nmae = 0.366\\\\nsamples = 2.1%\\\\nvalue = -1.71\"] ;\\n6 -> 7 ;\\n8 [label=\"bmi <= 0.795\\\\nmae = 0.447\\\\nsamples = 1.1%\\\\nvalue = -1.944\"] ;\\n7 -> 8 ;\\n9 [label=\"mae = 0.475\\\\nsamples = 0.5%\\\\nvalue = -2.054\"] ;\\n8 -> 9 ;\\n10 [label=\"mae = 0.376\\\\nsamples = 0.7%\\\\nvalue = -1.91\"] ;\\n8 -> 10 ;\\n11 [label=\"region_southwest <= 0.587\\\\nmae = 0.117\\\\nsamples = 1.0%\\\\nvalue = -1.667\"] ;\\n7 -> 11 ;\\n12 [label=\"mae = 0.007\\\\nsamples = 0.5%\\\\nvalue = -1.44\"] ;\\n11 -> 12 ;\\n13 [label=\"mae = 0.015\\\\nsamples = 0.6%\\\\nvalue = -1.691\"] ;\\n11 -> 13 ;\\n14 [label=\"region_southeast <= 0.534\\\\nmae = 0.393\\\\nsamples = 2.1%\\\\nvalue = -2.3\"] ;\\n6 -> 14 ;\\n15 [label=\"region_southwest <= 0.587\\\\nmae = 0.18\\\\nsamples = 1.4%\\\\nvalue = -2.197\"] ;\\n14 -> 15 ;\\n16 [label=\"mae = 0.063\\\\nsamples = 0.7%\\\\nvalue = -1.924\"] ;\\n15 -> 16 ;\\n17 [label=\"mae = 0.065\\\\nsamples = 0.7%\\\\nvalue = -2.294\"] ;\\n15 -> 17 ;\\n18 [label=\"mae = 0.448\\\\nsamples = 0.7%\\\\nvalue = -2.743\"] ;\\n14 -> 18 ;\\n19 [label=\"sex <= -0.024\\\\nmae = 0.393\\\\nsamples = 1.6%\\\\nvalue = -1.375\"] ;\\n5 -> 19 ;\\n20 [label=\"bmi <= 0.091\\\\nmae = 0.239\\\\nsamples = 0.9%\\\\nvalue = -1.363\"] ;\\n19 -> 20 ;\\n21 [label=\"mae = 0.462\\\\nsamples = 0.5%\\\\nvalue = -1.375\"] ;\\n20 -> 21 ;\\n22 [label=\"mae = 0.007\\\\nsamples = 0.5%\\\\nvalue = -1.354\"] ;\\n20 -> 22 ;\\n23 [label=\"mae = 0.33\\\\nsamples = 0.7%\\\\nvalue = -1.784\"] ;\\n19 -> 23 ;\\n24 [label=\"age <= -1.198\\\\nmae = 0.363\\\\nsamples = 7.1%\\\\nvalue = -1.254\"] ;\\n4 -> 24 ;\\n25 [label=\"sex <= -0.024\\\\nmae = 0.239\\\\nsamples = 3.0%\\\\nvalue = -1.476\"] ;\\n24 -> 25 ;\\n26 [label=\"region_southwest <= 0.587\\\\nmae = 0.114\\\\nsamples = 1.5%\\\\nvalue = -1.407\"] ;\\n25 -> 26 ;\\n27 [label=\"bmi <= -0.275\\\\nmae = 0.106\\\\nsamples = 1.0%\\\\nvalue = -1.31\"] ;\\n26 -> 27 ;\\n28 [label=\"mae = 0.086\\\\nsamples = 0.5%\\\\nvalue = -1.259\"] ;\\n27 -> 28 ;\\n29 [label=\"mae = 0.114\\\\nsamples = 0.6%\\\\nvalue = -1.312\"] ;\\n27 -> 29 ;\\n30 [label=\"mae = 0.053\\\\nsamples = 0.5%\\\\nvalue = -1.495\"] ;\\n26 -> 30 ;\\n31 [label=\"region_northeast <= 0.579\\\\nmae = 0.326\\\\nsamples = 1.5%\\\\nvalue = -1.557\"] ;\\n25 -> 31 ;\\n32 [label=\"region_northwest <= 0.611\\\\nmae = 0.441\\\\nsamples = 0.9%\\\\nvalue = -1.621\"] ;\\n31 -> 32 ;\\n33 [label=\"mae = 0.631\\\\nsamples = 0.5%\\\\nvalue = -2.137\"] ;\\n32 -> 33 ;\\n34 [label=\"mae = 0.038\\\\nsamples = 0.5%\\\\nvalue = -1.572\"] ;\\n32 -> 34 ;\\n35 [label=\"mae = 0.071\\\\nsamples = 0.6%\\\\nvalue = -1.467\"] ;\\n31 -> 35 ;\\n36 [label=\"sex <= -0.024\\\\nmae = 0.373\\\\nsamples = 4.1%\\\\nvalue = -1.159\"] ;\\n24 -> 36 ;\\n37 [label=\"region_southwest <= 0.587\\\\nmae = 0.441\\\\nsamples = 2.1%\\\\nvalue = -1.054\"] ;\\n36 -> 37 ;\\n38 [label=\"age <= -1.056\\\\nmae = 0.29\\\\nsamples = 1.6%\\\\nvalue = -1.058\"] ;\\n37 -> 38 ;\\n39 [label=\"mae = 0.289\\\\nsamples = 0.8%\\\\nvalue = -1.127\"] ;\\n38 -> 39 ;\\n40 [label=\"mae = 0.246\\\\nsamples = 0.7%\\\\nvalue = -1.024\"] ;\\n38 -> 40 ;\\n41 [label=\"mae = 0.715\\\\nsamples = 0.5%\\\\nvalue = 0.145\"] ;\\n37 -> 41 ;\\n42 [label=\"age <= -1.056\\\\nmae = 0.24\\\\nsamples = 2.1%\\\\nvalue = -1.227\"] ;\\n36 -> 42 ;\\n43 [label=\"bmi <= -0.729\\\\nmae = 0.33\\\\nsamples = 0.9%\\\\nvalue = -1.529\"] ;\\n42 -> 43 ;\\n44 [label=\"mae = 0.542\\\\nsamples = 0.5%\\\\nvalue = -1.286\"] ;\\n43 -> 44 ;\\n45 [label=\"mae = 0.048\\\\nsamples = 0.5%\\\\nvalue = -1.632\"] ;\\n43 -> 45 ;\\n46 [label=\"age <= -0.914\\\\nmae = 0.043\\\\nsamples = 1.1%\\\\nvalue = -1.205\"] ;\\n42 -> 46 ;\\n47 [label=\"mae = 0.04\\\\nsamples = 0.7%\\\\nvalue = -1.175\"] ;\\n46 -> 47 ;\\n48 [label=\"mae = 0.033\\\\nsamples = 0.5%\\\\nvalue = -1.219\"] ;\\n46 -> 48 ;\\n49 [label=\"children <= 0.323\\\\nmae = 0.473\\\\nsamples = 7.6%\\\\nvalue = -0.965\"] ;\\n3 -> 49 ;\\n50 [label=\"age <= -1.127\\\\nmae = 0.438\\\\nsamples = 3.4%\\\\nvalue = -1.16\"] ;\\n49 -> 50 ;\\n51 [label=\"bmi <= -0.986\\\\nmae = 0.343\\\\nsamples = 2.1%\\\\nvalue = -1.313\"] ;\\n50 -> 51 ;\\n52 [label=\"mae = 0.17\\\\nsamples = 0.7%\\\\nvalue = -1.511\"] ;\\n51 -> 52 ;\\n53 [label=\"region_northwest <= 0.611\\\\nmae = 0.401\\\\nsamples = 1.3%\\\\nvalue = -1.276\"] ;\\n51 -> 53 ;\\n54 [label=\"mae = 0.579\\\\nsamples = 0.8%\\\\nvalue = -1.292\"] ;\\n53 -> 54 ;\\n55 [label=\"mae = 0.059\\\\nsamples = 0.5%\\\\nvalue = -1.181\"] ;\\n53 -> 55 ;\\n56 [label=\"age <= -0.914\\\\nmae = 0.375\\\\nsamples = 1.3%\\\\nvalue = -0.974\"] ;\\n50 -> 56 ;\\n57 [label=\"mae = 0.183\\\\nsamples = 0.8%\\\\nvalue = -0.998\"] ;\\n56 -> 57 ;\\n58 [label=\"mae = 0.665\\\\nsamples = 0.5%\\\\nvalue = -0.882\"] ;\\n56 -> 58 ;\\n59 [label=\"children <= 1.968\\\\nmae = 0.441\\\\nsamples = 4.2%\\\\nvalue = -0.852\"] ;\\n49 -> 59 ;\\n60 [label=\"age <= -1.269\\\\nmae = 0.41\\\\nsamples = 3.6%\\\\nvalue = -0.885\"] ;\\n59 -> 60 ;\\n61 [label=\"region_northwest <= 0.611\\\\nmae = 0.52\\\\nsamples = 1.5%\\\\nvalue = -1.037\"] ;\\n60 -> 61 ;\\n62 [label=\"region_southeast <= 0.534\\\\nmae = 0.204\\\\nsamples = 1.0%\\\\nvalue = -1.056\"] ;\\n61 -> 62 ;\\n63 [label=\"mae = 0.049\\\\nsamples = 0.5%\\\\nvalue = -0.989\"] ;\\n62 -> 63 ;\\n64 [label=\"mae = 0.302\\\\nsamples = 0.6%\\\\nvalue = -1.11\"] ;\\n62 -> 64 ;\\n65 [label=\"mae = 0.851\\\\nsamples = 0.5%\\\\nvalue = 0.757\"] ;\\n61 -> 65 ;\\n66 [label=\"region_northeast <= 0.579\\\\nmae = 0.292\\\\nsamples = 2.1%\\\\nvalue = -0.842\"] ;\\n60 -> 66 ;\\n67 [label=\"sex <= -0.024\\\\nmae = 0.156\\\\nsamples = 1.4%\\\\nvalue = -0.874\"] ;\\n66 -> 67 ;\\n68 [label=\"mae = 0.227\\\\nsamples = 0.7%\\\\nvalue = -0.83\"] ;\\n67 -> 68 ;\\n69 [label=\"mae = 0.048\\\\nsamples = 0.7%\\\\nvalue = -0.934\"] ;\\n67 -> 69 ;\\n70 [label=\"mae = 0.531\\\\nsamples = 0.7%\\\\nvalue = -0.726\"] ;\\n66 -> 70 ;\\n71 [label=\"mae = 0.46\\\\nsamples = 0.7%\\\\nvalue = -0.68\"] ;\\n59 -> 71 ;\\n72 [label=\"age <= -0.487\\\\nmae = 0.263\\\\nsamples = 23.1%\\\\nvalue = -0.532\"] ;\\n2 -> 72 ;\\n73 [label=\"children <= -0.5\\\\nmae = 0.237\\\\nsamples = 7.6%\\\\nvalue = -0.782\"] ;\\n72 -> 73 ;\\n74 [label=\"age <= -0.665\\\\nmae = 0.163\\\\nsamples = 2.2%\\\\nvalue = -0.925\"] ;\\n73 -> 74 ;\\n75 [label=\"sex <= -0.024\\\\nmae = 0.206\\\\nsamples = 1.2%\\\\nvalue = -1.026\"] ;\\n74 -> 75 ;\\n76 [label=\"mae = 0.053\\\\nsamples = 0.7%\\\\nvalue = -1.002\"] ;\\n75 -> 76 ;\\n77 [label=\"mae = 0.355\\\\nsamples = 0.6%\\\\nvalue = -1.1\"] ;\\n75 -> 77 ;\\n78 [label=\"age <= -0.559\\\\nmae = 0.057\\\\nsamples = 1.0%\\\\nvalue = -0.872\"] ;\\n74 -> 78 ;\\n79 [label=\"mae = 0.053\\\\nsamples = 0.6%\\\\nvalue = -0.915\"] ;\\n78 -> 79 ;\\n80 [label=\"mae = 0.046\\\\nsamples = 0.5%\\\\nvalue = -0.869\"] ;\\n78 -> 80 ;\\n81 [label=\"children <= 1.146\\\\nmae = 0.229\\\\nsamples = 5.3%\\\\nvalue = -0.72\"] ;\\n73 -> 81 ;\\n82 [label=\"sex <= -0.024\\\\nmae = 0.242\\\\nsamples = 4.2%\\\\nvalue = -0.77\"] ;\\n81 -> 82 ;\\n83 [label=\"region_southeast <= 0.534\\\\nmae = 0.226\\\\nsamples = 1.8%\\\\nvalue = -0.704\"] ;\\n82 -> 83 ;\\n84 [label=\"children <= 0.323\\\\nmae = 0.181\\\\nsamples = 1.1%\\\\nvalue = -0.669\"] ;\\n83 -> 84 ;\\n85 [label=\"mae = 0.284\\\\nsamples = 0.7%\\\\nvalue = -0.709\"] ;\\n84 -> 85 ;\\n86 [label=\"mae = 0.014\\\\nsamples = 0.5%\\\\nvalue = -0.663\"] ;\\n84 -> 86 ;\\n87 [label=\"mae = 0.268\\\\nsamples = 0.7%\\\\nvalue = -0.802\"] ;\\n83 -> 87 ;\\n88 [label=\"age <= -0.559\\\\nmae = 0.238\\\\nsamples = 2.4%\\\\nvalue = -0.781\"] ;\\n82 -> 88 ;\\n89 [label=\"children <= 0.323\\\\nmae = 0.304\\\\nsamples = 1.8%\\\\nvalue = -0.822\"] ;\\n88 -> 89 ;\\n90 [label=\"bmi <= -0.062\\\\nmae = 0.218\\\\nsamples = 0.9%\\\\nvalue = -0.859\"] ;\\n89 -> 90 ;\\n91 [label=\"mae = 0.025\\\\nsamples = 0.5%\\\\nvalue = -0.825\"] ;\\n90 -> 91 ;\\n92 [label=\"mae = 0.372\\\\nsamples = 0.5%\\\\nvalue = -0.938\"] ;\\n90 -> 92 ;\\n93 [label=\"mae = 0.368\\\\nsamples = 0.8%\\\\nvalue = -0.78\"] ;\\n89 -> 93 ;\\n94 [label=\"mae = 0.031\\\\nsamples = 0.7%\\\\nvalue = -0.723\"] ;\\n88 -> 94 ;\\n95 [label=\"age <= -0.63\\\\nmae = 0.069\\\\nsamples = 1.1%\\\\nvalue = -0.577\"] ;\\n81 -> 95 ;\\n96 [label=\"mae = 0.049\\\\nsamples = 0.7%\\\\nvalue = -0.609\"] ;\\n95 -> 96 ;\\n97 [label=\"mae = 0.073\\\\nsamples = 0.5%\\\\nvalue = -0.492\"] ;\\n95 -> 97 ;\\n98 [label=\"age <= -0.203\\\\nmae = 0.201\\\\nsamples = 15.5%\\\\nvalue = -0.441\"] ;\\n72 -> 98 ;\\n99 [label=\"children <= 0.323\\\\nmae = 0.24\\\\nsamples = 6.0%\\\\nvalue = -0.58\"] ;\\n98 -> 99 ;\\n100 [label=\"children <= -0.5\\\\nmae = 0.168\\\\nsamples = 3.5%\\\\nvalue = -0.651\"] ;\\n99 -> 100 ;\\n101 [label=\"region_southeast <= 0.534\\\\nmae = 0.193\\\\nsamples = 1.5%\\\\nvalue = -0.745\"] ;\\n100 -> 101 ;\\n102 [label=\"bmi <= -0.728\\\\nmae = 0.212\\\\nsamples = 1.0%\\\\nvalue = -0.654\"] ;\\n101 -> 102 ;\\n103 [label=\"mae = 0.297\\\\nsamples = 0.6%\\\\nvalue = -0.621\"] ;\\n102 -> 103 ;\\n104 [label=\"mae = 0.072\\\\nsamples = 0.5%\\\\nvalue = -0.737\"] ;\\n102 -> 104 ;\\n105 [label=\"mae = 0.048\\\\nsamples = 0.5%\\\\nvalue = -0.834\"] ;\\n101 -> 105 ;\\n106 [label=\"bmi <= -0.297\\\\nmae = 0.135\\\\nsamples = 2.0%\\\\nvalue = -0.625\"] ;\\n100 -> 106 ;\\n107 [label=\"sex <= -0.024\\\\nmae = 0.035\\\\nsamples = 1.0%\\\\nvalue = -0.651\"] ;\\n106 -> 107 ;\\n108 [label=\"mae = 0.04\\\\nsamples = 0.6%\\\\nvalue = -0.627\"] ;\\n107 -> 108 ;\\n109 [label=\"mae = 0.024\\\\nsamples = 0.5%\\\\nvalue = -0.675\"] ;\\n107 -> 109 ;\\n110 [label=\"sex <= -0.024\\\\nmae = 0.232\\\\nsamples = 0.9%\\\\nvalue = -0.598\"] ;\\n106 -> 110 ;\\n111 [label=\"mae = 0.041\\\\nsamples = 0.5%\\\\nvalue = -0.623\"] ;\\n110 -> 111 ;\\n112 [label=\"mae = 0.418\\\\nsamples = 0.5%\\\\nvalue = -0.596\"] ;\\n110 -> 112 ;\\n113 [label=\"region_northeast <= 0.579\\\\nmae = 0.251\\\\nsamples = 2.5%\\\\nvalue = -0.442\"] ;\\n99 -> 113 ;\\n114 [label=\"children <= 1.146\\\\nmae = 0.101\\\\nsamples = 1.8%\\\\nvalue = -0.504\"] ;\\n113 -> 114 ;\\n115 [label=\"mae = 0.139\\\\nsamples = 0.7%\\\\nvalue = -0.545\"] ;\\n114 -> 115 ;\\n116 [label=\"region_southwest <= 0.587\\\\nmae = 0.049\\\\nsamples = 1.0%\\\\nvalue = -0.453\"] ;\\n114 -> 116 ;\\n117 [label=\"mae = 0.047\\\\nsamples = 0.5%\\\\nvalue = -0.425\"] ;\\n116 -> 117 ;\\n118 [label=\"mae = 0.037\\\\nsamples = 0.6%\\\\nvalue = -0.493\"] ;\\n116 -> 118 ;\\n119 [label=\"mae = 0.53\\\\nsamples = 0.7%\\\\nvalue = -0.345\"] ;\\n113 -> 119 ;\\n120 [label=\"children <= 1.146\\\\nmae = 0.144\\\\nsamples = 9.5%\\\\nvalue = -0.385\"] ;\\n98 -> 120 ;\\n121 [label=\"children <= -0.5\\\\nmae = 0.136\\\\nsamples = 7.8%\\\\nvalue = -0.417\"] ;\\n120 -> 121 ;\\n122 [label=\"age <= 0.081\\\\nmae = 0.185\\\\nsamples = 2.0%\\\\nvalue = -0.526\"] ;\\n121 -> 122 ;\\n123 [label=\"age <= -0.061\\\\nmae = 0.266\\\\nsamples = 1.1%\\\\nvalue = -0.577\"] ;\\n122 -> 123 ;\\n124 [label=\"mae = 0.432\\\\nsamples = 0.7%\\\\nvalue = -0.586\"] ;\\n123 -> 124 ;\\n125 [label=\"mae = 0.02\\\\nsamples = 0.5%\\\\nvalue = -0.545\"] ;\\n123 -> 125 ;\\n126 [label=\"mae = 0.046\\\\nsamples = 0.8%\\\\nvalue = -0.484\"] ;\\n122 -> 126 ;\\n127 [label=\"age <= 0.081\\\\nmae = 0.103\\\\nsamples = 5.8%\\\\nvalue = -0.392\"] ;\\n121 -> 127 ;\\n128 [label=\"region_northeast <= 0.579\\\\nmae = 0.091\\\\nsamples = 3.6%\\\\nvalue = -0.431\"] ;\\n127 -> 128 ;\\n129 [label=\"children <= 0.323\\\\nmae = 0.101\\\\nsamples = 2.6%\\\\nvalue = -0.448\"] ;\\n128 -> 129 ;\\n130 [label=\"age <= -0.061\\\\nmae = 0.035\\\\nsamples = 1.1%\\\\nvalue = -0.498\"] ;\\n129 -> 130 ;\\n131 [label=\"mae = 0.021\\\\nsamples = 0.6%\\\\nvalue = -0.523\"] ;\\n130 -> 131 ;\\n132 [label=\"mae = 0.022\\\\nsamples = 0.6%\\\\nvalue = -0.448\"] ;\\n130 -> 132 ;\\n133 [label=\"age <= -0.061\\\\nmae = 0.132\\\\nsamples = 1.5%\\\\nvalue = -0.414\"] ;\\n129 -> 133 ;\\n134 [label=\"mae = 0.035\\\\nsamples = 0.8%\\\\nvalue = -0.439\"] ;\\n133 -> 134 ;\\n135 [label=\"mae = 0.229\\\\nsamples = 0.7%\\\\nvalue = -0.352\"] ;\\n133 -> 135 ;\\n136 [label=\"bmi <= -0.695\\\\nmae = 0.041\\\\nsamples = 0.9%\\\\nvalue = -0.383\"] ;\\n128 -> 136 ;\\n137 [label=\"mae = 0.023\\\\nsamples = 0.5%\\\\nvalue = -0.338\"] ;\\n136 -> 137 ;\\n138 [label=\"mae = 0.025\\\\nsamples = 0.5%\\\\nvalue = -0.412\"] ;\\n136 -> 138 ;\\n139 [label=\"region_northeast <= 0.579\\\\nmae = 0.088\\\\nsamples = 2.2%\\\\nvalue = -0.333\"] ;\\n127 -> 139 ;\\n140 [label=\"children <= 0.323\\\\nmae = 0.049\\\\nsamples = 1.7%\\\\nvalue = -0.347\"] ;\\n139 -> 140 ;\\n141 [label=\"sex <= -0.024\\\\nmae = 0.044\\\\nsamples = 1.2%\\\\nvalue = -0.376\"] ;\\n140 -> 141 ;\\n142 [label=\"mae = 0.024\\\\nsamples = 0.7%\\\\nvalue = -0.347\"] ;\\n141 -> 142 ;\\n143 [label=\"mae = 0.037\\\\nsamples = 0.5%\\\\nvalue = -0.466\"] ;\\n141 -> 143 ;\\n144 [label=\"mae = 0.021\\\\nsamples = 0.5%\\\\nvalue = -0.301\"] ;\\n140 -> 144 ;\\n145 [label=\"mae = 0.155\\\\nsamples = 0.6%\\\\nvalue = -0.248\"] ;\\n139 -> 145 ;\\n146 [label=\"age <= -0.061\\\\nmae = 0.079\\\\nsamples = 1.8%\\\\nvalue = -0.223\"] ;\\n120 -> 146 ;\\n147 [label=\"mae = 0.04\\\\nsamples = 0.6%\\\\nvalue = -0.339\"] ;\\n146 -> 147 ;\\n148 [label=\"children <= 1.968\\\\nmae = 0.06\\\\nsamples = 1.2%\\\\nvalue = -0.195\"] ;\\n146 -> 148 ;\\n149 [label=\"mae = 0.03\\\\nsamples = 0.7%\\\\nvalue = -0.219\"] ;\\n148 -> 149 ;\\n150 [label=\"mae = 0.059\\\\nsamples = 0.6%\\\\nvalue = -0.124\"] ;\\n148 -> 150 ;\\n151 [label=\"age <= 1.005\\\\nmae = 0.288\\\\nsamples = 35.8%\\\\nvalue = 0.193\"] ;\\n1 -> 151 ;\\n152 [label=\"age <= 0.579\\\\nmae = 0.223\\\\nsamples = 18.5%\\\\nvalue = -0.026\"] ;\\n151 -> 152 ;\\n153 [label=\"children <= 0.323\\\\nmae = 0.196\\\\nsamples = 7.9%\\\\nvalue = -0.154\"] ;\\n152 -> 153 ;\\n154 [label=\"age <= 0.437\\\\nmae = 0.204\\\\nsamples = 4.2%\\\\nvalue = -0.216\"] ;\\n153 -> 154 ;\\n155 [label=\"sex <= -0.024\\\\nmae = 0.168\\\\nsamples = 2.1%\\\\nvalue = -0.273\"] ;\\n154 -> 155 ;\\n156 [label=\"bmi <= 0.543\\\\nmae = 0.22\\\\nsamples = 1.4%\\\\nvalue = -0.255\"] ;\\n155 -> 156 ;\\n157 [label=\"children <= -0.5\\\\nmae = 0.251\\\\nsamples = 0.9%\\\\nvalue = -0.258\"] ;\\n156 -> 157 ;\\n158 [label=\"mae = 0.207\\\\nsamples = 0.5%\\\\nvalue = -0.282\"] ;\\n157 -> 158 ;\\n159 [label=\"mae = 0.281\\\\nsamples = 0.5%\\\\nvalue = -0.255\"] ;\\n157 -> 159 ;\\n160 [label=\"mae = 0.146\\\\nsamples = 0.5%\\\\nvalue = -0.234\"] ;\\n156 -> 160 ;\\n161 [label=\"mae = 0.051\\\\nsamples = 0.7%\\\\nvalue = -0.318\"] ;\\n155 -> 161 ;\\n162 [label=\"sex <= -0.024\\\\nmae = 0.199\\\\nsamples = 2.1%\\\\nvalue = -0.168\"] ;\\n154 -> 162 ;\\n163 [label=\"bmi <= -0.318\\\\nmae = 0.23\\\\nsamples = 1.0%\\\\nvalue = -0.13\"] ;\\n162 -> 163 ;\\n164 [label=\"mae = 0.27\\\\nsamples = 0.5%\\\\nvalue = -0.137\"] ;\\n163 -> 164 ;\\n165 [label=\"mae = 0.193\\\\nsamples = 0.6%\\\\nvalue = -0.109\"] ;\\n163 -> 165 ;\\n166 [label=\"bmi <= 0.374\\\\nmae = 0.149\\\\nsamples = 1.0%\\\\nvalue = -0.205\"] ;\\n162 -> 166 ;\\n167 [label=\"mae = 0.254\\\\nsamples = 0.6%\\\\nvalue = -0.219\"] ;\\n166 -> 167 ;\\n168 [label=\"mae = 0.015\\\\nsamples = 0.5%\\\\nvalue = -0.17\"] ;\\n166 -> 168 ;\\n169 [label=\"age <= 0.437\\\\nmae = 0.158\\\\nsamples = 3.6%\\\\nvalue = -0.109\"] ;\\n153 -> 169 ;\\n170 [label=\"region_northeast <= 0.579\\\\nmae = 0.19\\\\nsamples = 2.4%\\\\nvalue = -0.141\"] ;\\n169 -> 170 ;\\n171 [label=\"children <= 1.146\\\\nmae = 0.128\\\\nsamples = 1.7%\\\\nvalue = -0.147\"] ;\\n170 -> 171 ;\\n172 [label=\"age <= 0.366\\\\nmae = 0.107\\\\nsamples = 1.1%\\\\nvalue = -0.175\"] ;\\n171 -> 172 ;\\n173 [label=\"mae = 0.174\\\\nsamples = 0.6%\\\\nvalue = -0.196\"] ;\\n172 -> 173 ;\\n174 [label=\"mae = 0.015\\\\nsamples = 0.6%\\\\nvalue = -0.147\"] ;\\n172 -> 174 ;\\n175 [label=\"mae = 0.155\\\\nsamples = 0.6%\\\\nvalue = -0.112\"] ;\\n171 -> 175 ;\\n176 [label=\"mae = 0.305\\\\nsamples = 0.7%\\\\nvalue = -0.095\"] ;\\n170 -> 176 ;\\n177 [label=\"children <= 1.146\\\\nmae = 0.059\\\\nsamples = 1.2%\\\\nvalue = -0.044\"] ;\\n169 -> 177 ;\\n178 [label=\"mae = 0.029\\\\nsamples = 0.6%\\\\nvalue = -0.088\"] ;\\n177 -> 178 ;\\n179 [label=\"mae = 0.049\\\\nsamples = 0.7%\\\\nvalue = 0.006\"] ;\\n177 -> 179 ;\\n180 [label=\"children <= 0.323\\\\nmae = 0.192\\\\nsamples = 10.7%\\\\nvalue = 0.044\"] ;\\n152 -> 180 ;\\n181 [label=\"age <= 0.792\\\\nmae = 0.167\\\\nsamples = 6.8%\\\\nvalue = -0.006\"] ;\\n180 -> 181 ;\\n182 [label=\"children <= -0.5\\\\nmae = 0.21\\\\nsamples = 3.4%\\\\nvalue = -0.059\"] ;\\n181 -> 182 ;\\n183 [label=\"region_southeast <= 0.534\\\\nmae = 0.181\\\\nsamples = 1.5%\\\\nvalue = -0.154\"] ;\\n182 -> 183 ;\\n184 [label=\"region_southwest <= 0.587\\\\nmae = 0.242\\\\nsamples = 1.0%\\\\nvalue = -0.104\"] ;\\n183 -> 184 ;\\n185 [label=\"mae = 0.248\\\\nsamples = 0.5%\\\\nvalue = -0.063\"] ;\\n184 -> 185 ;\\n186 [label=\"mae = 0.191\\\\nsamples = 0.6%\\\\nvalue = -0.166\"] ;\\n184 -> 186 ;\\n187 [label=\"mae = 0.03\\\\nsamples = 0.5%\\\\nvalue = -0.177\"] ;\\n183 -> 187 ;\\n188 [label=\"sex <= -0.024\\\\nmae = 0.2\\\\nsamples = 1.9%\\\\nvalue = -0.019\"] ;\\n182 -> 188 ;\\n189 [label=\"age <= 0.65\\\\nmae = 0.222\\\\nsamples = 1.0%\\\\nvalue = -0.001\"] ;\\n188 -> 189 ;\\n190 [label=\"mae = 0.238\\\\nsamples = 0.5%\\\\nvalue = -0.019\"] ;\\n189 -> 190 ;\\n191 [label=\"mae = 0.199\\\\nsamples = 0.6%\\\\nvalue = 0.023\"] ;\\n189 -> 191 ;\\n192 [label=\"mae = 0.157\\\\nsamples = 0.8%\\\\nvalue = -0.059\"] ;\\n188 -> 192 ;\\n193 [label=\"age <= 0.934\\\\nmae = 0.105\\\\nsamples = 3.5%\\\\nvalue = 0.034\"] ;\\n181 -> 193 ;\\n194 [label=\"sex <= -0.024\\\\nmae = 0.087\\\\nsamples = 2.2%\\\\nvalue = 0.019\"] ;\\n193 -> 194 ;\\n195 [label=\"region_southwest <= 0.587\\\\nmae = 0.125\\\\nsamples = 1.0%\\\\nvalue = 0.039\"] ;\\n194 -> 195 ;\\n196 [label=\"mae = 0.204\\\\nsamples = 0.6%\\\\nvalue = 0.06\"] ;\\n195 -> 196 ;\\n197 [label=\"mae = 0.021\\\\nsamples = 0.5%\\\\nvalue = 0.012\"] ;\\n195 -> 197 ;\\n198 [label=\"children <= -0.5\\\\nmae = 0.039\\\\nsamples = 1.2%\\\\nvalue = -0.027\"] ;\\n194 -> 198 ;\\n199 [label=\"mae = 0.026\\\\nsamples = 0.7%\\\\nvalue = -0.054\"] ;\\n198 -> 199 ;\\n200 [label=\"mae = 0.026\\\\nsamples = 0.6%\\\\nvalue = 0.02\"] ;\\n198 -> 200 ;\\n201 [label=\"children <= -0.5\\\\nmae = 0.125\\\\nsamples = 1.2%\\\\nvalue = 0.06\"] ;\\n193 -> 201 ;\\n202 [label=\"mae = 0.18\\\\nsamples = 0.7%\\\\nvalue = 0.036\"] ;\\n201 -> 202 ;\\n203 [label=\"mae = 0.037\\\\nsamples = 0.6%\\\\nvalue = 0.118\"] ;\\n201 -> 203 ;\\n204 [label=\"age <= 0.792\\\\nmae = 0.175\\\\nsamples = 3.8%\\\\nvalue = 0.158\"] ;\\n180 -> 204 ;\\n205 [label=\"children <= 1.968\\\\nmae = 0.139\\\\nsamples = 2.1%\\\\nvalue = 0.098\"] ;\\n204 -> 205 ;\\n206 [label=\"age <= 0.65\\\\nmae = 0.147\\\\nsamples = 1.7%\\\\nvalue = 0.075\"] ;\\n205 -> 206 ;\\n207 [label=\"mae = 0.052\\\\nsamples = 0.5%\\\\nvalue = -0.003\"] ;\\n206 -> 207 ;\\n208 [label=\"bmi <= 0.12\\\\nmae = 0.17\\\\nsamples = 1.2%\\\\nvalue = 0.098\"] ;\\n206 -> 208 ;\\n209 [label=\"mae = 0.27\\\\nsamples = 0.7%\\\\nvalue = 0.127\"] ;\\n208 -> 209 ;\\n210 [label=\"mae = 0.039\\\\nsamples = 0.6%\\\\nvalue = 0.08\"] ;\\n208 -> 210 ;\\n211 [label=\"mae = 0.033\\\\nsamples = 0.5%\\\\nvalue = 0.183\"] ;\\n205 -> 211 ;\\n212 [label=\"children <= 1.146\\\\nmae = 0.173\\\\nsamples = 1.7%\\\\nvalue = 0.212\"] ;\\n204 -> 212 ;\\n213 [label=\"bmi <= 0.371\\\\nmae = 0.215\\\\nsamples = 0.9%\\\\nvalue = 0.202\"] ;\\n212 -> 213 ;\\n214 [label=\"mae = 0.21\\\\nsamples = 0.5%\\\\nvalue = 0.208\"] ;\\n213 -> 214 ;\\n215 [label=\"mae = 0.209\\\\nsamples = 0.5%\\\\nvalue = 0.158\"] ;\\n213 -> 215 ;\\n216 [label=\"mae = 0.108\\\\nsamples = 0.7%\\\\nvalue = 0.249\"] ;\\n212 -> 216 ;\\n217 [label=\"age <= 1.361\\\\nmae = 0.186\\\\nsamples = 17.3%\\\\nvalue = 0.399\"] ;\\n151 -> 217 ;\\n218 [label=\"children <= 0.323\\\\nmae = 0.148\\\\nsamples = 9.3%\\\\nvalue = 0.278\"] ;\\n217 -> 218 ;\\n219 [label=\"age <= 1.219\\\\nmae = 0.135\\\\nsamples = 7.0%\\\\nvalue = 0.24\"] ;\\n218 -> 219 ;\\n220 [label=\"region_northeast <= 0.579\\\\nmae = 0.155\\\\nsamples = 3.8%\\\\nvalue = 0.185\"] ;\\n219 -> 220 ;\\n221 [label=\"sex <= -0.024\\\\nmae = 0.161\\\\nsamples = 2.6%\\\\nvalue = 0.155\"] ;\\n220 -> 221 ;\\n222 [label=\"bmi <= -0.246\\\\nmae = 0.128\\\\nsamples = 1.1%\\\\nvalue = 0.188\"] ;\\n221 -> 222 ;\\n223 [label=\"mae = 0.216\\\\nsamples = 0.6%\\\\nvalue = 0.205\"] ;\\n222 -> 223 ;\\n224 [label=\"mae = 0.031\\\\nsamples = 0.6%\\\\nvalue = 0.15\"] ;\\n222 -> 224 ;\\n225 [label=\"region_southwest <= 0.587\\\\nmae = 0.171\\\\nsamples = 1.5%\\\\nvalue = 0.129\"] ;\\n221 -> 225 ;\\n226 [label=\"mae = 0.247\\\\nsamples = 0.7%\\\\nvalue = 0.156\"] ;\\n225 -> 226 ;\\n227 [label=\"mae = 0.104\\\\nsamples = 0.8%\\\\nvalue = 0.122\"] ;\\n225 -> 227 ;\\n228 [label=\"children <= -0.5\\\\nmae = 0.114\\\\nsamples = 1.2%\\\\nvalue = 0.255\"] ;\\n220 -> 228 ;\\n229 [label=\"mae = 0.061\\\\nsamples = 0.7%\\\\nvalue = 0.208\"] ;\\n228 -> 229 ;\\n230 [label=\"mae = 0.174\\\\nsamples = 0.5%\\\\nvalue = 0.296\"] ;\\n228 -> 230 ;\\n231 [label=\"sex <= -0.024\\\\nmae = 0.081\\\\nsamples = 3.2%\\\\nvalue = 0.296\"] ;\\n219 -> 231 ;\\n232 [label=\"bmi <= 0.194\\\\nmae = 0.083\\\\nsamples = 1.1%\\\\nvalue = 0.322\"] ;\\n231 -> 232 ;\\n233 [label=\"mae = 0.021\\\\nsamples = 0.7%\\\\nvalue = 0.304\"] ;\\n232 -> 233 ;\\n234 [label=\"mae = 0.141\\\\nsamples = 0.5%\\\\nvalue = 0.358\"] ;\\n232 -> 234 ;\\n235 [label=\"region_northeast <= 0.579\\\\nmae = 0.067\\\\nsamples = 2.1%\\\\nvalue = 0.263\"] ;\\n231 -> 235 ;\\n236 [label=\"region_northwest <= 0.611\\\\nmae = 0.036\\\\nsamples = 1.5%\\\\nvalue = 0.236\"] ;\\n235 -> 236 ;\\n237 [label=\"age <= 1.29\\\\nmae = 0.034\\\\nsamples = 1.0%\\\\nvalue = 0.235\"] ;\\n236 -> 237 ;\\n238 [label=\"mae = 0.04\\\\nsamples = 0.5%\\\\nvalue = 0.175\"] ;\\n237 -> 238 ;\\n239 [label=\"mae = 0.019\\\\nsamples = 0.6%\\\\nvalue = 0.236\"] ;\\n237 -> 239 ;\\n240 [label=\"mae = 0.032\\\\nsamples = 0.5%\\\\nvalue = 0.285\"] ;\\n236 -> 240 ;\\n241 [label=\"mae = 0.111\\\\nsamples = 0.6%\\\\nvalue = 0.323\"] ;\\n235 -> 241 ;\\n242 [label=\"age <= 1.148\\\\nmae = 0.114\\\\nsamples = 2.2%\\\\nvalue = 0.377\"] ;\\n218 -> 242 ;\\n243 [label=\"children <= 1.146\\\\nmae = 0.135\\\\nsamples = 1.5%\\\\nvalue = 0.364\"] ;\\n242 -> 243 ;\\n244 [label=\"mae = 0.048\\\\nsamples = 0.6%\\\\nvalue = 0.315\"] ;\\n243 -> 244 ;\\n245 [label=\"bmi <= 0.131\\\\nmae = 0.173\\\\nsamples = 0.9%\\\\nvalue = 0.377\"] ;\\n243 -> 245 ;\\n246 [label=\"mae = 0.028\\\\nsamples = 0.5%\\\\nvalue = 0.374\"] ;\\n245 -> 246 ;\\n247 [label=\"mae = 0.316\\\\nsamples = 0.5%\\\\nvalue = 0.38\"] ;\\n245 -> 247 ;\\n248 [label=\"mae = 0.05\\\\nsamples = 0.7%\\\\nvalue = 0.418\"] ;\\n242 -> 248 ;\\n249 [label=\"children <= -0.5\\\\nmae = 0.131\\\\nsamples = 8.0%\\\\nvalue = 0.518\"] ;\\n217 -> 249 ;\\n250 [label=\"age <= 1.574\\\\nmae = 0.086\\\\nsamples = 5.2%\\\\nvalue = 0.482\"] ;\\n249 -> 250 ;\\n251 [label=\"age <= 1.503\\\\nmae = 0.104\\\\nsamples = 2.6%\\\\nvalue = 0.425\"] ;\\n250 -> 251 ;\\n252 [label=\"age <= 1.432\\\\nmae = 0.107\\\\nsamples = 1.6%\\\\nvalue = 0.405\"] ;\\n251 -> 252 ;\\n253 [label=\"mae = 0.106\\\\nsamples = 0.7%\\\\nvalue = 0.368\"] ;\\n252 -> 253 ;\\n254 [label=\"bmi <= -0.325\\\\nmae = 0.1\\\\nsamples = 0.9%\\\\nvalue = 0.409\"] ;\\n252 -> 254 ;\\n255 [label=\"mae = 0.178\\\\nsamples = 0.5%\\\\nvalue = 0.442\"] ;\\n254 -> 255 ;\\n256 [label=\"mae = 0.015\\\\nsamples = 0.5%\\\\nvalue = 0.409\"] ;\\n254 -> 256 ;\\n257 [label=\"sex <= -0.024\\\\nmae = 0.077\\\\nsamples = 1.0%\\\\nvalue = 0.458\"] ;\\n251 -> 257 ;\\n258 [label=\"mae = 0.105\\\\nsamples = 0.6%\\\\nvalue = 0.493\"] ;\\n257 -> 258 ;\\n259 [label=\"mae = 0.029\\\\nsamples = 0.5%\\\\nvalue = 0.434\"] ;\\n257 -> 259 ;\\n260 [label=\"region_northeast <= 0.579\\\\nmae = 0.04\\\\nsamples = 2.6%\\\\nvalue = 0.522\"] ;\\n250 -> 260 ;\\n261 [label=\"sex <= -0.024\\\\nmae = 0.033\\\\nsamples = 1.9%\\\\nvalue = 0.498\"] ;\\n260 -> 261 ;\\n262 [label=\"age <= 1.645\\\\nmae = 0.032\\\\nsamples = 1.1%\\\\nvalue = 0.522\"] ;\\n261 -> 262 ;\\n263 [label=\"mae = 0.007\\\\nsamples = 0.6%\\\\nvalue = 0.496\"] ;\\n262 -> 263 ;\\n264 [label=\"mae = 0.017\\\\nsamples = 0.6%\\\\nvalue = 0.559\"] ;\\n262 -> 264 ;\\n265 [label=\"mae = 0.02\\\\nsamples = 0.7%\\\\nvalue = 0.478\"] ;\\n261 -> 265 ;\\n266 [label=\"mae = 0.024\\\\nsamples = 0.7%\\\\nvalue = 0.579\"] ;\\n260 -> 266 ;\\n267 [label=\"age <= 1.574\\\\nmae = 0.178\\\\nsamples = 2.8%\\\\nvalue = 0.602\"] ;\\n249 -> 267 ;\\n268 [label=\"bmi <= 0.363\\\\nmae = 0.195\\\\nsamples = 1.4%\\\\nvalue = 0.539\"] ;\\n267 -> 268 ;\\n269 [label=\"sex <= -0.024\\\\nmae = 0.06\\\\nsamples = 0.9%\\\\nvalue = 0.502\"] ;\\n268 -> 269 ;\\n270 [label=\"mae = 0.035\\\\nsamples = 0.5%\\\\nvalue = 0.539\"] ;\\n269 -> 270 ;\\n271 [label=\"mae = 0.029\\\\nsamples = 0.5%\\\\nvalue = 0.428\"] ;\\n269 -> 271 ;\\n272 [label=\"mae = 0.339\\\\nsamples = 0.5%\\\\nvalue = 1.14\"] ;\\n268 -> 272 ;\\n273 [label=\"age <= 1.716\\\\nmae = 0.129\\\\nsamples = 1.4%\\\\nvalue = 0.634\"] ;\\n267 -> 273 ;\\n274 [label=\"children <= 0.323\\\\nmae = 0.126\\\\nsamples = 0.9%\\\\nvalue = 0.624\"] ;\\n273 -> 274 ;\\n275 [label=\"mae = 0.241\\\\nsamples = 0.5%\\\\nvalue = 0.599\"] ;\\n274 -> 275 ;\\n276 [label=\"mae = 0.006\\\\nsamples = 0.5%\\\\nvalue = 0.624\"] ;\\n274 -> 276 ;\\n277 [label=\"mae = 0.123\\\\nsamples = 0.5%\\\\nvalue = 0.649\"] ;\\n273 -> 277 ;\\n278 [label=\"bmi <= -0.075\\\\nmae = 0.447\\\\nsamples = 20.6%\\\\nvalue = 1.252\"] ;\\n0 -> 278 [labeldistance=2.5, labelangle=-45, headlabel=\"False\"] ;\\n279 [label=\"age <= 0.117\\\\nmae = 0.156\\\\nsamples = 9.9%\\\\nvalue = 0.836\"] ;\\n278 -> 279 ;\\n280 [label=\"age <= -0.701\\\\nmae = 0.105\\\\nsamples = 6.0%\\\\nvalue = 0.732\"] ;\\n279 -> 280 ;\\n281 [label=\"bmi <= -1.179\\\\nmae = 0.102\\\\nsamples = 3.4%\\\\nvalue = 0.683\"] ;\\n280 -> 281 ;\\n282 [label=\"age <= -0.914\\\\nmae = 0.065\\\\nsamples = 1.3%\\\\nvalue = 0.614\"] ;\\n281 -> 282 ;\\n283 [label=\"mae = 0.076\\\\nsamples = 0.8%\\\\nvalue = 0.594\"] ;\\n282 -> 283 ;\\n284 [label=\"mae = 0.013\\\\nsamples = 0.5%\\\\nvalue = 0.654\"] ;\\n282 -> 284 ;\\n285 [label=\"age <= -1.269\\\\nmae = 0.097\\\\nsamples = 2.1%\\\\nvalue = 0.715\"] ;\\n281 -> 285 ;\\n286 [label=\"sex <= -0.024\\\\nmae = 0.088\\\\nsamples = 1.2%\\\\nvalue = 0.697\"] ;\\n285 -> 286 ;\\n287 [label=\"mae = 0.137\\\\nsamples = 0.7%\\\\nvalue = 0.717\"] ;\\n286 -> 287 ;\\n288 [label=\"mae = 0.024\\\\nsamples = 0.6%\\\\nvalue = 0.678\"] ;\\n286 -> 288 ;\\n289 [label=\"mae = 0.093\\\\nsamples = 0.8%\\\\nvalue = 0.741\"] ;\\n285 -> 289 ;\\n290 [label=\"bmi <= -0.947\\\\nmae = 0.066\\\\nsamples = 2.6%\\\\nvalue = 0.805\"] ;\\n280 -> 290 ;\\n291 [label=\"sex <= -0.024\\\\nmae = 0.042\\\\nsamples = 0.9%\\\\nvalue = 0.714\"] ;\\n290 -> 291 ;\\n292 [label=\"mae = 0.038\\\\nsamples = 0.5%\\\\nvalue = 0.745\"] ;\\n291 -> 292 ;\\n293 [label=\"mae = 0.036\\\\nsamples = 0.5%\\\\nvalue = 0.698\"] ;\\n291 -> 293 ;\\n294 [label=\"age <= -0.096\\\\nmae = 0.045\\\\nsamples = 1.7%\\\\nvalue = 0.849\"] ;\\n290 -> 294 ;\\n295 [label=\"bmi <= -0.52\\\\nmae = 0.037\\\\nsamples = 1.2%\\\\nvalue = 0.837\"] ;\\n294 -> 295 ;\\n296 [label=\"mae = 0.024\\\\nsamples = 0.5%\\\\nvalue = 0.786\"] ;\\n295 -> 296 ;\\n297 [label=\"mae = 0.031\\\\nsamples = 0.7%\\\\nvalue = 0.858\"] ;\\n295 -> 297 ;\\n298 [label=\"mae = 0.033\\\\nsamples = 0.5%\\\\nvalue = 0.918\"] ;\\n294 -> 298 ;\\n299 [label=\"age <= 1.219\\\\nmae = 0.107\\\\nsamples = 3.9%\\\\nvalue = 1.008\"] ;\\n279 -> 299 ;\\n300 [label=\"age <= 0.508\\\\nmae = 0.093\\\\nsamples = 3.0%\\\\nvalue = 0.973\"] ;\\n299 -> 300 ;\\n301 [label=\"bmi <= -1.167\\\\nmae = 0.13\\\\nsamples = 1.3%\\\\nvalue = 0.901\"] ;\\n300 -> 301 ;\\n302 [label=\"mae = 0.103\\\\nsamples = 0.6%\\\\nvalue = 0.831\"] ;\\n301 -> 302 ;\\n303 [label=\"mae = 0.124\\\\nsamples = 0.7%\\\\nvalue = 0.922\"] ;\\n301 -> 303 ;\\n304 [label=\"children <= 1.146\\\\nmae = 0.036\\\\nsamples = 1.7%\\\\nvalue = 0.999\"] ;\\n300 -> 304 ;\\n305 [label=\"bmi <= -0.711\\\\nmae = 0.034\\\\nsamples = 1.0%\\\\nvalue = 0.976\"] ;\\n304 -> 305 ;\\n306 [label=\"mae = 0.032\\\\nsamples = 0.6%\\\\nvalue = 0.963\"] ;\\n305 -> 306 ;\\n307 [label=\"mae = 0.031\\\\nsamples = 0.5%\\\\nvalue = 1.006\"] ;\\n305 -> 307 ;\\n308 [label=\"mae = 0.018\\\\nsamples = 0.7%\\\\nvalue = 1.028\"] ;\\n304 -> 308 ;\\n309 [label=\"bmi <= -0.318\\\\nmae = 0.033\\\\nsamples = 0.9%\\\\nvalue = 1.144\"] ;\\n299 -> 309 ;\\n310 [label=\"mae = 0.031\\\\nsamples = 0.5%\\\\nvalue = 1.135\"] ;\\n309 -> 310 ;\\n311 [label=\"mae = 0.029\\\\nsamples = 0.5%\\\\nvalue = 1.168\"] ;\\n309 -> 311 ;\\n312 [label=\"age <= 0.188\\\\nmae = 0.338\\\\nsamples = 10.7%\\\\nvalue = 1.619\"] ;\\n278 -> 312 ;\\n313 [label=\"age <= -0.843\\\\nmae = 0.187\\\\nsamples = 5.9%\\\\nvalue = 1.419\"] ;\\n312 -> 313 ;\\n314 [label=\"bmi <= 0.836\\\\nmae = 0.088\\\\nsamples = 3.4%\\\\nvalue = 1.334\"] ;\\n313 -> 314 ;\\n315 [label=\"children <= 0.323\\\\nmae = 0.041\\\\nsamples = 2.1%\\\\nvalue = 1.274\"] ;\\n314 -> 315 ;\\n316 [label=\"bmi <= 0.089\\\\nmae = 0.03\\\\nsamples = 1.4%\\\\nvalue = 1.26\"] ;\\n315 -> 316 ;\\n317 [label=\"mae = 0.011\\\\nsamples = 0.5%\\\\nvalue = 1.237\"] ;\\n316 -> 317 ;\\n318 [label=\"age <= -1.34\\\\nmae = 0.027\\\\nsamples = 0.9%\\\\nvalue = 1.274\"] ;\\n316 -> 318 ;\\n319 [label=\"mae = 0.035\\\\nsamples = 0.5%\\\\nvalue = 1.272\"] ;\\n318 -> 319 ;\\n320 [label=\"mae = 0.019\\\\nsamples = 0.5%\\\\nvalue = 1.276\"] ;\\n318 -> 320 ;\\n321 [label=\"mae = 0.023\\\\nsamples = 0.7%\\\\nvalue = 1.331\"] ;\\n315 -> 321 ;\\n322 [label=\"bmi <= 1.751\\\\nmae = 0.071\\\\nsamples = 1.3%\\\\nvalue = 1.441\"] ;\\n314 -> 322 ;\\n323 [label=\"mae = 0.032\\\\nsamples = 0.8%\\\\nvalue = 1.419\"] ;\\n322 -> 323 ;\\n324 [label=\"mae = 0.072\\\\nsamples = 0.5%\\\\nvalue = 1.521\"] ;\\n322 -> 324 ;\\n325 [label=\"children <= -0.5\\\\nmae = 0.231\\\\nsamples = 2.5%\\\\nvalue = 1.567\"] ;\\n313 -> 325 ;\\n326 [label=\"mae = 0.221\\\\nsamples = 0.7%\\\\nvalue = 1.405\"] ;\\n325 -> 326 ;\\n327 [label=\"bmi <= 1.223\\\\nmae = 0.204\\\\nsamples = 1.8%\\\\nvalue = 1.58\"] ;\\n325 -> 327 ;\\n328 [label=\"bmi <= 0.595\\\\nmae = 0.124\\\\nsamples = 1.3%\\\\nvalue = 1.561\"] ;\\n327 -> 328 ;\\n329 [label=\"mae = 0.074\\\\nsamples = 0.6%\\\\nvalue = 1.569\"] ;\\n328 -> 329 ;\\n330 [label=\"mae = 0.158\\\\nsamples = 0.7%\\\\nvalue = 1.552\"] ;\\n328 -> 330 ;\\n331 [label=\"mae = 0.31\\\\nsamples = 0.5%\\\\nvalue = 1.798\"] ;\\n327 -> 331 ;\\n332 [label=\"age <= 1.219\\\\nmae = 0.31\\\\nsamples = 4.8%\\\\nvalue = 1.916\"] ;\\n312 -> 332 ;\\n333 [label=\"bmi <= 1.027\\\\nmae = 0.294\\\\nsamples = 3.1%\\\\nvalue = 1.781\"] ;\\n332 -> 333 ;\\n334 [label=\"age <= 0.792\\\\nmae = 0.281\\\\nsamples = 2.2%\\\\nvalue = 1.728\"] ;\\n333 -> 334 ;\\n335 [label=\"bmi <= 0.172\\\\nmae = 0.297\\\\nsamples = 1.4%\\\\nvalue = 1.674\"] ;\\n334 -> 335 ;\\n336 [label=\"mae = 0.761\\\\nsamples = 0.5%\\\\nvalue = 1.53\"] ;\\n335 -> 336 ;\\n337 [label=\"bmi <= 0.699\\\\nmae = 0.039\\\\nsamples = 0.9%\\\\nvalue = 1.683\"] ;\\n335 -> 337 ;\\n338 [label=\"mae = 0.035\\\\nsamples = 0.5%\\\\nvalue = 1.674\"] ;\\n337 -> 338 ;\\n339 [label=\"mae = 0.034\\\\nsamples = 0.5%\\\\nvalue = 1.719\"] ;\\n337 -> 339 ;\\n340 [label=\"mae = 0.184\\\\nsamples = 0.8%\\\\nvalue = 1.822\"] ;\\n334 -> 340 ;\\n341 [label=\"mae = 0.15\\\\nsamples = 0.8%\\\\nvalue = 1.998\"] ;\\n333 -> 341 ;\\n342 [label=\"bmi <= 0.957\\\\nmae = 0.168\\\\nsamples = 1.7%\\\\nvalue = 2.17\"] ;\\n332 -> 342 ;\\n343 [label=\"region_southwest <= 0.587\\\\nmae = 0.13\\\\nsamples = 1.0%\\\\nvalue = 2.058\"] ;\\n342 -> 343 ;\\n344 [label=\"mae = 0.058\\\\nsamples = 0.6%\\\\nvalue = 1.997\"] ;\\n343 -> 344 ;\\n345 [label=\"mae = 0.136\\\\nsamples = 0.5%\\\\nvalue = 2.148\"] ;\\n343 -> 345 ;\\n346 [label=\"mae = 0.096\\\\nsamples = 0.7%\\\\nvalue = 2.325\"] ;\\n342 -> 346 ;\\n}', is_classification=False), highlight_spaces=None, transition_features=None, image=None)"
      ]
     },
     "execution_count": 33,
     "metadata": {},
     "output_type": "execute_result"
    }
   ],
   "source": [
    "explain_weights(model_tree, feature_names = feature_names)"
   ]
  },
  {
   "cell_type": "raw",
   "metadata": {},
   "source": [
    "Conclusion: The most impact factors are also 'smoker' and 'age', but in this model 'age' is more significant"
   ]
  },
  {
   "cell_type": "markdown",
   "metadata": {},
   "source": [
    "### Conclusion:\n",
    "#### 1) The best implemented model gives results with a mean absolute error of ~1600 and a r2 score of ~0.87. Models with a r2 score above 0.8 can be considered quite good (the correlation coefficient exceeds 90%).\n",
    "#### 2) The most impact factors are 'age' and 'smoker'\n",
    "\n",
    "##### I tried also RandomForestRegressor, which gave the result a little less than Decision Tree Regression"
   ]
  },
  {
   "cell_type": "code",
   "execution_count": null,
   "metadata": {},
   "outputs": [],
   "source": []
  }
 ],
 "metadata": {
  "kernelspec": {
   "display_name": "Python 3",
   "language": "python",
   "name": "python3"
  },
  "language_info": {
   "codemirror_mode": {
    "name": "ipython",
    "version": 3
   },
   "file_extension": ".py",
   "mimetype": "text/x-python",
   "name": "python",
   "nbconvert_exporter": "python",
   "pygments_lexer": "ipython3",
   "version": "3.7.4"
  }
 },
 "nbformat": 4,
 "nbformat_minor": 2
}
